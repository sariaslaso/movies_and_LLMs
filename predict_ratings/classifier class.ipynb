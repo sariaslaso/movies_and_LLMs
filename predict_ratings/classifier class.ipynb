{
 "cells": [
  {
   "cell_type": "code",
   "execution_count": 40,
   "id": "edbf794e",
   "metadata": {},
   "outputs": [],
   "source": [
    "from transformers import AutoTokenizer\n",
    "from transformers import AutoModelForSequenceClassification\n",
    "\n",
    "import torch\n",
    "\n",
    "import numpy as np"
   ]
  },
  {
   "cell_type": "code",
   "execution_count": 5,
   "id": "4207818f",
   "metadata": {},
   "outputs": [],
   "source": [
    "model = AutoModelForSequenceClassification.from_pretrained('model/fine_tuned_BERT')\n",
    "tokenizer = AutoTokenizer.from_pretrained(\"tokenizer\")"
   ]
  },
  {
   "cell_type": "code",
   "execution_count": 70,
   "id": "36ca0e9a",
   "metadata": {},
   "outputs": [],
   "source": [
    "# helper functions\n",
    "\n",
    "def preProcessInput(titles, summaries, genres):\n",
    "# titles: list of strings in the form: [title_1, title_2, ...]\n",
    "# summaries: list of summaries(strings) in the form: [summary_1, summary_2, ...]\n",
    "# genres: list of genres in the form: [[genres_1], [genres_2], ...] with genres_i = \"genres_i1\", \"genres_i2\", ...\n",
    "    \n",
    "    inputs = []\n",
    "    \n",
    "    for i in range(len(titles)):\n",
    "        # normalice spacing in the titles\n",
    "        title_i = (' ').join(titles[i].split())\n",
    "        \n",
    "        # normalice spacing in the summaries\n",
    "        summary_i = (' ').join(summaries[i].split())\n",
    "        \n",
    "        if genres[i] == []:\n",
    "            genres_i = 'NonGiven'\n",
    "        else:\n",
    "            # convert the lists of genres to strings separated by '|'\n",
    "            genres_i = '|'.join(genres[i])\n",
    "            \n",
    "        input_i = {'title': title_i, 'summary': summary_i, 'genres': genres_i}\n",
    "        inputs.append(input_i)\n",
    "        \n",
    "    return inputs\n",
    "\n",
    "\n",
    "def tokenizeInputs(inputs):\n",
    "    \n",
    "    title_mod = [movie['title'] + '<SEP>' + movie['summary'] for movie in inputs]\n",
    "    genres_list = [movie['genres'] for movie in inputs]\n",
    "    \n",
    "        \n",
    "    return tokenizer(title_mod, genres_list, padding = 'max_length', truncation = True, \n",
    "                     return_tensors = \"pt\")\n",
    "\n",
    "\n",
    "def modelPredictions(model, tokenized_input):\n",
    "# generate model predictions using the model logits and tokenized input and determine \n",
    "# the most likely rating using argmax\n",
    "    \n",
    "    with torch.no_grad():\n",
    "        model_output = model(**tokenized_input)\n",
    "        \n",
    "    logits = model_output.logits\n",
    "    predictions = np.argmax(logits, axis = -1)\n",
    "    \n",
    "    return predictions\n",
    "\n",
    "# target_names = ['bad_rating', 'average_rating', 'good_rating']            \n",
    "            \n",
    "    "
   ]
  },
  {
   "cell_type": "code",
   "execution_count": 27,
   "id": "7cc5d1e1",
   "metadata": {},
   "outputs": [],
   "source": [
    "movies = preProcessInput([\"this is the    first title\", \"here is another title\"], \n",
    "                [\"the first movie   is about icecream\", \"the second movie is about forests\"], \n",
    "                [[\"Action\", \"Fiction\"], [\"Romance\", \"Thriller\"]])"
   ]
  },
  {
   "cell_type": "code",
   "execution_count": 28,
   "id": "91364035",
   "metadata": {},
   "outputs": [
    {
     "data": {
      "text/plain": [
       "[{'title': 'this is the first title',\n",
       "  'summary': 'the first movie is about icecream',\n",
       "  'genres': 'Action|Fiction'},\n",
       " {'title': 'here is another title',\n",
       "  'summary': 'the second movie is about forests',\n",
       "  'genres': 'Romance|Thriller'}]"
      ]
     },
     "execution_count": 28,
     "metadata": {},
     "output_type": "execute_result"
    }
   ],
   "source": [
    "movies"
   ]
  },
  {
   "cell_type": "code",
   "execution_count": 29,
   "id": "d3fa7d74",
   "metadata": {},
   "outputs": [
    {
     "data": {
      "text/plain": [
       "['Action|Fiction', 'Romance|Thriller']"
      ]
     },
     "execution_count": 29,
     "metadata": {},
     "output_type": "execute_result"
    }
   ],
   "source": [
    "[m['genres'] for m in movies]"
   ]
  },
  {
   "cell_type": "code",
   "execution_count": 30,
   "id": "ba516c6a",
   "metadata": {},
   "outputs": [
    {
     "data": {
      "text/plain": [
       "{'input_ids': tensor([[ 101, 1142, 1110,  ...,    0,    0,    0],\n",
       "        [ 101, 1303, 1110,  ...,    0,    0,    0]]), 'token_type_ids': tensor([[0, 0, 0,  ..., 0, 0, 0],\n",
       "        [0, 0, 0,  ..., 0, 0, 0]]), 'attention_mask': tensor([[1, 1, 1,  ..., 0, 0, 0],\n",
       "        [1, 1, 1,  ..., 0, 0, 0]])}"
      ]
     },
     "execution_count": 30,
     "metadata": {},
     "output_type": "execute_result"
    }
   ],
   "source": [
    "tokenized_input = tokenizeInputs(movies)\n",
    "tokenized_input"
   ]
  },
  {
   "cell_type": "code",
   "execution_count": 31,
   "id": "14d84f69",
   "metadata": {},
   "outputs": [
    {
     "data": {
      "text/plain": [
       "torch.Tensor"
      ]
     },
     "execution_count": 31,
     "metadata": {},
     "output_type": "execute_result"
    }
   ],
   "source": [
    "type(tokenized_input.input_ids[0])"
   ]
  },
  {
   "cell_type": "code",
   "execution_count": 38,
   "id": "143c69ff",
   "metadata": {},
   "outputs": [
    {
     "data": {
      "text/plain": [
       "SequenceClassifierOutput(loss=None, logits=tensor([[-2.9529,  5.2467, -2.4924],\n",
       "        [-2.3565,  3.7838, -1.5596]], grad_fn=<AddmmBackward0>), hidden_states=None, attentions=None)"
      ]
     },
     "execution_count": 38,
     "metadata": {},
     "output_type": "execute_result"
    }
   ],
   "source": [
    "model(**tokenized_input)"
   ]
  },
  {
   "cell_type": "code",
   "execution_count": 36,
   "id": "639bfc70",
   "metadata": {},
   "outputs": [],
   "source": [
    "with torch.no_grad():\n",
    "    \n",
    "    a = model(**tokenized_input)\n",
    "    a"
   ]
  },
  {
   "cell_type": "code",
   "execution_count": 44,
   "id": "2f7b5523",
   "metadata": {},
   "outputs": [
    {
     "data": {
      "text/plain": [
       "tensor([[-2.9529,  5.2467, -2.4924],\n",
       "        [-2.3565,  3.7838, -1.5596]])"
      ]
     },
     "execution_count": 44,
     "metadata": {},
     "output_type": "execute_result"
    }
   ],
   "source": [
    "logits = a.logits\n",
    "logits"
   ]
  },
  {
   "cell_type": "code",
   "execution_count": 61,
   "id": "e6b3d95d",
   "metadata": {},
   "outputs": [
    {
     "data": {
      "text/plain": [
       "tensor([1, 1])"
      ]
     },
     "execution_count": 61,
     "metadata": {},
     "output_type": "execute_result"
    }
   ],
   "source": [
    "predictions = np.argmax(logits, axis = -1)\n",
    "predictions"
   ]
  },
  {
   "cell_type": "code",
   "execution_count": 62,
   "id": "f501d324",
   "metadata": {},
   "outputs": [
    {
     "data": {
      "text/plain": [
       "2"
      ]
     },
     "execution_count": 62,
     "metadata": {},
     "output_type": "execute_result"
    }
   ],
   "source": [
    "len(predictions)"
   ]
  },
  {
   "cell_type": "code",
   "execution_count": 67,
   "id": "cece7100",
   "metadata": {},
   "outputs": [
    {
     "name": "stdout",
     "output_type": "stream",
     "text": [
      "tensor(True)\n",
      "tensor(True)\n"
     ]
    }
   ],
   "source": [
    "for i in range(len(predictions)):\n",
    "    print(predictions[i] == 1)"
   ]
  },
  {
   "cell_type": "code",
   "execution_count": 69,
   "id": "ad75da85",
   "metadata": {},
   "outputs": [
    {
     "name": "stdout",
     "output_type": "stream",
     "text": [
      "tensor(True)\n",
      "tensor(True)\n"
     ]
    }
   ],
   "source": [
    "for pred in predictions:\n",
    "    print(pred == 1)"
   ]
  },
  {
   "cell_type": "code",
   "execution_count": 71,
   "id": "2587a22a",
   "metadata": {},
   "outputs": [
    {
     "data": {
      "text/plain": [
       "tensor([1, 1])"
      ]
     },
     "execution_count": 71,
     "metadata": {},
     "output_type": "execute_result"
    }
   ],
   "source": [
    "modelPredictions(model, tokenized_input)"
   ]
  },
  {
   "cell_type": "code",
   "execution_count": null,
   "id": "7dc442c2",
   "metadata": {},
   "outputs": [],
   "source": []
  },
  {
   "cell_type": "code",
   "execution_count": null,
   "id": "48338a6c",
   "metadata": {},
   "outputs": [],
   "source": []
  },
  {
   "cell_type": "code",
   "execution_count": null,
   "id": "87c7d552",
   "metadata": {},
   "outputs": [],
   "source": []
  },
  {
   "cell_type": "code",
   "execution_count": null,
   "id": "0970648a",
   "metadata": {},
   "outputs": [],
   "source": []
  },
  {
   "cell_type": "code",
   "execution_count": null,
   "id": "f60260a3",
   "metadata": {},
   "outputs": [],
   "source": []
  },
  {
   "cell_type": "code",
   "execution_count": null,
   "id": "83e7f9ca",
   "metadata": {},
   "outputs": [],
   "source": []
  }
 ],
 "metadata": {
  "kernelspec": {
   "display_name": "Python 3 (ipykernel)",
   "language": "python",
   "name": "python3"
  },
  "language_info": {
   "codemirror_mode": {
    "name": "ipython",
    "version": 3
   },
   "file_extension": ".py",
   "mimetype": "text/x-python",
   "name": "python",
   "nbconvert_exporter": "python",
   "pygments_lexer": "ipython3",
   "version": "3.9.18"
  }
 },
 "nbformat": 4,
 "nbformat_minor": 5
}
