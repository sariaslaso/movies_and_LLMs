{
 "cells": [
  {
   "cell_type": "code",
   "execution_count": 1,
   "id": "d557a1b5",
   "metadata": {},
   "outputs": [],
   "source": [
    "import json\n",
    "import numpy as np\n",
    "import pandas as pd\n",
    "\n",
    "import matplotlib.pyplot as plt\n",
    "\n",
    "from collections import defaultdict"
   ]
  },
  {
   "cell_type": "code",
   "execution_count": 2,
   "id": "1502df9c",
   "metadata": {},
   "outputs": [],
   "source": [
    "movie_db_directory = \"../datasets/tmdb/movie_db\""
   ]
  },
  {
   "cell_type": "code",
   "execution_count": 3,
   "id": "7c518799",
   "metadata": {},
   "outputs": [],
   "source": [
    "movies = []\n",
    "\n",
    "with open(movie_db_directory, \"r\") as movie_data:\n",
    "    lines = movie_data.readlines()\n",
    "    \n",
    "    for line in lines:\n",
    "        movie_id, movie_title, movie_genres, movie_rating = json.loads(line)[\"id\"], json.loads(line)[\"title\"], json.loads(line)[\"genres\"], json.loads(line)[\"rating\"]\n",
    "        movies.append({\"id\": movie_id, \"title\": movie_title, \"genres\": movie_genres, \"rating\": movie_rating})\n",
    "\n",
    "        "
   ]
  },
  {
   "cell_type": "code",
   "execution_count": 4,
   "id": "f6bb1ee2",
   "metadata": {},
   "outputs": [
    {
     "data": {
      "text/plain": [
       "901417"
      ]
     },
     "execution_count": 4,
     "metadata": {},
     "output_type": "execute_result"
    }
   ],
   "source": [
    "len(movies)"
   ]
  },
  {
   "cell_type": "code",
   "execution_count": 6,
   "id": "daa86e88",
   "metadata": {},
   "outputs": [
    {
     "data": {
      "text/html": [
       "<div>\n",
       "<style scoped>\n",
       "    .dataframe tbody tr th:only-of-type {\n",
       "        vertical-align: middle;\n",
       "    }\n",
       "\n",
       "    .dataframe tbody tr th {\n",
       "        vertical-align: top;\n",
       "    }\n",
       "\n",
       "    .dataframe thead th {\n",
       "        text-align: right;\n",
       "    }\n",
       "</style>\n",
       "<table border=\"1\" class=\"dataframe\">\n",
       "  <thead>\n",
       "    <tr style=\"text-align: right;\">\n",
       "      <th></th>\n",
       "      <th>id</th>\n",
       "      <th>title</th>\n",
       "      <th>genres</th>\n",
       "      <th>rating</th>\n",
       "    </tr>\n",
       "  </thead>\n",
       "  <tbody>\n",
       "    <tr>\n",
       "      <th>0</th>\n",
       "      <td>3924</td>\n",
       "      <td>Blondie</td>\n",
       "      <td>[Comedy, Family]</td>\n",
       "      <td>7.063</td>\n",
       "    </tr>\n",
       "    <tr>\n",
       "      <th>1</th>\n",
       "      <td>6124</td>\n",
       "      <td>Peter Voss, Thief of Millions</td>\n",
       "      <td>[Adventure]</td>\n",
       "      <td>0.000</td>\n",
       "    </tr>\n",
       "    <tr>\n",
       "      <th>2</th>\n",
       "      <td>8773</td>\n",
       "      <td>Love at Twenty</td>\n",
       "      <td>[Drama, Romance]</td>\n",
       "      <td>6.674</td>\n",
       "    </tr>\n",
       "    <tr>\n",
       "      <th>3</th>\n",
       "      <td>25449</td>\n",
       "      <td>New World Disorder 9: Never Enough</td>\n",
       "      <td>[]</td>\n",
       "      <td>6.000</td>\n",
       "    </tr>\n",
       "    <tr>\n",
       "      <th>4</th>\n",
       "      <td>31975</td>\n",
       "      <td>Sesame Street: Elmo Loves You!</td>\n",
       "      <td>[Family]</td>\n",
       "      <td>0.000</td>\n",
       "    </tr>\n",
       "    <tr>\n",
       "      <th>...</th>\n",
       "      <td>...</td>\n",
       "      <td>...</td>\n",
       "      <td>...</td>\n",
       "      <td>...</td>\n",
       "    </tr>\n",
       "    <tr>\n",
       "      <th>901412</th>\n",
       "      <td>1255060</td>\n",
       "      <td>Imago</td>\n",
       "      <td>[]</td>\n",
       "      <td>0.000</td>\n",
       "    </tr>\n",
       "    <tr>\n",
       "      <th>901413</th>\n",
       "      <td>1255061</td>\n",
       "      <td>Justice League: TaskForce (Part One)</td>\n",
       "      <td>[]</td>\n",
       "      <td>0.000</td>\n",
       "    </tr>\n",
       "    <tr>\n",
       "      <th>901414</th>\n",
       "      <td>1255062</td>\n",
       "      <td>Demon Castle</td>\n",
       "      <td>[]</td>\n",
       "      <td>0.000</td>\n",
       "    </tr>\n",
       "    <tr>\n",
       "      <th>901415</th>\n",
       "      <td>1255063</td>\n",
       "      <td>Grounds of Coherence #1, but this is the langu...</td>\n",
       "      <td>[]</td>\n",
       "      <td>0.000</td>\n",
       "    </tr>\n",
       "    <tr>\n",
       "      <th>901416</th>\n",
       "      <td>1255064</td>\n",
       "      <td>Fort-Da Game</td>\n",
       "      <td>[Drama]</td>\n",
       "      <td>0.000</td>\n",
       "    </tr>\n",
       "  </tbody>\n",
       "</table>\n",
       "<p>901417 rows × 4 columns</p>\n",
       "</div>"
      ],
      "text/plain": [
       "             id                                              title  \\\n",
       "0          3924                                            Blondie   \n",
       "1          6124                      Peter Voss, Thief of Millions   \n",
       "2          8773                                     Love at Twenty   \n",
       "3         25449                 New World Disorder 9: Never Enough   \n",
       "4         31975                     Sesame Street: Elmo Loves You!   \n",
       "...         ...                                                ...   \n",
       "901412  1255060                                              Imago   \n",
       "901413  1255061               Justice League: TaskForce (Part One)   \n",
       "901414  1255062                                       Demon Castle   \n",
       "901415  1255063  Grounds of Coherence #1, but this is the langu...   \n",
       "901416  1255064                                       Fort-Da Game   \n",
       "\n",
       "                  genres  rating  \n",
       "0       [Comedy, Family]   7.063  \n",
       "1            [Adventure]   0.000  \n",
       "2       [Drama, Romance]   6.674  \n",
       "3                     []   6.000  \n",
       "4               [Family]   0.000  \n",
       "...                  ...     ...  \n",
       "901412                []   0.000  \n",
       "901413                []   0.000  \n",
       "901414                []   0.000  \n",
       "901415                []   0.000  \n",
       "901416           [Drama]   0.000  \n",
       "\n",
       "[901417 rows x 4 columns]"
      ]
     },
     "execution_count": 6,
     "metadata": {},
     "output_type": "execute_result"
    }
   ],
   "source": [
    "movies_df = pd.DataFrame(movies)\n",
    "movies_df"
   ]
  },
  {
   "cell_type": "code",
   "execution_count": 11,
   "id": "e6ead4dd",
   "metadata": {},
   "outputs": [
    {
     "data": {
      "text/html": [
       "<div>\n",
       "<style scoped>\n",
       "    .dataframe tbody tr th:only-of-type {\n",
       "        vertical-align: middle;\n",
       "    }\n",
       "\n",
       "    .dataframe tbody tr th {\n",
       "        vertical-align: top;\n",
       "    }\n",
       "\n",
       "    .dataframe thead th {\n",
       "        text-align: right;\n",
       "    }\n",
       "</style>\n",
       "<table border=\"1\" class=\"dataframe\">\n",
       "  <thead>\n",
       "    <tr style=\"text-align: right;\">\n",
       "      <th></th>\n",
       "      <th>id</th>\n",
       "      <th>title</th>\n",
       "      <th>genres</th>\n",
       "      <th>rating</th>\n",
       "    </tr>\n",
       "  </thead>\n",
       "  <tbody>\n",
       "    <tr>\n",
       "      <th>860333</th>\n",
       "      <td>1205832</td>\n",
       "      <td>Macbeth: the death of Duncan</td>\n",
       "      <td>[Action, Adventure, Comedy, Crime, Documentary...</td>\n",
       "      <td>10.0</td>\n",
       "    </tr>\n",
       "  </tbody>\n",
       "</table>\n",
       "</div>"
      ],
      "text/plain": [
       "             id                         title  \\\n",
       "860333  1205832  Macbeth: the death of Duncan   \n",
       "\n",
       "                                                   genres  rating  \n",
       "860333  [Action, Adventure, Comedy, Crime, Documentary...    10.0  "
      ]
     },
     "execution_count": 11,
     "metadata": {},
     "output_type": "execute_result"
    }
   ],
   "source": [
    "movies_df[movies_df[\"genres\"].map(len) == 13]"
   ]
  },
  {
   "cell_type": "code",
   "execution_count": 12,
   "id": "6bb77f85",
   "metadata": {},
   "outputs": [],
   "source": [
    "# dictionary that keeps the count of movies that are  different number of genres\n",
    "genres_count = defaultdict(int)"
   ]
  },
  {
   "cell_type": "code",
   "execution_count": 13,
   "id": "d28a5ffb",
   "metadata": {},
   "outputs": [],
   "source": [
    "for count in movies_df[\"genres\"].map(len):\n",
    "    genres_count[count] += 1"
   ]
  },
  {
   "cell_type": "code",
   "execution_count": 14,
   "id": "24e1adb8",
   "metadata": {},
   "outputs": [
    {
     "name": "stdout",
     "output_type": "stream",
     "text": [
      "{\n",
      " \"2\": 162910,\n",
      " \"1\": 395372,\n",
      " \"0\": 262114,\n",
      " \"4\": 14308,\n",
      " \"3\": 63037,\n",
      " \"5\": 2984,\n",
      " \"6\": 559,\n",
      " \"7\": 99,\n",
      " \"8\": 20,\n",
      " \"9\": 4,\n",
      " \"16\": 1,\n",
      " \"10\": 4,\n",
      " \"12\": 1,\n",
      " \"11\": 3,\n",
      " \"13\": 1\n",
      "}\n"
     ]
    }
   ],
   "source": [
    "print(json.dumps(genres_count, indent = 1))"
   ]
  },
  {
   "cell_type": "code",
   "execution_count": 42,
   "id": "00c73f45",
   "metadata": {},
   "outputs": [
    {
     "data": {
      "image/png": "[encoded data removed]",
      "text/plain": [
       "<Figure size 640x480 with 1 Axes>"
      ]
     },
     "metadata": {},
     "output_type": "display_data"
    }
   ],
   "source": [
    "# histogram of number of tags, count number of genre in movies\n",
    "plt.hist(movies_df[\"genres\"].map(len), bins = 40)\n",
    "plt.show()"
   ]
  },
  {
   "cell_type": "code",
   "execution_count": 43,
   "id": "e4cbcc88",
   "metadata": {},
   "outputs": [],
   "source": [
    "# bar plot with number of tags, count number of genre in movies\n",
    "\n",
    "# plt.bar(genres_count.keys(), genres_count.values())\n",
    "# plt.xticks(np.arange(0, 10, step = 1))\n",
    "\n",
    "# plt.xlabel(\"genres count per movie\")\n",
    "# plt.ylabel(\"movies count\")\n",
    "\n",
    "# plt.show()"
   ]
  },
  {
   "cell_type": "code",
   "execution_count": 36,
   "id": "22ca87e3",
   "metadata": {},
   "outputs": [],
   "source": [
    "# dictionary that stores the count that each genre appears in the dataset\n",
    "genres_dict = defaultdict(int)"
   ]
  },
  {
   "cell_type": "code",
   "execution_count": 37,
   "id": "a36b6724",
   "metadata": {},
   "outputs": [],
   "source": [
    "for item in movies_df[\"genres\"]:\n",
    "    \n",
    "    if len(item) == 0:\n",
    "        genres_dict[\"NonGiven\"] += 1\n",
    "        \n",
    "    else:\n",
    "        for genre in item:\n",
    "            genres_dict[genre] += 1\n",
    "                "
   ]
  },
  {
   "cell_type": "code",
   "execution_count": 38,
   "id": "7b89054d",
   "metadata": {
    "scrolled": false
   },
   "outputs": [
    {
     "name": "stdout",
     "output_type": "stream",
     "text": [
      "{\n",
      " \"Comedy\": 132140,\n",
      " \"Family\": 26920,\n",
      " \"Adventure\": 22131,\n",
      " \"Drama\": 214513,\n",
      " \"Romance\": 49486,\n",
      " \"NonGiven\": 262114,\n",
      " \"Crime\": 32288,\n",
      " \"Action\": 42006,\n",
      " \"Thriller\": 43869,\n",
      " \"Documentary\": 155422,\n",
      " \"Science Fiction\": 19687,\n",
      " \"Animation\": 53575,\n",
      " \"Mystery\": 18572,\n",
      " \"Horror\": 48526,\n",
      " \"Fantasy\": 20813,\n",
      " \"War\": 10366,\n",
      " \"Music\": 47075,\n",
      " \"Western\": 8584,\n",
      " \"History\": 16317,\n",
      " \"TV Movie\": 24522\n",
      "}\n"
     ]
    }
   ],
   "source": [
    "print(json.dumps(genres_dict, indent = 1))"
   ]
  },
  {
   "cell_type": "code",
   "execution_count": 88,
   "id": "373e086c",
   "metadata": {
    "scrolled": false
   },
   "outputs": [
    {
     "data": {
      "image/png": "[encoded data removed]",
      "text/plain": [
       "<Figure size 640x480 with 1 Axes>"
      ]
     },
     "metadata": {},
     "output_type": "display_data"
    }
   ],
   "source": [
    "# sort the genres count dictionary by count\n",
    "sorted_by_genres_count = sorted(genres_dict.items(), key = lambda x: x[1], reverse = True)\n",
    "genres_list = [item[0] for item in sorted_by_genres_count]\n",
    "count_list = [item[1] for item in sorted_by_genres_count]\n",
    "\n",
    "# bar plot with tags, count number of genre in movies\n",
    "plt.bar(genres_list, count_list)\n",
    "plt.xticks(rotation = \"vertical\")\n",
    "\n",
    "plt.xlabel(\"genres listed\")\n",
    "plt.ylabel(\"movie count\")\n",
    "\n",
    "plt.show()"
   ]
  },
  {
   "cell_type": "code",
   "execution_count": null,
   "id": "97a18d9f",
   "metadata": {},
   "outputs": [],
   "source": []
  },
  {
   "cell_type": "code",
   "execution_count": null,
   "id": "7e4970ab",
   "metadata": {},
   "outputs": [],
   "source": []
  },
  {
   "cell_type": "code",
   "execution_count": null,
   "id": "af3f0a75",
   "metadata": {},
   "outputs": [],
   "source": []
  },
  {
   "cell_type": "code",
   "execution_count": null,
   "id": "c4a3c46c",
   "metadata": {},
   "outputs": [],
   "source": []
  },
  {
   "cell_type": "code",
   "execution_count": null,
   "id": "f76e7c85",
   "metadata": {},
   "outputs": [],
   "source": []
  },
  {
   "cell_type": "code",
   "execution_count": null,
   "id": "d964801d",
   "metadata": {},
   "outputs": [],
   "source": []
  },
  {
   "cell_type": "code",
   "execution_count": null,
   "id": "11bef588",
   "metadata": {},
   "outputs": [],
   "source": []
  },
  {
   "cell_type": "code",
   "execution_count": null,
   "id": "a8a6a100",
   "metadata": {},
   "outputs": [],
   "source": []
  },
  {
   "cell_type": "code",
   "execution_count": null,
   "id": "2e292147",
   "metadata": {},
   "outputs": [],
   "source": [
    "# convert the lists of genres to strings and modify the \"genres\" column\n",
    "movies_df[\"genres_str\"] = [\"|\".join(map(str, l)) for l in movies_df[\"genres\"]]\n",
    "movies_df = movies_df.drop(columns = [\"genres\"], axis = 1)\n",
    "movies_df"
   ]
  },
  {
   "cell_type": "code",
   "execution_count": 8,
   "id": "993f0291",
   "metadata": {},
   "outputs": [
    {
     "data": {
      "text/html": [
       "<div>\n",
       "<style scoped>\n",
       "    .dataframe tbody tr th:only-of-type {\n",
       "        vertical-align: middle;\n",
       "    }\n",
       "\n",
       "    .dataframe tbody tr th {\n",
       "        vertical-align: top;\n",
       "    }\n",
       "\n",
       "    .dataframe thead th {\n",
       "        text-align: right;\n",
       "    }\n",
       "</style>\n",
       "<table border=\"1\" class=\"dataframe\">\n",
       "  <thead>\n",
       "    <tr style=\"text-align: right;\">\n",
       "      <th></th>\n",
       "      <th>id</th>\n",
       "      <th>title</th>\n",
       "      <th>rating</th>\n",
       "      <th>genres_str</th>\n",
       "    </tr>\n",
       "  </thead>\n",
       "  <tbody>\n",
       "    <tr>\n",
       "      <th>3</th>\n",
       "      <td>25449</td>\n",
       "      <td>New World Disorder 9: Never Enough</td>\n",
       "      <td>6.0</td>\n",
       "      <td></td>\n",
       "    </tr>\n",
       "    <tr>\n",
       "      <th>422</th>\n",
       "      <td>538</td>\n",
       "      <td>Janine F.</td>\n",
       "      <td>5.0</td>\n",
       "      <td></td>\n",
       "    </tr>\n",
       "    <tr>\n",
       "      <th>1863</th>\n",
       "      <td>2802</td>\n",
       "      <td>De Arm Van Jezus</td>\n",
       "      <td>0.0</td>\n",
       "      <td></td>\n",
       "    </tr>\n",
       "    <tr>\n",
       "      <th>2045</th>\n",
       "      <td>3094</td>\n",
       "      <td>Elated By Night</td>\n",
       "      <td>0.0</td>\n",
       "      <td></td>\n",
       "    </tr>\n",
       "    <tr>\n",
       "      <th>2144</th>\n",
       "      <td>3398</td>\n",
       "      <td>Rich and Scary: Independent Soap Movie Experience</td>\n",
       "      <td>0.0</td>\n",
       "      <td></td>\n",
       "    </tr>\n",
       "    <tr>\n",
       "      <th>...</th>\n",
       "      <td>...</td>\n",
       "      <td>...</td>\n",
       "      <td>...</td>\n",
       "      <td>...</td>\n",
       "    </tr>\n",
       "    <tr>\n",
       "      <th>901410</th>\n",
       "      <td>1255058</td>\n",
       "      <td>Disney Parks Magical Christmas Day Parade</td>\n",
       "      <td>0.0</td>\n",
       "      <td></td>\n",
       "    </tr>\n",
       "    <tr>\n",
       "      <th>901412</th>\n",
       "      <td>1255060</td>\n",
       "      <td>Imago</td>\n",
       "      <td>0.0</td>\n",
       "      <td></td>\n",
       "    </tr>\n",
       "    <tr>\n",
       "      <th>901413</th>\n",
       "      <td>1255061</td>\n",
       "      <td>Justice League: TaskForce (Part One)</td>\n",
       "      <td>0.0</td>\n",
       "      <td></td>\n",
       "    </tr>\n",
       "    <tr>\n",
       "      <th>901414</th>\n",
       "      <td>1255062</td>\n",
       "      <td>Demon Castle</td>\n",
       "      <td>0.0</td>\n",
       "      <td></td>\n",
       "    </tr>\n",
       "    <tr>\n",
       "      <th>901415</th>\n",
       "      <td>1255063</td>\n",
       "      <td>Grounds of Coherence #1, but this is the langu...</td>\n",
       "      <td>0.0</td>\n",
       "      <td></td>\n",
       "    </tr>\n",
       "  </tbody>\n",
       "</table>\n",
       "<p>262114 rows × 4 columns</p>\n",
       "</div>"
      ],
      "text/plain": [
       "             id                                              title  rating  \\\n",
       "3         25449                 New World Disorder 9: Never Enough     6.0   \n",
       "422         538                                          Janine F.     5.0   \n",
       "1863       2802                                   De Arm Van Jezus     0.0   \n",
       "2045       3094                                    Elated By Night     0.0   \n",
       "2144       3398  Rich and Scary: Independent Soap Movie Experience     0.0   \n",
       "...         ...                                                ...     ...   \n",
       "901410  1255058          Disney Parks Magical Christmas Day Parade     0.0   \n",
       "901412  1255060                                              Imago     0.0   \n",
       "901413  1255061               Justice League: TaskForce (Part One)     0.0   \n",
       "901414  1255062                                       Demon Castle     0.0   \n",
       "901415  1255063  Grounds of Coherence #1, but this is the langu...     0.0   \n",
       "\n",
       "       genres_str  \n",
       "3                  \n",
       "422                \n",
       "1863               \n",
       "2045               \n",
       "2144               \n",
       "...           ...  \n",
       "901410             \n",
       "901412             \n",
       "901413             \n",
       "901414             \n",
       "901415             \n",
       "\n",
       "[262114 rows x 4 columns]"
      ]
     },
     "execution_count": 8,
     "metadata": {},
     "output_type": "execute_result"
    }
   ],
   "source": [
    "# number of movies with no listed genre\n",
    "condition = movies_df[\"genres_str\"].map(len) == 0\n",
    "movies_df[condition]"
   ]
  },
  {
   "cell_type": "code",
   "execution_count": 61,
   "id": "f6ed5c82",
   "metadata": {
    "scrolled": true
   },
   "outputs": [
    {
     "data": {
      "text/html": [
       "<div>\n",
       "<style scoped>\n",
       "    .dataframe tbody tr th:only-of-type {\n",
       "        vertical-align: middle;\n",
       "    }\n",
       "\n",
       "    .dataframe tbody tr th {\n",
       "        vertical-align: top;\n",
       "    }\n",
       "\n",
       "    .dataframe thead th {\n",
       "        text-align: right;\n",
       "    }\n",
       "</style>\n",
       "<table border=\"1\" class=\"dataframe\">\n",
       "  <thead>\n",
       "    <tr style=\"text-align: right;\">\n",
       "      <th></th>\n",
       "      <th>id</th>\n",
       "      <th>title</th>\n",
       "      <th>genres</th>\n",
       "      <th>rating</th>\n",
       "    </tr>\n",
       "  </thead>\n",
       "  <tbody>\n",
       "    <tr>\n",
       "      <th>0</th>\n",
       "      <td>3924</td>\n",
       "      <td>Blondie</td>\n",
       "      <td>[Comedy, Family]</td>\n",
       "      <td>7.063</td>\n",
       "    </tr>\n",
       "    <tr>\n",
       "      <th>1</th>\n",
       "      <td>6124</td>\n",
       "      <td>Peter Voss, Thief of Millions</td>\n",
       "      <td>[Adventure]</td>\n",
       "      <td>0.000</td>\n",
       "    </tr>\n",
       "    <tr>\n",
       "      <th>2</th>\n",
       "      <td>8773</td>\n",
       "      <td>Love at Twenty</td>\n",
       "      <td>[Drama, Romance]</td>\n",
       "      <td>6.674</td>\n",
       "    </tr>\n",
       "    <tr>\n",
       "      <th>3</th>\n",
       "      <td>25449</td>\n",
       "      <td>New World Disorder 9: Never Enough</td>\n",
       "      <td>NonGiven</td>\n",
       "      <td>6.000</td>\n",
       "    </tr>\n",
       "    <tr>\n",
       "      <th>4</th>\n",
       "      <td>31975</td>\n",
       "      <td>Sesame Street: Elmo Loves You!</td>\n",
       "      <td>[Family]</td>\n",
       "      <td>0.000</td>\n",
       "    </tr>\n",
       "    <tr>\n",
       "      <th>...</th>\n",
       "      <td>...</td>\n",
       "      <td>...</td>\n",
       "      <td>...</td>\n",
       "      <td>...</td>\n",
       "    </tr>\n",
       "    <tr>\n",
       "      <th>901412</th>\n",
       "      <td>1255060</td>\n",
       "      <td>Imago</td>\n",
       "      <td>NonGiven</td>\n",
       "      <td>0.000</td>\n",
       "    </tr>\n",
       "    <tr>\n",
       "      <th>901413</th>\n",
       "      <td>1255061</td>\n",
       "      <td>Justice League: TaskForce (Part One)</td>\n",
       "      <td>NonGiven</td>\n",
       "      <td>0.000</td>\n",
       "    </tr>\n",
       "    <tr>\n",
       "      <th>901414</th>\n",
       "      <td>1255062</td>\n",
       "      <td>Demon Castle</td>\n",
       "      <td>NonGiven</td>\n",
       "      <td>0.000</td>\n",
       "    </tr>\n",
       "    <tr>\n",
       "      <th>901415</th>\n",
       "      <td>1255063</td>\n",
       "      <td>Grounds of Coherence #1, but this is the langu...</td>\n",
       "      <td>NonGiven</td>\n",
       "      <td>0.000</td>\n",
       "    </tr>\n",
       "    <tr>\n",
       "      <th>901416</th>\n",
       "      <td>1255064</td>\n",
       "      <td>Fort-Da Game</td>\n",
       "      <td>[Drama]</td>\n",
       "      <td>0.000</td>\n",
       "    </tr>\n",
       "  </tbody>\n",
       "</table>\n",
       "<p>901417 rows × 4 columns</p>\n",
       "</div>"
      ],
      "text/plain": [
       "             id                                              title  \\\n",
       "0          3924                                            Blondie   \n",
       "1          6124                      Peter Voss, Thief of Millions   \n",
       "2          8773                                     Love at Twenty   \n",
       "3         25449                 New World Disorder 9: Never Enough   \n",
       "4         31975                     Sesame Street: Elmo Loves You!   \n",
       "...         ...                                                ...   \n",
       "901412  1255060                                              Imago   \n",
       "901413  1255061               Justice League: TaskForce (Part One)   \n",
       "901414  1255062                                       Demon Castle   \n",
       "901415  1255063  Grounds of Coherence #1, but this is the langu...   \n",
       "901416  1255064                                       Fort-Da Game   \n",
       "\n",
       "                  genres  rating  \n",
       "0       [Comedy, Family]   7.063  \n",
       "1            [Adventure]   0.000  \n",
       "2       [Drama, Romance]   6.674  \n",
       "3               NonGiven   6.000  \n",
       "4               [Family]   0.000  \n",
       "...                  ...     ...  \n",
       "901412          NonGiven   0.000  \n",
       "901413          NonGiven   0.000  \n",
       "901414          NonGiven   0.000  \n",
       "901415          NonGiven   0.000  \n",
       "901416           [Drama]   0.000  \n",
       "\n",
       "[901417 rows x 4 columns]"
      ]
     },
     "execution_count": 61,
     "metadata": {},
     "output_type": "execute_result"
    }
   ],
   "source": [
    "# assign \"NonGiven\" to the movies with no listed genre\n",
    "movies_df.loc[condition, \"genres\"] = \"NonGiven\"\n",
    "movies_df"
   ]
  },
  {
   "cell_type": "code",
   "execution_count": null,
   "id": "66d35c39",
   "metadata": {},
   "outputs": [],
   "source": []
  },
  {
   "cell_type": "code",
   "execution_count": null,
   "id": "cddbc2a0",
   "metadata": {},
   "outputs": [],
   "source": []
  }
 ],
 "metadata": {
  "kernelspec": {
   "display_name": "Python 3 (ipykernel)",
   "language": "python",
   "name": "python3"
  },
  "language_info": {
   "codemirror_mode": {
    "name": "ipython",
    "version": 3
   },
   "file_extension": ".py",
   "mimetype": "text/x-python",
   "name": "python",
   "nbconvert_exporter": "python",
   "pygments_lexer": "ipython3",
   "version": "3.9.18"
  }
 },
 "nbformat": 4,
 "nbformat_minor": 5
}
