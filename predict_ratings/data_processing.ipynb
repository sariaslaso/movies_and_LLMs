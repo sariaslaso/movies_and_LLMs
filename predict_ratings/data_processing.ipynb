{
 "cells": [
  {
   "cell_type": "code",
   "execution_count": 1,
   "id": "d557a1b5",
   "metadata": {},
   "outputs": [],
   "source": [
    "import json\n",
    "import numpy as np\n",
    "import pandas as pd\n",
    "\n",
    "import matplotlib.pyplot as plt\n",
    "%matplotlib inline\n",
    "from matplotlib import rc\n",
    "plt.rc('text', usetex = True)\n",
    "\n",
    "from collections import defaultdict"
   ]
  },
  {
   "cell_type": "code",
   "execution_count": 2,
   "id": "1502df9c",
   "metadata": {},
   "outputs": [],
   "source": [
    "movie_db_directory = \"../datasets/tmdb/movie_db\""
   ]
  },
  {
   "cell_type": "code",
   "execution_count": 3,
   "id": "7c518799",
   "metadata": {},
   "outputs": [],
   "source": [
    "movies = []\n",
    "\n",
    "with open(movie_db_directory, \"r\") as movie_data:\n",
    "    lines = movie_data.readlines()\n",
    "    \n",
    "    for line in lines:\n",
    "        movie_id, movie_title, movie_genres, movie_rating = json.loads(line)[\"id\"], json.loads(line)[\"title\"], json.loads(line)[\"genres\"], json.loads(line)[\"rating\"]\n",
    "        movies.append({\"id\": movie_id, \"title\": movie_title, \"genres\": movie_genres, \"rating\": movie_rating})\n",
    "\n",
    "        "
   ]
  },
  {
   "cell_type": "code",
   "execution_count": 4,
   "id": "f6bb1ee2",
   "metadata": {},
   "outputs": [
    {
     "data": {
      "text/plain": [
       "901417"
      ]
     },
     "execution_count": 4,
     "metadata": {},
     "output_type": "execute_result"
    }
   ],
   "source": [
    "len(movies)"
   ]
  },
  {
   "cell_type": "code",
   "execution_count": 5,
   "id": "daa86e88",
   "metadata": {},
   "outputs": [
    {
     "data": {
      "text/html": [
       "<div>\n",
       "<style scoped>\n",
       "    .dataframe tbody tr th:only-of-type {\n",
       "        vertical-align: middle;\n",
       "    }\n",
       "\n",
       "    .dataframe tbody tr th {\n",
       "        vertical-align: top;\n",
       "    }\n",
       "\n",
       "    .dataframe thead th {\n",
       "        text-align: right;\n",
       "    }\n",
       "</style>\n",
       "<table border=\"1\" class=\"dataframe\">\n",
       "  <thead>\n",
       "    <tr style=\"text-align: right;\">\n",
       "      <th></th>\n",
       "      <th>id</th>\n",
       "      <th>title</th>\n",
       "      <th>genres</th>\n",
       "      <th>rating</th>\n",
       "    </tr>\n",
       "  </thead>\n",
       "  <tbody>\n",
       "    <tr>\n",
       "      <th>0</th>\n",
       "      <td>3924</td>\n",
       "      <td>Blondie</td>\n",
       "      <td>[Comedy, Family]</td>\n",
       "      <td>7.063</td>\n",
       "    </tr>\n",
       "    <tr>\n",
       "      <th>2</th>\n",
       "      <td>8773</td>\n",
       "      <td>Love at Twenty</td>\n",
       "      <td>[Drama, Romance]</td>\n",
       "      <td>6.674</td>\n",
       "    </tr>\n",
       "    <tr>\n",
       "      <th>3</th>\n",
       "      <td>25449</td>\n",
       "      <td>New World Disorder 9: Never Enough</td>\n",
       "      <td>[]</td>\n",
       "      <td>6.000</td>\n",
       "    </tr>\n",
       "    <tr>\n",
       "      <th>5</th>\n",
       "      <td>2</td>\n",
       "      <td>Ariel</td>\n",
       "      <td>[Drama, Comedy, Romance, Crime]</td>\n",
       "      <td>7.092</td>\n",
       "    </tr>\n",
       "    <tr>\n",
       "      <th>6</th>\n",
       "      <td>3</td>\n",
       "      <td>Shadows in Paradise</td>\n",
       "      <td>[Drama, Comedy, Romance]</td>\n",
       "      <td>7.302</td>\n",
       "    </tr>\n",
       "    <tr>\n",
       "      <th>...</th>\n",
       "      <td>...</td>\n",
       "      <td>...</td>\n",
       "      <td>...</td>\n",
       "      <td>...</td>\n",
       "    </tr>\n",
       "    <tr>\n",
       "      <th>901234</th>\n",
       "      <td>1254866</td>\n",
       "      <td>Dark Side of the Moon</td>\n",
       "      <td>[Horror, Western]</td>\n",
       "      <td>8.000</td>\n",
       "    </tr>\n",
       "    <tr>\n",
       "      <th>901240</th>\n",
       "      <td>1254875</td>\n",
       "      <td>Going</td>\n",
       "      <td>[Drama]</td>\n",
       "      <td>6.000</td>\n",
       "    </tr>\n",
       "    <tr>\n",
       "      <th>901313</th>\n",
       "      <td>1254957</td>\n",
       "      <td>From Sound Check To Stage: Emergency Break</td>\n",
       "      <td>[Music, Documentary]</td>\n",
       "      <td>10.000</td>\n",
       "    </tr>\n",
       "    <tr>\n",
       "      <th>901330</th>\n",
       "      <td>1254974</td>\n",
       "      <td>Vivante(s)</td>\n",
       "      <td>[Documentary, Drama]</td>\n",
       "      <td>6.000</td>\n",
       "    </tr>\n",
       "    <tr>\n",
       "      <th>901372</th>\n",
       "      <td>1255020</td>\n",
       "      <td>Cruel War</td>\n",
       "      <td>[Action, Crime]</td>\n",
       "      <td>7.000</td>\n",
       "    </tr>\n",
       "  </tbody>\n",
       "</table>\n",
       "<p>345438 rows × 4 columns</p>\n",
       "</div>"
      ],
      "text/plain": [
       "             id                                       title  \\\n",
       "0          3924                                     Blondie   \n",
       "2          8773                              Love at Twenty   \n",
       "3         25449          New World Disorder 9: Never Enough   \n",
       "5             2                                       Ariel   \n",
       "6             3                         Shadows in Paradise   \n",
       "...         ...                                         ...   \n",
       "901234  1254866                       Dark Side of the Moon   \n",
       "901240  1254875                                       Going   \n",
       "901313  1254957  From Sound Check To Stage: Emergency Break   \n",
       "901330  1254974                                  Vivante(s)   \n",
       "901372  1255020                                   Cruel War   \n",
       "\n",
       "                                 genres  rating  \n",
       "0                      [Comedy, Family]   7.063  \n",
       "2                      [Drama, Romance]   6.674  \n",
       "3                                    []   6.000  \n",
       "5       [Drama, Comedy, Romance, Crime]   7.092  \n",
       "6              [Drama, Comedy, Romance]   7.302  \n",
       "...                                 ...     ...  \n",
       "901234                [Horror, Western]   8.000  \n",
       "901240                          [Drama]   6.000  \n",
       "901313             [Music, Documentary]  10.000  \n",
       "901330             [Documentary, Drama]   6.000  \n",
       "901372                  [Action, Crime]   7.000  \n",
       "\n",
       "[345438 rows x 4 columns]"
      ]
     },
     "execution_count": 5,
     "metadata": {},
     "output_type": "execute_result"
    }
   ],
   "source": [
    "movies_df = pd.DataFrame(movies)\n",
    "movies_df = movies_df[movies_df[\"rating\"] > 0] # delete examples with no rating given\n",
    "movies_df"
   ]
  },
  {
   "cell_type": "code",
   "execution_count": 6,
   "id": "43de907b",
   "metadata": {},
   "outputs": [
    {
     "data": {
      "text/html": [
       "<div>\n",
       "<style scoped>\n",
       "    .dataframe tbody tr th:only-of-type {\n",
       "        vertical-align: middle;\n",
       "    }\n",
       "\n",
       "    .dataframe tbody tr th {\n",
       "        vertical-align: top;\n",
       "    }\n",
       "\n",
       "    .dataframe thead th {\n",
       "        text-align: right;\n",
       "    }\n",
       "</style>\n",
       "<table border=\"1\" class=\"dataframe\">\n",
       "  <thead>\n",
       "    <tr style=\"text-align: right;\">\n",
       "      <th></th>\n",
       "      <th>id</th>\n",
       "      <th>title</th>\n",
       "      <th>genres</th>\n",
       "      <th>rating</th>\n",
       "    </tr>\n",
       "  </thead>\n",
       "  <tbody>\n",
       "    <tr>\n",
       "      <th>860333</th>\n",
       "      <td>1205832</td>\n",
       "      <td>Macbeth: the death of Duncan</td>\n",
       "      <td>[Action, Adventure, Comedy, Crime, Documentary...</td>\n",
       "      <td>10.0</td>\n",
       "    </tr>\n",
       "  </tbody>\n",
       "</table>\n",
       "</div>"
      ],
      "text/plain": [
       "             id                         title  \\\n",
       "860333  1205832  Macbeth: the death of Duncan   \n",
       "\n",
       "                                                   genres  rating  \n",
       "860333  [Action, Adventure, Comedy, Crime, Documentary...    10.0  "
      ]
     },
     "execution_count": 6,
     "metadata": {},
     "output_type": "execute_result"
    }
   ],
   "source": [
    "movies_df[movies_df[\"genres\"].map(len) == 13]"
   ]
  },
  {
   "cell_type": "code",
   "execution_count": 7,
   "id": "6bb77f85",
   "metadata": {},
   "outputs": [],
   "source": [
    "# dictionary that keeps the count of movies that are  different number of genres\n",
    "genres_count = defaultdict(int)"
   ]
  },
  {
   "cell_type": "code",
   "execution_count": 8,
   "id": "d28a5ffb",
   "metadata": {},
   "outputs": [],
   "source": [
    "for count in movies_df[\"genres\"].map(len):\n",
    "    genres_count[count] += 1"
   ]
  },
  {
   "cell_type": "code",
   "execution_count": 9,
   "id": "24e1adb8",
   "metadata": {},
   "outputs": [
    {
     "name": "stdout",
     "output_type": "stream",
     "text": [
      "{\n",
      " \"2\": 92973,\n",
      " \"0\": 42609,\n",
      " \"4\": 11137,\n",
      " \"3\": 44129,\n",
      " \"1\": 151680,\n",
      " \"5\": 2377,\n",
      " \"6\": 436,\n",
      " \"7\": 79,\n",
      " \"8\": 10,\n",
      " \"9\": 3,\n",
      " \"12\": 1,\n",
      " \"10\": 2,\n",
      " \"11\": 1,\n",
      " \"13\": 1\n",
      "}\n"
     ]
    }
   ],
   "source": [
    "print(json.dumps(genres_count, indent = 1))"
   ]
  },
  {
   "cell_type": "markdown",
   "id": "fc10f167",
   "metadata": {},
   "source": [
    "###### Distribution of number of tags assigned to every movie"
   ]
  },
  {
   "cell_type": "code",
   "execution_count": 10,
   "id": "dd23774e",
   "metadata": {},
   "outputs": [
    {
     "data": {
      "image/png": "[encoded data removed]",
      "text/plain": [
       "<Figure size 640x480 with 1 Axes>"
      ]
     },
     "metadata": {},
     "output_type": "display_data"
    }
   ],
   "source": [
    "# histogram of number of tags, count number of genre in movies\n",
    "plt.hist(movies_df[\"genres\"].map(len), bins = 30)\n",
    "\n",
    "plt.xticks(np.arange(0, 11, 1))\n",
    "\n",
    "plt.xlabel(\"genres count per movie\")\n",
    "plt.ylabel(\"movie count\")\n",
    "\n",
    "plt.show()"
   ]
  },
  {
   "cell_type": "markdown",
   "id": "795c8fda",
   "metadata": {},
   "source": [
    "###### Distribution of genres in the dataset"
   ]
  },
  {
   "cell_type": "code",
   "execution_count": 11,
   "id": "22ca87e3",
   "metadata": {},
   "outputs": [],
   "source": [
    "# dictionary that stores the count that each genre appears in the dataset\n",
    "genres_dict = defaultdict(int)"
   ]
  },
  {
   "cell_type": "code",
   "execution_count": 12,
   "id": "a36b6724",
   "metadata": {},
   "outputs": [],
   "source": [
    "for item in movies_df[\"genres\"]:\n",
    "    \n",
    "    if len(item) == 0:\n",
    "        genres_dict[\"NonGiven\"] += 1\n",
    "        \n",
    "    else:\n",
    "        for genre in item:\n",
    "            genres_dict[genre] += 1\n",
    "                "
   ]
  },
  {
   "cell_type": "code",
   "execution_count": 13,
   "id": "7b89054d",
   "metadata": {
    "scrolled": false
   },
   "outputs": [
    {
     "name": "stdout",
     "output_type": "stream",
     "text": [
      "{\n",
      " \"Comedy\": 78317,\n",
      " \"Family\": 16056,\n",
      " \"Drama\": 114907,\n",
      " \"Romance\": 32121,\n",
      " \"NonGiven\": 42609,\n",
      " \"Crime\": 21405,\n",
      " \"Action\": 27799,\n",
      " \"Thriller\": 30039,\n",
      " \"Documentary\": 51870,\n",
      " \"Adventure\": 15072,\n",
      " \"Science Fiction\": 12438,\n",
      " \"Animation\": 22337,\n",
      " \"Mystery\": 11879,\n",
      " \"Horror\": 26862,\n",
      " \"Fantasy\": 12276,\n",
      " \"War\": 6400,\n",
      " \"Music\": 20203,\n",
      " \"Western\": 4811,\n",
      " \"History\": 9087,\n",
      " \"TV Movie\": 15899\n",
      "}\n"
     ]
    }
   ],
   "source": [
    "print(json.dumps(genres_dict, indent = 1))"
   ]
  },
  {
   "cell_type": "code",
   "execution_count": 14,
   "id": "373e086c",
   "metadata": {
    "scrolled": false
   },
   "outputs": [
    {
     "data": {
      "image/png": "[encoded data removed]",
      "text/plain": [
       "<Figure size 640x480 with 1 Axes>"
      ]
     },
     "metadata": {},
     "output_type": "display_data"
    }
   ],
   "source": [
    "# sort the genres count dictionary by count in descending order and keep the respective keys\n",
    "sorted_by_genres_count = sorted(genres_dict.items(), key = lambda x: x[1], reverse = True)\n",
    "genres_list = [item[0] for item in sorted_by_genres_count]\n",
    "count_list = [item[1] for item in sorted_by_genres_count]\n",
    "\n",
    "# bar plot with tags, count number of genre in movies\n",
    "plt.bar(genres_list, count_list)\n",
    "plt.xticks(rotation = \"vertical\")\n",
    "\n",
    "plt.xlabel(\"genres listed\")\n",
    "plt.ylabel(\"movie count\")\n",
    "\n",
    "plt.show()"
   ]
  },
  {
   "cell_type": "markdown",
   "id": "898f9c99",
   "metadata": {},
   "source": [
    "###### Distribution of ratings in the dataset, all genres included"
   ]
  },
  {
   "cell_type": "code",
   "execution_count": 15,
   "id": "7e4970ab",
   "metadata": {},
   "outputs": [
    {
     "data": {
      "image/png": "[encoded data removed]",
      "text/plain": [
       "<Figure size 640x480 with 1 Axes>"
      ]
     },
     "metadata": {},
     "output_type": "display_data"
    }
   ],
   "source": [
    "# distribution of ratings for all the movies with rating > 0\n",
    "plt.hist(movies_df[\"rating\"], bins = 30, alpha = 0.5)\n",
    "\n",
    "plt.xlabel(\"rating\")\n",
    "plt.ylabel(\"count\")\n",
    "\n",
    "plt.show()"
   ]
  },
  {
   "cell_type": "markdown",
   "id": "1f5aed95",
   "metadata": {},
   "source": [
    "###### Map the movie ratings into 3 categories"
   ]
  },
  {
   "cell_type": "code",
   "execution_count": 16,
   "id": "9673cb04",
   "metadata": {},
   "outputs": [
    {
     "data": {
      "text/plain": [
       "(5.988384989491602, 1.8938617631837311)"
      ]
     },
     "execution_count": 16,
     "metadata": {},
     "output_type": "execute_result"
    }
   ],
   "source": [
    "mean_rating = movies_df[\"rating\"].mean()\n",
    "std_rating = movies_df[\"rating\"].std()\n",
    "max_rating = movies_df[\"rating\"].max()\n",
    "\n",
    "(mean_rating, std_rating)"
   ]
  },
  {
   "cell_type": "code",
   "execution_count": 20,
   "id": "c82a0351",
   "metadata": {},
   "outputs": [
    {
     "data": {
      "text/html": [
       "<div>\n",
       "<style scoped>\n",
       "    .dataframe tbody tr th:only-of-type {\n",
       "        vertical-align: middle;\n",
       "    }\n",
       "\n",
       "    .dataframe tbody tr th {\n",
       "        vertical-align: top;\n",
       "    }\n",
       "\n",
       "    .dataframe thead th {\n",
       "        text-align: right;\n",
       "    }\n",
       "</style>\n",
       "<table border=\"1\" class=\"dataframe\">\n",
       "  <thead>\n",
       "    <tr style=\"text-align: right;\">\n",
       "      <th></th>\n",
       "      <th>id</th>\n",
       "      <th>title</th>\n",
       "      <th>genres</th>\n",
       "      <th>rating</th>\n",
       "      <th>bucketed_rating</th>\n",
       "    </tr>\n",
       "  </thead>\n",
       "  <tbody>\n",
       "    <tr>\n",
       "      <th>0</th>\n",
       "      <td>3924</td>\n",
       "      <td>Blondie</td>\n",
       "      <td>[Comedy, Family]</td>\n",
       "      <td>7.063</td>\n",
       "      <td>1</td>\n",
       "    </tr>\n",
       "    <tr>\n",
       "      <th>2</th>\n",
       "      <td>8773</td>\n",
       "      <td>Love at Twenty</td>\n",
       "      <td>[Drama, Romance]</td>\n",
       "      <td>6.674</td>\n",
       "      <td>1</td>\n",
       "    </tr>\n",
       "    <tr>\n",
       "      <th>3</th>\n",
       "      <td>25449</td>\n",
       "      <td>New World Disorder 9: Never Enough</td>\n",
       "      <td>[]</td>\n",
       "      <td>6.000</td>\n",
       "      <td>1</td>\n",
       "    </tr>\n",
       "    <tr>\n",
       "      <th>5</th>\n",
       "      <td>2</td>\n",
       "      <td>Ariel</td>\n",
       "      <td>[Drama, Comedy, Romance, Crime]</td>\n",
       "      <td>7.092</td>\n",
       "      <td>1</td>\n",
       "    </tr>\n",
       "    <tr>\n",
       "      <th>6</th>\n",
       "      <td>3</td>\n",
       "      <td>Shadows in Paradise</td>\n",
       "      <td>[Drama, Comedy, Romance]</td>\n",
       "      <td>7.302</td>\n",
       "      <td>1</td>\n",
       "    </tr>\n",
       "  </tbody>\n",
       "</table>\n",
       "</div>"
      ],
      "text/plain": [
       "      id                               title                           genres  \\\n",
       "0   3924                             Blondie                 [Comedy, Family]   \n",
       "2   8773                      Love at Twenty                 [Drama, Romance]   \n",
       "3  25449  New World Disorder 9: Never Enough                               []   \n",
       "5      2                               Ariel  [Drama, Comedy, Romance, Crime]   \n",
       "6      3                 Shadows in Paradise         [Drama, Comedy, Romance]   \n",
       "\n",
       "   rating bucketed_rating  \n",
       "0   7.063               1  \n",
       "2   6.674               1  \n",
       "3   6.000               1  \n",
       "5   7.092               1  \n",
       "6   7.302               1  "
      ]
     },
     "execution_count": 20,
     "metadata": {},
     "output_type": "execute_result"
    }
   ],
   "source": [
    "# the rating column is bucketed into three different categories: below average (1), average (2), and above average (3)\n",
    "# the intervals are defined using the mean and standard deviation of the distribution\n",
    "# below average rating (1): 0 < rating < (mean - std)\n",
    "# average rating (2): (mean - std) <= rating <= (mean + std)\n",
    "# above average rating (3): (mean + std) < rating <= max_rating\n",
    "\n",
    "movies_df[\"bucketed_rating\"] = pd.cut(movies_df[\"rating\"], \n",
    "                                      bins = [0, mean_rating - std_rating, mean_rating + std_rating, max_rating], \n",
    "                                      labels = [0, 1, 2])\n",
    "\n",
    "movies_df.head()"
   ]
  },
  {
   "cell_type": "markdown",
   "id": "89a1e93d",
   "metadata": {},
   "source": [
    "###### Distribution of rating for the 4 most popular genres (\"Drama\", \"Comedy\", \"Documentary\", \"NonGiven\")"
   ]
  },
  {
   "cell_type": "code",
   "execution_count": 21,
   "id": "eb228210",
   "metadata": {},
   "outputs": [],
   "source": [
    "def filterByGenre(genre):\n",
    "    \n",
    "    return movies_df[movies_df[\"genres\"].map(lambda x: genre in x)]"
   ]
  },
  {
   "cell_type": "code",
   "execution_count": 22,
   "id": "5a8b791c",
   "metadata": {},
   "outputs": [],
   "source": [
    "movies_df_drama = filterByGenre(\"Drama\")\n",
    "movies_df_comedy = filterByGenre(\"Comedy\")\n",
    "movies_df_documentary = filterByGenre(\"Documentary\")\n",
    "\n",
    "# dataset filtered by non given genre\n",
    "movies_df_nongiven = movies_df[movies_df[\"genres\"].map(lambda x: x == [])]\n",
    "\n",
    "# movies_df_nongiven"
   ]
  },
  {
   "cell_type": "code",
   "execution_count": 23,
   "id": "4c717631",
   "metadata": {},
   "outputs": [
    {
     "data": {
      "image/png": "[encoded data removed]",
      "text/plain": [
       "<Figure size 640x480 with 4 Axes>"
      ]
     },
     "metadata": {},
     "output_type": "display_data"
    }
   ],
   "source": [
    "fig, axs = plt.subplots(nrows = 2, ncols = 2)\n",
    "n_bins = 30\n",
    "\n",
    "axs[0, 0].hist(movies_df_drama[\"rating\"], bins = n_bins, alpha = 0.5)\n",
    "axs[0, 0].legend([\"Drama\"], loc = \"best\")\n",
    "\n",
    "axs[0, 1].hist(movies_df_comedy[\"rating\"], bins = n_bins, alpha = 0.5)\n",
    "axs[0, 1].legend([\"Comedy\"], loc = \"best\")\n",
    "\n",
    "axs[1, 0].hist(movies_df_documentary[\"rating\"], bins = n_bins, alpha = 0.5)\n",
    "axs[1, 0].legend([\"Doc\"], loc = \"best\")\n",
    "\n",
    "axs[1, 1].hist(movies_df_nongiven[\"rating\"], bins = n_bins, alpha = 0.5)\n",
    "axs[1, 1].legend([\"NonGiven\"], loc = \"best\")\n",
    "\n",
    "plt.xticks(np.arange(0, 11, 2))\n",
    "\n",
    "plt.show()"
   ]
  },
  {
   "cell_type": "code",
   "execution_count": 51,
   "id": "5c767f94",
   "metadata": {},
   "outputs": [],
   "source": [
    "# plt.hist(movies_df_drama[\"rating\"], bins = 30, alpha = 0.5)\n",
    "\n",
    "# plt.xlabel(\"rating for genre 'Drama'\")\n",
    "# plt.ylabel(\"count\")\n",
    "\n",
    "# plt.show()"
   ]
  },
  {
   "cell_type": "code",
   "execution_count": 52,
   "id": "25f6ebe7",
   "metadata": {},
   "outputs": [],
   "source": [
    "# plt.hist(movies_df_comedy[\"rating\"], bins = 30, alpha = 0.5)\n",
    "\n",
    "# plt.xlabel(\"rating for genre 'Comedy'\")\n",
    "# plt.ylabel(\"count\")\n",
    "\n",
    "# plt.show()"
   ]
  },
  {
   "cell_type": "code",
   "execution_count": 53,
   "id": "4f3afada",
   "metadata": {},
   "outputs": [],
   "source": [
    "# plt.hist(movies_df_documentary[\"rating\"], bins = 30, alpha = 0.5)\n",
    "\n",
    "# plt.xlabel(\"rating for genre 'Documentary'\")\n",
    "# plt.ylabel(\"count\")\n",
    "\n",
    "# plt.show()"
   ]
  },
  {
   "cell_type": "code",
   "execution_count": 54,
   "id": "2e1b4b6f",
   "metadata": {},
   "outputs": [],
   "source": [
    "# plt.hist(movies_df_nongiven[\"rating\"], bins = 30, alpha = 0.5)\n",
    "\n",
    "# plt.xlabel(\"rating for genre 'NonGiven'\")\n",
    "# plt.ylabel(\"count\")\n",
    "\n",
    "# plt.show()"
   ]
  },
  {
   "cell_type": "code",
   "execution_count": null,
   "id": "078543f0",
   "metadata": {},
   "outputs": [],
   "source": []
  },
  {
   "cell_type": "code",
   "execution_count": null,
   "id": "030824df",
   "metadata": {},
   "outputs": [],
   "source": []
  },
  {
   "cell_type": "code",
   "execution_count": null,
   "id": "a8a6a100",
   "metadata": {},
   "outputs": [],
   "source": []
  },
  {
   "cell_type": "code",
   "execution_count": null,
   "id": "2e292147",
   "metadata": {},
   "outputs": [],
   "source": [
    "# convert the lists of genres to strings and modify the \"genres\" column\n",
    "movies_df[\"genres_str\"] = [\"|\".join(map(str, l)) for l in movies_df[\"genres\"]]\n",
    "movies_df = movies_df.drop(columns = [\"genres\"], axis = 1)\n",
    "movies_df"
   ]
  },
  {
   "cell_type": "code",
   "execution_count": 8,
   "id": "993f0291",
   "metadata": {},
   "outputs": [
    {
     "data": {
      "text/html": [
       "<div>\n",
       "<style scoped>\n",
       "    .dataframe tbody tr th:only-of-type {\n",
       "        vertical-align: middle;\n",
       "    }\n",
       "\n",
       "    .dataframe tbody tr th {\n",
       "        vertical-align: top;\n",
       "    }\n",
       "\n",
       "    .dataframe thead th {\n",
       "        text-align: right;\n",
       "    }\n",
       "</style>\n",
       "<table border=\"1\" class=\"dataframe\">\n",
       "  <thead>\n",
       "    <tr style=\"text-align: right;\">\n",
       "      <th></th>\n",
       "      <th>id</th>\n",
       "      <th>title</th>\n",
       "      <th>rating</th>\n",
       "      <th>genres_str</th>\n",
       "    </tr>\n",
       "  </thead>\n",
       "  <tbody>\n",
       "    <tr>\n",
       "      <th>3</th>\n",
       "      <td>25449</td>\n",
       "      <td>New World Disorder 9: Never Enough</td>\n",
       "      <td>6.0</td>\n",
       "      <td></td>\n",
       "    </tr>\n",
       "    <tr>\n",
       "      <th>422</th>\n",
       "      <td>538</td>\n",
       "      <td>Janine F.</td>\n",
       "      <td>5.0</td>\n",
       "      <td></td>\n",
       "    </tr>\n",
       "    <tr>\n",
       "      <th>1863</th>\n",
       "      <td>2802</td>\n",
       "      <td>De Arm Van Jezus</td>\n",
       "      <td>0.0</td>\n",
       "      <td></td>\n",
       "    </tr>\n",
       "    <tr>\n",
       "      <th>2045</th>\n",
       "      <td>3094</td>\n",
       "      <td>Elated By Night</td>\n",
       "      <td>0.0</td>\n",
       "      <td></td>\n",
       "    </tr>\n",
       "    <tr>\n",
       "      <th>2144</th>\n",
       "      <td>3398</td>\n",
       "      <td>Rich and Scary: Independent Soap Movie Experience</td>\n",
       "      <td>0.0</td>\n",
       "      <td></td>\n",
       "    </tr>\n",
       "    <tr>\n",
       "      <th>...</th>\n",
       "      <td>...</td>\n",
       "      <td>...</td>\n",
       "      <td>...</td>\n",
       "      <td>...</td>\n",
       "    </tr>\n",
       "    <tr>\n",
       "      <th>901410</th>\n",
       "      <td>1255058</td>\n",
       "      <td>Disney Parks Magical Christmas Day Parade</td>\n",
       "      <td>0.0</td>\n",
       "      <td></td>\n",
       "    </tr>\n",
       "    <tr>\n",
       "      <th>901412</th>\n",
       "      <td>1255060</td>\n",
       "      <td>Imago</td>\n",
       "      <td>0.0</td>\n",
       "      <td></td>\n",
       "    </tr>\n",
       "    <tr>\n",
       "      <th>901413</th>\n",
       "      <td>1255061</td>\n",
       "      <td>Justice League: TaskForce (Part One)</td>\n",
       "      <td>0.0</td>\n",
       "      <td></td>\n",
       "    </tr>\n",
       "    <tr>\n",
       "      <th>901414</th>\n",
       "      <td>1255062</td>\n",
       "      <td>Demon Castle</td>\n",
       "      <td>0.0</td>\n",
       "      <td></td>\n",
       "    </tr>\n",
       "    <tr>\n",
       "      <th>901415</th>\n",
       "      <td>1255063</td>\n",
       "      <td>Grounds of Coherence #1, but this is the langu...</td>\n",
       "      <td>0.0</td>\n",
       "      <td></td>\n",
       "    </tr>\n",
       "  </tbody>\n",
       "</table>\n",
       "<p>262114 rows × 4 columns</p>\n",
       "</div>"
      ],
      "text/plain": [
       "             id                                              title  rating  \\\n",
       "3         25449                 New World Disorder 9: Never Enough     6.0   \n",
       "422         538                                          Janine F.     5.0   \n",
       "1863       2802                                   De Arm Van Jezus     0.0   \n",
       "2045       3094                                    Elated By Night     0.0   \n",
       "2144       3398  Rich and Scary: Independent Soap Movie Experience     0.0   \n",
       "...         ...                                                ...     ...   \n",
       "901410  1255058          Disney Parks Magical Christmas Day Parade     0.0   \n",
       "901412  1255060                                              Imago     0.0   \n",
       "901413  1255061               Justice League: TaskForce (Part One)     0.0   \n",
       "901414  1255062                                       Demon Castle     0.0   \n",
       "901415  1255063  Grounds of Coherence #1, but this is the langu...     0.0   \n",
       "\n",
       "       genres_str  \n",
       "3                  \n",
       "422                \n",
       "1863               \n",
       "2045               \n",
       "2144               \n",
       "...           ...  \n",
       "901410             \n",
       "901412             \n",
       "901413             \n",
       "901414             \n",
       "901415             \n",
       "\n",
       "[262114 rows x 4 columns]"
      ]
     },
     "execution_count": 8,
     "metadata": {},
     "output_type": "execute_result"
    }
   ],
   "source": [
    "# number of movies with no listed genre\n",
    "condition = movies_df[\"genres_str\"].map(len) == 0\n",
    "movies_df[condition]"
   ]
  },
  {
   "cell_type": "code",
   "execution_count": 61,
   "id": "f6ed5c82",
   "metadata": {
    "scrolled": true
   },
   "outputs": [
    {
     "data": {
      "text/html": [
       "<div>\n",
       "<style scoped>\n",
       "    .dataframe tbody tr th:only-of-type {\n",
       "        vertical-align: middle;\n",
       "    }\n",
       "\n",
       "    .dataframe tbody tr th {\n",
       "        vertical-align: top;\n",
       "    }\n",
       "\n",
       "    .dataframe thead th {\n",
       "        text-align: right;\n",
       "    }\n",
       "</style>\n",
       "<table border=\"1\" class=\"dataframe\">\n",
       "  <thead>\n",
       "    <tr style=\"text-align: right;\">\n",
       "      <th></th>\n",
       "      <th>id</th>\n",
       "      <th>title</th>\n",
       "      <th>genres</th>\n",
       "      <th>rating</th>\n",
       "    </tr>\n",
       "  </thead>\n",
       "  <tbody>\n",
       "    <tr>\n",
       "      <th>0</th>\n",
       "      <td>3924</td>\n",
       "      <td>Blondie</td>\n",
       "      <td>[Comedy, Family]</td>\n",
       "      <td>7.063</td>\n",
       "    </tr>\n",
       "    <tr>\n",
       "      <th>1</th>\n",
       "      <td>6124</td>\n",
       "      <td>Peter Voss, Thief of Millions</td>\n",
       "      <td>[Adventure]</td>\n",
       "      <td>0.000</td>\n",
       "    </tr>\n",
       "    <tr>\n",
       "      <th>2</th>\n",
       "      <td>8773</td>\n",
       "      <td>Love at Twenty</td>\n",
       "      <td>[Drama, Romance]</td>\n",
       "      <td>6.674</td>\n",
       "    </tr>\n",
       "    <tr>\n",
       "      <th>3</th>\n",
       "      <td>25449</td>\n",
       "      <td>New World Disorder 9: Never Enough</td>\n",
       "      <td>NonGiven</td>\n",
       "      <td>6.000</td>\n",
       "    </tr>\n",
       "    <tr>\n",
       "      <th>4</th>\n",
       "      <td>31975</td>\n",
       "      <td>Sesame Street: Elmo Loves You!</td>\n",
       "      <td>[Family]</td>\n",
       "      <td>0.000</td>\n",
       "    </tr>\n",
       "    <tr>\n",
       "      <th>...</th>\n",
       "      <td>...</td>\n",
       "      <td>...</td>\n",
       "      <td>...</td>\n",
       "      <td>...</td>\n",
       "    </tr>\n",
       "    <tr>\n",
       "      <th>901412</th>\n",
       "      <td>1255060</td>\n",
       "      <td>Imago</td>\n",
       "      <td>NonGiven</td>\n",
       "      <td>0.000</td>\n",
       "    </tr>\n",
       "    <tr>\n",
       "      <th>901413</th>\n",
       "      <td>1255061</td>\n",
       "      <td>Justice League: TaskForce (Part One)</td>\n",
       "      <td>NonGiven</td>\n",
       "      <td>0.000</td>\n",
       "    </tr>\n",
       "    <tr>\n",
       "      <th>901414</th>\n",
       "      <td>1255062</td>\n",
       "      <td>Demon Castle</td>\n",
       "      <td>NonGiven</td>\n",
       "      <td>0.000</td>\n",
       "    </tr>\n",
       "    <tr>\n",
       "      <th>901415</th>\n",
       "      <td>1255063</td>\n",
       "      <td>Grounds of Coherence #1, but this is the langu...</td>\n",
       "      <td>NonGiven</td>\n",
       "      <td>0.000</td>\n",
       "    </tr>\n",
       "    <tr>\n",
       "      <th>901416</th>\n",
       "      <td>1255064</td>\n",
       "      <td>Fort-Da Game</td>\n",
       "      <td>[Drama]</td>\n",
       "      <td>0.000</td>\n",
       "    </tr>\n",
       "  </tbody>\n",
       "</table>\n",
       "<p>901417 rows × 4 columns</p>\n",
       "</div>"
      ],
      "text/plain": [
       "             id                                              title  \\\n",
       "0          3924                                            Blondie   \n",
       "1          6124                      Peter Voss, Thief of Millions   \n",
       "2          8773                                     Love at Twenty   \n",
       "3         25449                 New World Disorder 9: Never Enough   \n",
       "4         31975                     Sesame Street: Elmo Loves You!   \n",
       "...         ...                                                ...   \n",
       "901412  1255060                                              Imago   \n",
       "901413  1255061               Justice League: TaskForce (Part One)   \n",
       "901414  1255062                                       Demon Castle   \n",
       "901415  1255063  Grounds of Coherence #1, but this is the langu...   \n",
       "901416  1255064                                       Fort-Da Game   \n",
       "\n",
       "                  genres  rating  \n",
       "0       [Comedy, Family]   7.063  \n",
       "1            [Adventure]   0.000  \n",
       "2       [Drama, Romance]   6.674  \n",
       "3               NonGiven   6.000  \n",
       "4               [Family]   0.000  \n",
       "...                  ...     ...  \n",
       "901412          NonGiven   0.000  \n",
       "901413          NonGiven   0.000  \n",
       "901414          NonGiven   0.000  \n",
       "901415          NonGiven   0.000  \n",
       "901416           [Drama]   0.000  \n",
       "\n",
       "[901417 rows x 4 columns]"
      ]
     },
     "execution_count": 61,
     "metadata": {},
     "output_type": "execute_result"
    }
   ],
   "source": [
    "# assign \"NonGiven\" to the movies with no listed genre\n",
    "movies_df.loc[condition, \"genres\"] = \"NonGiven\"\n",
    "movies_df"
   ]
  },
  {
   "cell_type": "code",
   "execution_count": null,
   "id": "66d35c39",
   "metadata": {},
   "outputs": [],
   "source": []
  },
  {
   "cell_type": "code",
   "execution_count": null,
   "id": "cddbc2a0",
   "metadata": {},
   "outputs": [],
   "source": []
  }
 ],
 "metadata": {
  "kernelspec": {
   "display_name": "Python 3 (ipykernel)",
   "language": "python",
   "name": "python3"
  },
  "language_info": {
   "codemirror_mode": {
    "name": "ipython",
    "version": 3
   },
   "file_extension": ".py",
   "mimetype": "text/x-python",
   "name": "python",
   "nbconvert_exporter": "python",
   "pygments_lexer": "ipython3",
   "version": "3.9.18"
  }
 },
 "nbformat": 4,
 "nbformat_minor": 5
}
