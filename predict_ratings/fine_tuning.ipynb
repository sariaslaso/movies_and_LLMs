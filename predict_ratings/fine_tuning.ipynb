{
 "cells": [
  {
   "cell_type": "code",
   "execution_count": 182,
   "id": "d83f54c1",
   "metadata": {},
   "outputs": [],
   "source": [
    "import pandas as pd\n",
    "import json\n",
    "import tensorflow as tf\n",
    "import numpy as np\n",
    "import evaluate\n",
    "\n",
    "from datasets import load_dataset\n",
    "from scipy.special import softmax\n",
    "from scipy.special import expit\n",
    "\n",
    "from sklearn.metrics import multilabel_confusion_matrix\n",
    "from sklearn.metrics import classification_report\n",
    "from sklearn.metrics import accuracy_score, balanced_accuracy_score, f1_score, precision_score, recall_score\n",
    "\n",
    "from transformers import AutoTokenizer\n",
    "from transformers import AutoModelForSequenceClassification\n",
    "from transformers import TrainingArguments\n",
    "from transformers import TrainingArguments, Trainer\n"
   ]
  },
  {
   "cell_type": "code",
   "execution_count": 2,
   "id": "2919613e",
   "metadata": {},
   "outputs": [],
   "source": [
    "# helper functions\n",
    "\n",
    "\n",
    "def tokenizerFunction(example):\n",
    "    \n",
    "    title_mod = [f\"{t}<[SEP]>{s}\" for t, s in zip(example['title'], example['summary'])]\n",
    "    \n",
    "    return tokenizer(title_mod, example['genres'], padding = 'max_length', truncation = True)\n",
    "    \n",
    "    \n",
    "    "
   ]
  },
  {
   "cell_type": "code",
   "execution_count": 3,
   "id": "21dc4ab9",
   "metadata": {},
   "outputs": [],
   "source": [
    "# load datasets using hugging face\n",
    "\n",
    "data_files = {\n",
    "        \"train\" : \"../datasets/training\",\n",
    "        \"val\" : \"../datasets/validation\",\n",
    "        \"test\" : \"../datasets/test\",\n",
    "        } \n",
    "\n",
    "training = load_dataset(\"json\", data_files = data_files, split = \"train\")\n",
    "validation = load_dataset(\"json\", data_files = data_files, split = \"val\")\n",
    "test = load_dataset(\"json\", data_files = data_files, split = \"test\")"
   ]
  },
  {
   "cell_type": "code",
   "execution_count": 7,
   "id": "95706598",
   "metadata": {},
   "outputs": [
    {
     "data": {
      "text/plain": [
       "Dataset({\n",
       "    features: ['title', 'summary', 'genres', 'label'],\n",
       "    num_rows: 370940\n",
       "})"
      ]
     },
     "execution_count": 7,
     "metadata": {},
     "output_type": "execute_result"
    }
   ],
   "source": [
    "training"
   ]
  },
  {
   "cell_type": "code",
   "execution_count": 79,
   "id": "413d9fbb",
   "metadata": {},
   "outputs": [
    {
     "data": {
      "text/plain": [
       "{'title': 'Beast',\n",
       " 'summary': 'The movie tells about the tragedy of miserable people who turned to dogs. A group of people who desperately seeks for a job is abducted and forced to labor like slaves.',\n",
       " 'genres': 'Drama',\n",
       " 'label': 2}"
      ]
     },
     "execution_count": 79,
     "metadata": {},
     "output_type": "execute_result"
    }
   ],
   "source": [
    "training[0]"
   ]
  },
  {
   "cell_type": "code",
   "execution_count": 80,
   "id": "0fc06e6c",
   "metadata": {},
   "outputs": [
    {
     "data": {
      "text/plain": [
       "'The movie tells about the tragedy of miserable people who turned to dogs. A group of people who desperately seeks for a job is abducted and forced to labor like slaves.'"
      ]
     },
     "execution_count": 80,
     "metadata": {},
     "output_type": "execute_result"
    }
   ],
   "source": [
    "training['summary'][0]"
   ]
  },
  {
   "cell_type": "markdown",
   "id": "51ebdf65",
   "metadata": {},
   "source": [
    "### Train using PyTorch Trainer API"
   ]
  },
  {
   "cell_type": "code",
   "execution_count": 10,
   "id": "ff2d7967",
   "metadata": {},
   "outputs": [],
   "source": [
    "# tokenize datasets using BERT tokenizer\n",
    "\n",
    "tokenizer = AutoTokenizer.from_pretrained(\"google-bert/bert-base-cased\")"
   ]
  },
  {
   "cell_type": "code",
   "execution_count": 10,
   "id": "8b03e0eb",
   "metadata": {},
   "outputs": [],
   "source": [
    "# title_mod = [f\"{t}<[SEP]>{s}\" for t, s in zip(training['title'], training['summary'])]"
   ]
  },
  {
   "cell_type": "code",
   "execution_count": 11,
   "id": "c2c9e513",
   "metadata": {},
   "outputs": [],
   "source": [
    "# tokenizerFunction(training[:5])"
   ]
  },
  {
   "cell_type": "code",
   "execution_count": 45,
   "id": "2c573203",
   "metadata": {},
   "outputs": [
    {
     "data": {
      "application/vnd.jupyter.widget-view+json": {
       "model_id": "4ed13b69571d46cf8d8c3c6c07bd5a89",
       "version_major": 2,
       "version_minor": 0
      },
      "text/plain": [
       "Map:   0%|          | 0/61824 [00:00<?, ? examples/s]"
      ]
     },
     "metadata": {},
     "output_type": "display_data"
    }
   ],
   "source": [
    "tokenized_training = training.map(tokenizerFunction, batched = True)\n",
    "tokenized_validation = validation.map(tokenizerFunction, batched = True)"
   ]
  },
  {
   "cell_type": "code",
   "execution_count": 81,
   "id": "8aff1c65",
   "metadata": {},
   "outputs": [
    {
     "data": {
      "text/plain": [
       "(370940, 7)"
      ]
     },
     "execution_count": 81,
     "metadata": {},
     "output_type": "execute_result"
    }
   ],
   "source": [
    "tokenized_training.shape"
   ]
  },
  {
   "cell_type": "code",
   "execution_count": 82,
   "id": "c7b8d0e5",
   "metadata": {},
   "outputs": [
    {
     "data": {
      "text/plain": [
       "(61824, 7)"
      ]
     },
     "execution_count": 82,
     "metadata": {},
     "output_type": "execute_result"
    }
   ],
   "source": [
    "tokenized_validation.shape"
   ]
  },
  {
   "cell_type": "code",
   "execution_count": 54,
   "id": "7b6235c2",
   "metadata": {},
   "outputs": [],
   "source": [
    "# create a smaller subset of the training dataset to reduce the time it takes to fine-tune\n",
    "small_training = tokenized_training.select(range(100))\n",
    "small_evaluation = tokenized_validation.select(range(20))"
   ]
  },
  {
   "cell_type": "markdown",
   "id": "a7f3a5ee",
   "metadata": {},
   "source": [
    "#### Train"
   ]
  },
  {
   "cell_type": "code",
   "execution_count": null,
   "id": "2d3eb10b",
   "metadata": {},
   "outputs": [],
   "source": [
    "# define a TrainingArguments class that will contain all the hyperparameters the Trainer will use for training and\n",
    "# evaluation\n",
    "# the model will be saved in the input directory\n",
    "\n",
    "training_args = TrainingArguments(output_dir = \"test_trainer\")"
   ]
  },
  {
   "cell_type": "code",
   "execution_count": 84,
   "id": "d225108c",
   "metadata": {},
   "outputs": [
    {
     "name": "stderr",
     "output_type": "stream",
     "text": [
      "Some weights of BertForSequenceClassification were not initialized from the model checkpoint at google-bert/bert-base-cased and are newly initialized: ['classifier.bias', 'classifier.weight']\n",
      "You should probably TRAIN this model on a down-stream task to be able to use it for predictions and inference.\n"
     ]
    }
   ],
   "source": [
    "# define the model\n",
    "\n",
    "model = AutoModelForSequenceClassification.from_pretrained(\"google-bert/bert-base-cased\", num_labels = 3)"
   ]
  },
  {
   "cell_type": "code",
   "execution_count": 176,
   "id": "8e245ff5",
   "metadata": {},
   "outputs": [],
   "source": [
    "# EVALUATE\n",
    "\n",
    "# Trainer does not automatically evaluate model performance during training. \n",
    "# the functions computeMetrics defined below will be passed to Trainer to compute and report metrics\n",
    "\n",
    "# define the metrics \n",
    "\n",
    "# metric_1 = evaluate.load(\"hyperml/balanced_accuracy\")\n",
    "# metric_2 = evaluate.load(\"precision\", average = \"macro\")\n",
    "# metric_3 = evaluate.load(\"recall\")\n",
    "# metric_4 = evaluate.load(\"f1\")"
   ]
  },
  {
   "cell_type": "code",
   "execution_count": 191,
   "id": "8119130d",
   "metadata": {},
   "outputs": [],
   "source": [
    "# call compute on metric to calculate the accuracy of the predictions\n",
    "\n",
    "def computeMetrics(eval_pred):\n",
    "#     convert the logits to predictions before passing the predictions to compute\n",
    "    logits, labels = eval_pred\n",
    "    predictions = np.argmax(logits, axis = -1)\n",
    "    \n",
    "#     balanced_accuracy = metric_1.compute(predictions = predictions, references = labels)['balanced_accuracy']\n",
    "#     precision = metric_2.compute(predictions = predictions, references = labels)['precision']\n",
    "#     recall = metric_3.compute(predictions = predictions, references = labels)['recall']\n",
    "#     f1 = metric_4.compute(predictions = predictions, references = labels)['f1']\n",
    "    \n",
    "    accuracy = accuracy_score(y_true = labels, y_pred = predictions)\n",
    "    balanced_accuracy = balanced_accuracy_score(y_true = labels, y_pred = predictions)\n",
    "    precision = precision_score(y_true = labels, y_pred = predictions, average = 'macro')\n",
    "    recall = recall_score(y_true = labels, y_pred = predictions, average = 'macro')\n",
    "    f1 = f1_score(y_true = labels, y_pred = predictions, average = 'macro')\n",
    "    \n",
    "    return {'accuracy': accuracy, \n",
    "            'balanced_accuracy': balanced_accuracy, \n",
    "            'precision': precision, \n",
    "            'recall': recall, \n",
    "            'f1': f1,}\n",
    "    "
   ]
  },
  {
   "cell_type": "code",
   "execution_count": 178,
   "id": "7d2c404d",
   "metadata": {},
   "outputs": [],
   "source": [
    "#   def compute_metrics(eval_pred):\n",
    "\n",
    "#       logits, labels = eval_pred\n",
    "#       probabilities = expit(logits)\n",
    "#       predictions = (probabilities > 0.5).astype(int)\n",
    "\n",
    "#       res = classification_report(labels, predictions, output_dict = True, zero_division = 0, target_names = genre_list)\n",
    "\n",
    "#       confusion = multilabel_confusion_matrix(labels, predictions)\n",
    "\n",
    "#       macro_mcc = 0\n",
    "#       micro_mcc = compute_mcc(np.sum(confusion, axis = 0))\n",
    "\n",
    "#       for class_name, conf_matrix in zip(genre_list, confusion):\n",
    "\n",
    "#          class_mcc = compute_mcc(conf_matrix)\n",
    "\n",
    "#          res[class_name][\"mcc\"] = class_mcc\n",
    "#          macro_mcc += class_mcc\n",
    "\n",
    "#       macro_mcc = macro_mcc / len(genre_list)\n",
    "\n",
    "#       res[\"macro avg\"][\"mcc\"] = macro_mcc\n",
    "#       res[\"micro avg\"][\"mcc\"] = micro_mcc\n",
    "\n",
    "#       logging.info(res)\n",
    "\n",
    "#       return res"
   ]
  },
  {
   "cell_type": "code",
   "execution_count": 192,
   "id": "088269cc",
   "metadata": {},
   "outputs": [
    {
     "name": "stderr",
     "output_type": "stream",
     "text": [
      "/usr/local/lib/python3.9/site-packages/transformers/training_args.py:1474: FutureWarning: `evaluation_strategy` is deprecated and will be removed in version 4.46 of 🤗 Transformers. Use `eval_strategy` instead\n",
      "  warnings.warn(\n"
     ]
    }
   ],
   "source": [
    "training_args = TrainingArguments(output_dir = \"test_trainer\", evaluation_strategy = \"epoch\")"
   ]
  },
  {
   "cell_type": "code",
   "execution_count": 193,
   "id": "45bc71d2",
   "metadata": {},
   "outputs": [],
   "source": [
    "# TRAINER\n",
    "# define the trainer object\n",
    "# use a small slice of the training dataset and validation dataset\n",
    "\n",
    "trainer = Trainer(\n",
    "    model = model,\n",
    "    args = training_args,\n",
    "    train_dataset = small_training,\n",
    "    eval_dataset = small_evaluation,\n",
    "    compute_metrics = computeMetrics,\n",
    ")"
   ]
  },
  {
   "cell_type": "code",
   "execution_count": null,
   "id": "fa926702",
   "metadata": {},
   "outputs": [
    {
     "data": {
      "text/html": [
       "\n",
       "    <div>\n",
       "      \n",
       "      <progress value='29' max='39' style='width:300px; height:20px; vertical-align: middle;'></progress>\n",
       "      [29/39 09:44 < 03:36, 0.05 it/s, Epoch 2.15/3]\n",
       "    </div>\n",
       "    <table border=\"1\" class=\"dataframe\">\n",
       "  <thead>\n",
       " <tr style=\"text-align: left;\">\n",
       "      <th>Epoch</th>\n",
       "      <th>Training Loss</th>\n",
       "      <th>Validation Loss</th>\n",
       "      <th>Accuracy</th>\n",
       "      <th>Balanced Accuracy</th>\n",
       "      <th>Precision</th>\n",
       "      <th>Recall</th>\n",
       "      <th>F1</th>\n",
       "    </tr>\n",
       "  </thead>\n",
       "  <tbody>\n",
       "    <tr>\n",
       "      <td>1</td>\n",
       "      <td>No log</td>\n",
       "      <td>2.002673</td>\n",
       "      <td>0.650000</td>\n",
       "      <td>0.270833</td>\n",
       "      <td>0.254902</td>\n",
       "      <td>0.270833</td>\n",
       "      <td>0.262626</td>\n",
       "    </tr>\n",
       "    <tr>\n",
       "      <td>2</td>\n",
       "      <td>No log</td>\n",
       "      <td>2.127060</td>\n",
       "      <td>0.700000</td>\n",
       "      <td>0.291667</td>\n",
       "      <td>0.259259</td>\n",
       "      <td>0.291667</td>\n",
       "      <td>0.274510</td>\n",
       "    </tr>\n",
       "  </tbody>\n",
       "</table><p>"
      ],
      "text/plain": [
       "<IPython.core.display.HTML object>"
      ]
     },
     "metadata": {},
     "output_type": "display_data"
    },
    {
     "name": "stderr",
     "output_type": "stream",
     "text": [
      "/usr/local/lib/python3.9/site-packages/sklearn/metrics/_classification.py:1471: UndefinedMetricWarning: Precision is ill-defined and being set to 0.0 in labels with no predicted samples. Use `zero_division` parameter to control this behavior.\n",
      "  _warn_prf(average, modifier, msg_start, len(result))\n",
      "/usr/local/lib/python3.9/site-packages/sklearn/metrics/_classification.py:1471: UndefinedMetricWarning: Precision is ill-defined and being set to 0.0 in labels with no predicted samples. Use `zero_division` parameter to control this behavior.\n",
      "  _warn_prf(average, modifier, msg_start, len(result))\n"
     ]
    }
   ],
   "source": [
    "# fine-tune the model\n",
    "\n",
    "trainer.train()"
   ]
  },
  {
   "cell_type": "code",
   "execution_count": 169,
   "id": "c154f357",
   "metadata": {},
   "outputs": [
    {
     "data": {
      "text/html": [
       "\n",
       "    <div>\n",
       "      \n",
       "      <progress value='1' max='1' style='width:300px; height:20px; vertical-align: middle;'></progress>\n",
       "      [1/1 : < :]\n",
       "    </div>\n",
       "    "
      ],
      "text/plain": [
       "<IPython.core.display.HTML object>"
      ]
     },
     "metadata": {},
     "output_type": "display_data"
    },
    {
     "data": {
      "text/plain": [
       "{'eval_loss': 1.7979985475540161,\n",
       " 'eval_accuracy': 0.5,\n",
       " 'eval_runtime': 1.2484,\n",
       " 'eval_samples_per_second': 1.602,\n",
       " 'eval_steps_per_second': 0.801,\n",
       " 'epoch': 3.0}"
      ]
     },
     "execution_count": 169,
     "metadata": {},
     "output_type": "execute_result"
    }
   ],
   "source": [
    "trainer.evaluate(tokenized_training.select(range(2)))"
   ]
  },
  {
   "cell_type": "code",
   "execution_count": 117,
   "id": "1ee1d8b0",
   "metadata": {},
   "outputs": [
    {
     "data": {
      "text/html": [],
      "text/plain": [
       "<IPython.core.display.HTML object>"
      ]
     },
     "metadata": {},
     "output_type": "display_data"
    },
    {
     "data": {
      "text/plain": [
       "PredictionOutput(predictions=array([[-1.2641485,  2.467274 , -1.0243659],\n",
       "       [-1.2568437,  2.4920769, -1.0423361]], dtype=float32), label_ids=array([2, 1]), metrics={'test_loss': 1.7979985475540161, 'test_accuracy': 0.5, 'test_runtime': 0.8578, 'test_samples_per_second': 2.332, 'test_steps_per_second': 1.166})"
      ]
     },
     "execution_count": 117,
     "metadata": {},
     "output_type": "execute_result"
    }
   ],
   "source": [
    "trainer.predict(tokenized_training.select(range(2)))"
   ]
  },
  {
   "cell_type": "code",
   "execution_count": 121,
   "id": "4b3b94ed",
   "metadata": {},
   "outputs": [
    {
     "data": {
      "text/html": [],
      "text/plain": [
       "<IPython.core.display.HTML object>"
      ]
     },
     "metadata": {},
     "output_type": "display_data"
    },
    {
     "data": {
      "text/plain": [
       "array([2, 1])"
      ]
     },
     "execution_count": 121,
     "metadata": {},
     "output_type": "execute_result"
    }
   ],
   "source": [
    "trainer.predict(tokenized_training.select(range(2))).label_ids"
   ]
  },
  {
   "cell_type": "code",
   "execution_count": 146,
   "id": "fe036d0c",
   "metadata": {},
   "outputs": [
    {
     "data": {
      "text/html": [],
      "text/plain": [
       "<IPython.core.display.HTML object>"
      ]
     },
     "metadata": {},
     "output_type": "display_data"
    },
    {
     "data": {
      "text/html": [],
      "text/plain": [
       "<IPython.core.display.HTML object>"
      ]
     },
     "metadata": {},
     "output_type": "display_data"
    }
   ],
   "source": [
    "predictions = trainer.predict(tokenized_training.select(range(2))).predictions\n",
    "labels = trainer.predict(tokenized_training.select(range(2))).label_ids"
   ]
  },
  {
   "cell_type": "code",
   "execution_count": 153,
   "id": "c9f7e32e",
   "metadata": {},
   "outputs": [
    {
     "data": {
      "text/plain": [
       "array([2, 1])"
      ]
     },
     "execution_count": 153,
     "metadata": {},
     "output_type": "execute_result"
    }
   ],
   "source": [
    "labels"
   ]
  },
  {
   "cell_type": "code",
   "execution_count": 145,
   "id": "8f5626bc",
   "metadata": {},
   "outputs": [
    {
     "data": {
      "text/plain": [
       "array([[-1.2641485,  2.467274 , -1.0243659],\n",
       "       [-1.2568437,  2.4920769, -1.0423361]], dtype=float32)"
      ]
     },
     "execution_count": 145,
     "metadata": {},
     "output_type": "execute_result"
    }
   ],
   "source": [
    "predictions"
   ]
  },
  {
   "cell_type": "code",
   "execution_count": 158,
   "id": "eb343223",
   "metadata": {},
   "outputs": [
    {
     "data": {
      "text/plain": [
       "array([[0.22026058, 0.9218155 , 0.26417786],\n",
       "       [0.22151771, 0.9235845 , 0.2606995 ]], dtype=float32)"
      ]
     },
     "execution_count": 158,
     "metadata": {},
     "output_type": "execute_result"
    }
   ],
   "source": [
    "expit(predictions)"
   ]
  },
  {
   "cell_type": "code",
   "execution_count": 160,
   "id": "0a2a897e",
   "metadata": {},
   "outputs": [
    {
     "data": {
      "text/plain": [
       "array([[0, 1, 0],\n",
       "       [0, 1, 0]])"
      ]
     },
     "execution_count": 160,
     "metadata": {},
     "output_type": "execute_result"
    }
   ],
   "source": [
    "(expit(predictions) > 0.5).astype(int)"
   ]
  },
  {
   "cell_type": "code",
   "execution_count": 163,
   "id": "20311712",
   "metadata": {},
   "outputs": [
    {
     "data": {
      "text/plain": [
       "array([1, 1])"
      ]
     },
     "execution_count": 163,
     "metadata": {},
     "output_type": "execute_result"
    }
   ],
   "source": [
    "np.argmax(predictions, axis = -1)"
   ]
  },
  {
   "cell_type": "code",
   "execution_count": 167,
   "id": "b7550886",
   "metadata": {},
   "outputs": [
    {
     "name": "stderr",
     "output_type": "stream",
     "text": [
      "/usr/local/lib/python3.9/site-packages/sklearn/metrics/_classification.py:1471: UndefinedMetricWarning: Precision and F-score are ill-defined and being set to 0.0 in labels with no predicted samples. Use `zero_division` parameter to control this behavior.\n",
      "  _warn_prf(average, modifier, msg_start, len(result))\n",
      "/usr/local/lib/python3.9/site-packages/sklearn/metrics/_classification.py:1471: UndefinedMetricWarning: Recall and F-score are ill-defined and being set to 0.0 in labels with no true samples. Use `zero_division` parameter to control this behavior.\n",
      "  _warn_prf(average, modifier, msg_start, len(result))\n",
      "/usr/local/lib/python3.9/site-packages/sklearn/metrics/_classification.py:1471: UndefinedMetricWarning: Precision and F-score are ill-defined and being set to 0.0 in labels with no predicted samples. Use `zero_division` parameter to control this behavior.\n",
      "  _warn_prf(average, modifier, msg_start, len(result))\n",
      "/usr/local/lib/python3.9/site-packages/sklearn/metrics/_classification.py:1471: UndefinedMetricWarning: Recall and F-score are ill-defined and being set to 0.0 in labels with no true samples. Use `zero_division` parameter to control this behavior.\n",
      "  _warn_prf(average, modifier, msg_start, len(result))\n",
      "/usr/local/lib/python3.9/site-packages/sklearn/metrics/_classification.py:1471: UndefinedMetricWarning: Precision and F-score are ill-defined and being set to 0.0 in labels with no predicted samples. Use `zero_division` parameter to control this behavior.\n",
      "  _warn_prf(average, modifier, msg_start, len(result))\n",
      "/usr/local/lib/python3.9/site-packages/sklearn/metrics/_classification.py:1471: UndefinedMetricWarning: Recall and F-score are ill-defined and being set to 0.0 in labels with no true samples. Use `zero_division` parameter to control this behavior.\n",
      "  _warn_prf(average, modifier, msg_start, len(result))\n"
     ]
    },
    {
     "data": {
      "text/plain": [
       "{'bad': {'precision': 0.0, 'recall': 0.0, 'f1-score': 0.0, 'support': 0.0},\n",
       " 'average': {'precision': 0.5,\n",
       "  'recall': 1.0,\n",
       "  'f1-score': 0.6666666666666666,\n",
       "  'support': 1.0},\n",
       " 'good': {'precision': 0.0, 'recall': 0.0, 'f1-score': 0.0, 'support': 1.0},\n",
       " 'micro avg': {'precision': 0.5,\n",
       "  'recall': 0.5,\n",
       "  'f1-score': 0.5,\n",
       "  'support': 2.0},\n",
       " 'macro avg': {'precision': 0.16666666666666666,\n",
       "  'recall': 0.3333333333333333,\n",
       "  'f1-score': 0.2222222222222222,\n",
       "  'support': 2.0},\n",
       " 'weighted avg': {'precision': 0.25,\n",
       "  'recall': 0.5,\n",
       "  'f1-score': 0.3333333333333333,\n",
       "  'support': 2.0}}"
      ]
     },
     "execution_count": 167,
     "metadata": {},
     "output_type": "execute_result"
    }
   ],
   "source": [
    "classification_report(labels, np.argmax(predictions, axis = -1), output_dict = True, labels = [0, 1, 2], \n",
    "                      target_names = ['bad', 'average', 'good'])"
   ]
  },
  {
   "cell_type": "code",
   "execution_count": 116,
   "id": "8c44a15b",
   "metadata": {},
   "outputs": [
    {
     "data": {
      "text/plain": [
       "array([1, 1])"
      ]
     },
     "execution_count": 116,
     "metadata": {},
     "output_type": "execute_result"
    }
   ],
   "source": [
    "np.argmax(predictions, axis = -1)"
   ]
  },
  {
   "cell_type": "code",
   "execution_count": 168,
   "id": "0e098118",
   "metadata": {},
   "outputs": [
    {
     "data": {
      "text/plain": [
       "array([[[0, 1],\n",
       "        [0, 1]],\n",
       "\n",
       "       [[1, 0],\n",
       "        [1, 0]]])"
      ]
     },
     "execution_count": 168,
     "metadata": {},
     "output_type": "execute_result"
    }
   ],
   "source": [
    "multilabel_confusion_matrix(labels, np.argmax(predictions, axis = -1))"
   ]
  },
  {
   "cell_type": "code",
   "execution_count": null,
   "id": "80ca46af",
   "metadata": {},
   "outputs": [],
   "source": []
  },
  {
   "cell_type": "code",
   "execution_count": null,
   "id": "968422da",
   "metadata": {},
   "outputs": [],
   "source": []
  }
 ],
 "metadata": {
  "kernelspec": {
   "display_name": "Python 3 (ipykernel)",
   "language": "python",
   "name": "python3"
  },
  "language_info": {
   "codemirror_mode": {
    "name": "ipython",
    "version": 3
   },
   "file_extension": ".py",
   "mimetype": "text/x-python",
   "name": "python",
   "nbconvert_exporter": "python",
   "pygments_lexer": "ipython3",
   "version": "3.9.18"
  }
 },
 "nbformat": 4,
 "nbformat_minor": 5
}
