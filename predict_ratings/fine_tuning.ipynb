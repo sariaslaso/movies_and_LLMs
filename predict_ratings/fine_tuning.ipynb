{
 "cells": [
  {
   "cell_type": "code",
   "execution_count": 205,
   "id": "d83f54c1",
   "metadata": {},
   "outputs": [],
   "source": [
    "import pandas as pd\n",
    "import json\n",
    "import tensorflow as tf\n",
    "import numpy as np\n",
    "import evaluate\n",
    "\n",
    "from datasets import load_dataset\n",
    "from scipy.special import softmax\n",
    "from scipy.special import expit\n",
    "\n",
    "from sklearn.metrics import multilabel_confusion_matrix, classification_report\n",
    "from sklearn.metrics import accuracy_score, balanced_accuracy_score, f1_score, precision_score, recall_score\n",
    "\n",
    "from transformers import AutoTokenizer\n",
    "from transformers import AutoModelForSequenceClassification\n",
    "from transformers import TrainingArguments\n",
    "from transformers import TrainingArguments, Trainer\n"
   ]
  },
  {
   "cell_type": "code",
   "execution_count": 2,
   "id": "2919613e",
   "metadata": {},
   "outputs": [],
   "source": [
    "# helper functions\n",
    "\n",
    "def tokenizerFunction(example):\n",
    "    \n",
    "    title_mod = [f\"{t}<[SEP]>{s}\" for t, s in zip(example['title'], example['summary'])]\n",
    "    \n",
    "    return tokenizer(title_mod, example['genres'], padding = 'max_length', truncation = True)\n",
    "        "
   ]
  },
  {
   "cell_type": "code",
   "execution_count": 3,
   "id": "21dc4ab9",
   "metadata": {},
   "outputs": [],
   "source": [
    "# load datasets using hugging face\n",
    "\n",
    "data_files = {\n",
    "        \"train\" : \"../datasets/training\",\n",
    "        \"val\" : \"../datasets/validation\",\n",
    "        \"test\" : \"../datasets/test\",\n",
    "        } \n",
    "\n",
    "training = load_dataset(\"json\", data_files = data_files, split = \"train\")\n",
    "validation = load_dataset(\"json\", data_files = data_files, split = \"val\")\n",
    "test = load_dataset(\"json\", data_files = data_files, split = \"test\")"
   ]
  },
  {
   "cell_type": "code",
   "execution_count": 7,
   "id": "95706598",
   "metadata": {},
   "outputs": [
    {
     "data": {
      "text/plain": [
       "Dataset({\n",
       "    features: ['title', 'summary', 'genres', 'label'],\n",
       "    num_rows: 370940\n",
       "})"
      ]
     },
     "execution_count": 7,
     "metadata": {},
     "output_type": "execute_result"
    }
   ],
   "source": [
    "training"
   ]
  },
  {
   "cell_type": "code",
   "execution_count": 79,
   "id": "413d9fbb",
   "metadata": {},
   "outputs": [
    {
     "data": {
      "text/plain": [
       "{'title': 'Beast',\n",
       " 'summary': 'The movie tells about the tragedy of miserable people who turned to dogs. A group of people who desperately seeks for a job is abducted and forced to labor like slaves.',\n",
       " 'genres': 'Drama',\n",
       " 'label': 2}"
      ]
     },
     "execution_count": 79,
     "metadata": {},
     "output_type": "execute_result"
    }
   ],
   "source": [
    "training[0]"
   ]
  },
  {
   "cell_type": "code",
   "execution_count": 80,
   "id": "0fc06e6c",
   "metadata": {},
   "outputs": [
    {
     "data": {
      "text/plain": [
       "'The movie tells about the tragedy of miserable people who turned to dogs. A group of people who desperately seeks for a job is abducted and forced to labor like slaves.'"
      ]
     },
     "execution_count": 80,
     "metadata": {},
     "output_type": "execute_result"
    }
   ],
   "source": [
    "training['summary'][0]"
   ]
  },
  {
   "cell_type": "markdown",
   "id": "51ebdf65",
   "metadata": {},
   "source": [
    "### Train using PyTorch Trainer API"
   ]
  },
  {
   "cell_type": "code",
   "execution_count": 10,
   "id": "ff2d7967",
   "metadata": {},
   "outputs": [],
   "source": [
    "# tokenize datasets using BERT tokenizer\n",
    "\n",
    "tokenizer = AutoTokenizer.from_pretrained(\"google-bert/bert-base-cased\")"
   ]
  },
  {
   "cell_type": "code",
   "execution_count": 10,
   "id": "8b03e0eb",
   "metadata": {},
   "outputs": [],
   "source": [
    "# title_mod = [f\"{t}<[SEP]>{s}\" for t, s in zip(training['title'], training['summary'])]"
   ]
  },
  {
   "cell_type": "code",
   "execution_count": 11,
   "id": "c2c9e513",
   "metadata": {},
   "outputs": [],
   "source": [
    "# tokenizerFunction(training[:5])"
   ]
  },
  {
   "cell_type": "code",
   "execution_count": 45,
   "id": "2c573203",
   "metadata": {},
   "outputs": [
    {
     "data": {
      "application/vnd.jupyter.widget-view+json": {
       "model_id": "4ed13b69571d46cf8d8c3c6c07bd5a89",
       "version_major": 2,
       "version_minor": 0
      },
      "text/plain": [
       "Map:   0%|          | 0/61824 [00:00<?, ? examples/s]"
      ]
     },
     "metadata": {},
     "output_type": "display_data"
    }
   ],
   "source": [
    "tokenized_training = training.map(tokenizerFunction, batched = True)\n",
    "tokenized_validation = validation.map(tokenizerFunction, batched = True)"
   ]
  },
  {
   "cell_type": "code",
   "execution_count": 81,
   "id": "3471ede9",
   "metadata": {},
   "outputs": [
    {
     "data": {
      "text/plain": [
       "(370940, 7)"
      ]
     },
     "execution_count": 81,
     "metadata": {},
     "output_type": "execute_result"
    }
   ],
   "source": [
    "tokenized_training.shape"
   ]
  },
  {
   "cell_type": "code",
   "execution_count": 82,
   "id": "799118f6",
   "metadata": {},
   "outputs": [
    {
     "data": {
      "text/plain": [
       "(61824, 7)"
      ]
     },
     "execution_count": 82,
     "metadata": {},
     "output_type": "execute_result"
    }
   ],
   "source": [
    "tokenized_validation.shape"
   ]
  },
  {
   "cell_type": "code",
   "execution_count": 54,
   "id": "a7af4f34",
   "metadata": {},
   "outputs": [],
   "source": [
    "# create a smaller subset of the training dataset to reduce the time it takes to fine-tune\n",
    "small_training = tokenized_training.select(range(100))\n",
    "small_evaluation = tokenized_validation.select(range(20))"
   ]
  },
  {
   "cell_type": "markdown",
   "id": "a7f3a5ee",
   "metadata": {},
   "source": [
    "#### Train"
   ]
  },
  {
   "cell_type": "code",
   "execution_count": null,
   "id": "8ef9794e",
   "metadata": {},
   "outputs": [],
   "source": [
    "# define a TrainingArguments class that will contain all the hyperparameters the Trainer will use for training and\n",
    "# evaluation\n",
    "# the model will be saved in the input directory\n",
    "\n",
    "training_args = TrainingArguments(output_dir = \"test_trainer\")"
   ]
  },
  {
   "cell_type": "code",
   "execution_count": 84,
   "id": "d225108c",
   "metadata": {},
   "outputs": [
    {
     "name": "stderr",
     "output_type": "stream",
     "text": [
      "Some weights of BertForSequenceClassification were not initialized from the model checkpoint at google-bert/bert-base-cased and are newly initialized: ['classifier.bias', 'classifier.weight']\n",
      "You should probably TRAIN this model on a down-stream task to be able to use it for predictions and inference.\n"
     ]
    }
   ],
   "source": [
    "# define the model\n",
    "\n",
    "model = AutoModelForSequenceClassification.from_pretrained(\"google-bert/bert-base-cased\", num_labels = 3)"
   ]
  },
  {
   "cell_type": "code",
   "execution_count": 191,
   "id": "8119130d",
   "metadata": {},
   "outputs": [],
   "source": [
    "# compute_metrics() function to calculate a metric when evaluating the model during training \n",
    "# (otherwise the evaluation would just print the loss, which is not a very intuitive number).\n",
    "\n",
    "\n",
    "def computeMetrics(eval_pred):\n",
    "#     convert the logits to predictions before passing the predictions to compute\n",
    "    logits, labels = eval_pred\n",
    "    predictions = np.argmax(logits, axis = -1)\n",
    "        \n",
    "    accuracy = accuracy_score(y_true = labels, y_pred = predictions)\n",
    "    balanced_accuracy = balanced_accuracy_score(y_true = labels, y_pred = predictions)\n",
    "    precision = precision_score(y_true = labels, y_pred = predictions, average = 'macro')\n",
    "    recall = recall_score(y_true = labels, y_pred = predictions, average = 'macro')\n",
    "    f1 = f1_score(y_true = labels, y_pred = predictions, average = 'macro')\n",
    "    \n",
    "    return {'accuracy': accuracy, \n",
    "            'balanced_accuracy': balanced_accuracy, \n",
    "            'precision': precision, \n",
    "            'recall': recall, \n",
    "            'f1': f1,}\n",
    "    "
   ]
  },
  {
   "cell_type": "code",
   "execution_count": 192,
   "id": "088269cc",
   "metadata": {},
   "outputs": [
    {
     "name": "stderr",
     "output_type": "stream",
     "text": [
      "/usr/local/lib/python3.9/site-packages/transformers/training_args.py:1474: FutureWarning: `evaluation_strategy` is deprecated and will be removed in version 4.46 of 🤗 Transformers. Use `eval_strategy` instead\n",
      "  warnings.warn(\n"
     ]
    }
   ],
   "source": [
    "training_args = TrainingArguments(output_dir = \"test_trainer\", evaluation_strategy = \"epoch\")"
   ]
  },
  {
   "cell_type": "code",
   "execution_count": 193,
   "id": "060bb638",
   "metadata": {},
   "outputs": [],
   "source": [
    "# TRAINER\n",
    "# define the trainer object\n",
    "# use a small slice of the training dataset and validation dataset\n",
    "\n",
    "trainer = Trainer(\n",
    "    model = model,\n",
    "    args = training_args,\n",
    "    train_dataset = small_training,\n",
    "    eval_dataset = small_evaluation,\n",
    "    compute_metrics = computeMetrics,\n",
    ")"
   ]
  },
  {
   "cell_type": "code",
   "execution_count": 194,
   "id": "4d8910c4",
   "metadata": {},
   "outputs": [
    {
     "data": {
      "text/html": [
       "\n",
       "    <div>\n",
       "      \n",
       "      <progress value='39' max='39' style='width:300px; height:20px; vertical-align: middle;'></progress>\n",
       "      [39/39 13:40, Epoch 3/3]\n",
       "    </div>\n",
       "    <table border=\"1\" class=\"dataframe\">\n",
       "  <thead>\n",
       " <tr style=\"text-align: left;\">\n",
       "      <th>Epoch</th>\n",
       "      <th>Training Loss</th>\n",
       "      <th>Validation Loss</th>\n",
       "      <th>Accuracy</th>\n",
       "      <th>Balanced Accuracy</th>\n",
       "      <th>Precision</th>\n",
       "      <th>Recall</th>\n",
       "      <th>F1</th>\n",
       "    </tr>\n",
       "  </thead>\n",
       "  <tbody>\n",
       "    <tr>\n",
       "      <td>1</td>\n",
       "      <td>No log</td>\n",
       "      <td>2.002673</td>\n",
       "      <td>0.650000</td>\n",
       "      <td>0.270833</td>\n",
       "      <td>0.254902</td>\n",
       "      <td>0.270833</td>\n",
       "      <td>0.262626</td>\n",
       "    </tr>\n",
       "    <tr>\n",
       "      <td>2</td>\n",
       "      <td>No log</td>\n",
       "      <td>2.127060</td>\n",
       "      <td>0.700000</td>\n",
       "      <td>0.291667</td>\n",
       "      <td>0.259259</td>\n",
       "      <td>0.291667</td>\n",
       "      <td>0.274510</td>\n",
       "    </tr>\n",
       "    <tr>\n",
       "      <td>3</td>\n",
       "      <td>No log</td>\n",
       "      <td>1.824384</td>\n",
       "      <td>0.750000</td>\n",
       "      <td>0.312500</td>\n",
       "      <td>0.263158</td>\n",
       "      <td>0.312500</td>\n",
       "      <td>0.285714</td>\n",
       "    </tr>\n",
       "  </tbody>\n",
       "</table><p>"
      ],
      "text/plain": [
       "<IPython.core.display.HTML object>"
      ]
     },
     "metadata": {},
     "output_type": "display_data"
    },
    {
     "name": "stderr",
     "output_type": "stream",
     "text": [
      "/usr/local/lib/python3.9/site-packages/sklearn/metrics/_classification.py:1471: UndefinedMetricWarning: Precision is ill-defined and being set to 0.0 in labels with no predicted samples. Use `zero_division` parameter to control this behavior.\n",
      "  _warn_prf(average, modifier, msg_start, len(result))\n",
      "/usr/local/lib/python3.9/site-packages/sklearn/metrics/_classification.py:1471: UndefinedMetricWarning: Precision is ill-defined and being set to 0.0 in labels with no predicted samples. Use `zero_division` parameter to control this behavior.\n",
      "  _warn_prf(average, modifier, msg_start, len(result))\n",
      "/usr/local/lib/python3.9/site-packages/sklearn/metrics/_classification.py:1471: UndefinedMetricWarning: Precision is ill-defined and being set to 0.0 in labels with no predicted samples. Use `zero_division` parameter to control this behavior.\n",
      "  _warn_prf(average, modifier, msg_start, len(result))\n"
     ]
    },
    {
     "data": {
      "text/plain": [
       "TrainOutput(global_step=39, training_loss=0.2194660137861203, metrics={'train_runtime': 844.7606, 'train_samples_per_second': 0.355, 'train_steps_per_second': 0.046, 'total_flos': 78934025318400.0, 'train_loss': 0.2194660137861203, 'epoch': 3.0})"
      ]
     },
     "execution_count": 194,
     "metadata": {},
     "output_type": "execute_result"
    }
   ],
   "source": [
    "# fine-tune the model\n",
    "\n",
    "trainer.train()"
   ]
  },
  {
   "cell_type": "code",
   "execution_count": 209,
   "id": "e8d7bf27",
   "metadata": {},
   "outputs": [
    {
     "data": {
      "text/html": [],
      "text/plain": [
       "<IPython.core.display.HTML object>"
      ]
     },
     "metadata": {},
     "output_type": "display_data"
    },
    {
     "data": {
      "text/plain": [
       "{'eval_loss': 0.008453688584268093,\n",
       " 'eval_accuracy': 1.0,\n",
       " 'eval_balanced_accuracy': 1.0,\n",
       " 'eval_precision': 1.0,\n",
       " 'eval_recall': 1.0,\n",
       " 'eval_f1': 1.0,\n",
       " 'eval_runtime': 0.8725,\n",
       " 'eval_samples_per_second': 2.292,\n",
       " 'eval_steps_per_second': 1.146,\n",
       " 'epoch': 3.0}"
      ]
     },
     "execution_count": 209,
     "metadata": {},
     "output_type": "execute_result"
    }
   ],
   "source": [
    "trainer.evaluate(tokenized_training.select(range(2)))"
   ]
  },
  {
   "cell_type": "code",
   "execution_count": 210,
   "id": "f02d5aae",
   "metadata": {},
   "outputs": [
    {
     "data": {
      "text/plain": [
       "PredictionOutput(predictions=array([[-2.9955692, -0.2523113,  3.9158812],\n",
       "       [-3.1896608,  5.384198 , -2.500912 ]], dtype=float32), label_ids=array([2, 1]), metrics={'test_loss': 0.008453688584268093, 'test_accuracy': 1.0, 'test_balanced_accuracy': 1.0, 'test_precision': 1.0, 'test_recall': 1.0, 'test_f1': 1.0, 'test_runtime': 0.8858, 'test_samples_per_second': 2.258, 'test_steps_per_second': 1.129})"
      ]
     },
     "execution_count": 210,
     "metadata": {},
     "output_type": "execute_result"
    }
   ],
   "source": [
    "trainer.predict(tokenized_training.select(range(2)))"
   ]
  },
  {
   "cell_type": "code",
   "execution_count": 197,
   "id": "a65c7aaa",
   "metadata": {},
   "outputs": [
    {
     "data": {
      "text/html": [],
      "text/plain": [
       "<IPython.core.display.HTML object>"
      ]
     },
     "metadata": {},
     "output_type": "display_data"
    },
    {
     "data": {
      "text/plain": [
       "array([2, 1])"
      ]
     },
     "execution_count": 197,
     "metadata": {},
     "output_type": "execute_result"
    }
   ],
   "source": [
    "trainer.predict(tokenized_training.select(range(2))).label_ids"
   ]
  },
  {
   "cell_type": "code",
   "execution_count": 198,
   "id": "5655b89d",
   "metadata": {},
   "outputs": [
    {
     "data": {
      "text/html": [],
      "text/plain": [
       "<IPython.core.display.HTML object>"
      ]
     },
     "metadata": {},
     "output_type": "display_data"
    },
    {
     "data": {
      "text/html": [],
      "text/plain": [
       "<IPython.core.display.HTML object>"
      ]
     },
     "metadata": {},
     "output_type": "display_data"
    }
   ],
   "source": [
    "predictions = trainer.predict(tokenized_training.select(range(2))).predictions\n",
    "labels = trainer.predict(tokenized_training.select(range(2))).label_ids"
   ]
  },
  {
   "cell_type": "code",
   "execution_count": 199,
   "id": "2ef3e987",
   "metadata": {},
   "outputs": [
    {
     "data": {
      "text/plain": [
       "array([2, 1])"
      ]
     },
     "execution_count": 199,
     "metadata": {},
     "output_type": "execute_result"
    }
   ],
   "source": [
    "labels"
   ]
  },
  {
   "cell_type": "code",
   "execution_count": 200,
   "id": "4a192a2b",
   "metadata": {},
   "outputs": [
    {
     "data": {
      "text/plain": [
       "array([[-2.9955692, -0.2523113,  3.9158812],\n",
       "       [-3.1896608,  5.384198 , -2.500912 ]], dtype=float32)"
      ]
     },
     "execution_count": 200,
     "metadata": {},
     "output_type": "execute_result"
    }
   ],
   "source": [
    "predictions"
   ]
  },
  {
   "cell_type": "code",
   "execution_count": 201,
   "id": "5197dcf2",
   "metadata": {},
   "outputs": [
    {
     "data": {
      "text/plain": [
       "array([2, 1])"
      ]
     },
     "execution_count": 201,
     "metadata": {},
     "output_type": "execute_result"
    }
   ],
   "source": [
    "np.argmax(predictions, axis = -1)"
   ]
  },
  {
   "cell_type": "code",
   "execution_count": 206,
   "id": "c5dd2e9c",
   "metadata": {},
   "outputs": [
    {
     "name": "stderr",
     "output_type": "stream",
     "text": [
      "/usr/local/lib/python3.9/site-packages/sklearn/metrics/_classification.py:1471: UndefinedMetricWarning: Precision and F-score are ill-defined and being set to 0.0 in labels with no predicted samples. Use `zero_division` parameter to control this behavior.\n",
      "  _warn_prf(average, modifier, msg_start, len(result))\n",
      "/usr/local/lib/python3.9/site-packages/sklearn/metrics/_classification.py:1471: UndefinedMetricWarning: Recall and F-score are ill-defined and being set to 0.0 in labels with no true samples. Use `zero_division` parameter to control this behavior.\n",
      "  _warn_prf(average, modifier, msg_start, len(result))\n",
      "/usr/local/lib/python3.9/site-packages/sklearn/metrics/_classification.py:1471: UndefinedMetricWarning: Precision and F-score are ill-defined and being set to 0.0 in labels with no predicted samples. Use `zero_division` parameter to control this behavior.\n",
      "  _warn_prf(average, modifier, msg_start, len(result))\n",
      "/usr/local/lib/python3.9/site-packages/sklearn/metrics/_classification.py:1471: UndefinedMetricWarning: Recall and F-score are ill-defined and being set to 0.0 in labels with no true samples. Use `zero_division` parameter to control this behavior.\n",
      "  _warn_prf(average, modifier, msg_start, len(result))\n",
      "/usr/local/lib/python3.9/site-packages/sklearn/metrics/_classification.py:1471: UndefinedMetricWarning: Precision and F-score are ill-defined and being set to 0.0 in labels with no predicted samples. Use `zero_division` parameter to control this behavior.\n",
      "  _warn_prf(average, modifier, msg_start, len(result))\n",
      "/usr/local/lib/python3.9/site-packages/sklearn/metrics/_classification.py:1471: UndefinedMetricWarning: Recall and F-score are ill-defined and being set to 0.0 in labels with no true samples. Use `zero_division` parameter to control this behavior.\n",
      "  _warn_prf(average, modifier, msg_start, len(result))\n"
     ]
    },
    {
     "data": {
      "text/plain": [
       "{'bad_rating': {'precision': 0.0,\n",
       "  'recall': 0.0,\n",
       "  'f1-score': 0.0,\n",
       "  'support': 0.0},\n",
       " 'average_rating': {'precision': 1.0,\n",
       "  'recall': 1.0,\n",
       "  'f1-score': 1.0,\n",
       "  'support': 1.0},\n",
       " 'good_rating': {'precision': 1.0,\n",
       "  'recall': 1.0,\n",
       "  'f1-score': 1.0,\n",
       "  'support': 1.0},\n",
       " 'micro avg': {'precision': 1.0,\n",
       "  'recall': 1.0,\n",
       "  'f1-score': 1.0,\n",
       "  'support': 2.0},\n",
       " 'macro avg': {'precision': 0.6666666666666666,\n",
       "  'recall': 0.6666666666666666,\n",
       "  'f1-score': 0.6666666666666666,\n",
       "  'support': 2.0},\n",
       " 'weighted avg': {'precision': 1.0,\n",
       "  'recall': 1.0,\n",
       "  'f1-score': 1.0,\n",
       "  'support': 2.0}}"
      ]
     },
     "execution_count": 206,
     "metadata": {},
     "output_type": "execute_result"
    }
   ],
   "source": [
    "classification_report(labels, np.argmax(predictions, axis = -1), output_dict = True, labels = [0, 1, 2], \n",
    "                      target_names = ['bad_rating', 'average_rating', 'good_rating'])"
   ]
  },
  {
   "cell_type": "code",
   "execution_count": 204,
   "id": "cbe4acaf",
   "metadata": {},
   "outputs": [
    {
     "data": {
      "text/plain": [
       "array([[[1, 0],\n",
       "        [0, 1]],\n",
       "\n",
       "       [[1, 0],\n",
       "        [0, 1]]])"
      ]
     },
     "execution_count": 204,
     "metadata": {},
     "output_type": "execute_result"
    }
   ],
   "source": [
    "multilabel_confusion_matrix(labels, np.argmax(predictions, axis = -1))"
   ]
  },
  {
   "cell_type": "code",
   "execution_count": 213,
   "id": "bcecbe1d",
   "metadata": {},
   "outputs": [
    {
     "data": {
      "text/plain": [
       "('tokenizer/tokenizer_config.json',\n",
       " 'tokenizer/special_tokens_map.json',\n",
       " 'tokenizer/vocab.txt',\n",
       " 'tokenizer/added_tokens.json',\n",
       " 'tokenizer/tokenizer.json')"
      ]
     },
     "execution_count": 213,
     "metadata": {},
     "output_type": "execute_result"
    }
   ],
   "source": [
    "trainer.save_model(output_dir = 'model/fine_tuned_BERT')\n",
    "tokenizer.save_pretrained('tokenizer')"
   ]
  },
  {
   "cell_type": "code",
   "execution_count": null,
   "id": "1ef0e9b4",
   "metadata": {},
   "outputs": [],
   "source": []
  },
  {
   "cell_type": "code",
   "execution_count": null,
   "id": "d4f6caee",
   "metadata": {},
   "outputs": [],
   "source": []
  },
  {
   "cell_type": "code",
   "execution_count": null,
   "id": "38ca9a49",
   "metadata": {},
   "outputs": [],
   "source": []
  }
 ],
 "metadata": {
  "kernelspec": {
   "display_name": "Python 3 (ipykernel)",
   "language": "python",
   "name": "python3"
  },
  "language_info": {
   "codemirror_mode": {
    "name": "ipython",
    "version": 3
   },
   "file_extension": ".py",
   "mimetype": "text/x-python",
   "name": "python",
   "nbconvert_exporter": "python",
   "pygments_lexer": "ipython3",
   "version": "3.9.18"
  }
 },
 "nbformat": 4,
 "nbformat_minor": 5
}
