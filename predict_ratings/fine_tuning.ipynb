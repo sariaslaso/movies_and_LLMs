{
 "cells": [
  {
   "cell_type": "code",
   "execution_count": 18,
   "id": "d83f54c1",
   "metadata": {},
   "outputs": [],
   "source": [
    "import pandas as pd\n",
    "import json\n",
    "import tensorflow as tf\n",
    "import numpy as np\n",
    "import evaluate\n",
    "\n",
    "from datasets import load_dataset\n",
    "\n",
    "from transformers import AutoTokenizer\n",
    "from transformers import AutoModelForSequenceClassification\n",
    "from transformers import TrainingArguments\n",
    "from transformers import TrainingArguments, Trainer\n"
   ]
  },
  {
   "cell_type": "code",
   "execution_count": 2,
   "id": "2919613e",
   "metadata": {},
   "outputs": [],
   "source": [
    "# helper functions\n",
    "\n",
    "\n",
    "def tokenizerFunction(example):\n",
    "    \n",
    "    title_mod = [f\"{t}<[SEP]>{s}\" for t, s in zip(example['title'], example['summary'])]\n",
    "    \n",
    "    return tokenizer(title_mod, example['genres'], padding = 'max_length', truncation = True)\n",
    "    \n",
    "    \n",
    "    "
   ]
  },
  {
   "cell_type": "code",
   "execution_count": 3,
   "id": "21dc4ab9",
   "metadata": {},
   "outputs": [],
   "source": [
    "# load datasets using hugging face\n",
    "\n",
    "data_files = {\n",
    "        \"train\" : \"../datasets/training\",\n",
    "        \"val\" : \"../datasets/validation\",\n",
    "        \"test\" : \"../datasets/test\",\n",
    "        } \n",
    "\n",
    "training = load_dataset(\"json\", data_files = data_files, split = \"train\")\n",
    "validation = load_dataset(\"json\", data_files = data_files, split = \"val\")\n",
    "test = load_dataset(\"json\", data_files = data_files, split = \"test\")"
   ]
  },
  {
   "cell_type": "code",
   "execution_count": 7,
   "id": "95706598",
   "metadata": {},
   "outputs": [
    {
     "data": {
      "text/plain": [
       "Dataset({\n",
       "    features: ['title', 'summary', 'genres', 'label'],\n",
       "    num_rows: 370940\n",
       "})"
      ]
     },
     "execution_count": 7,
     "metadata": {},
     "output_type": "execute_result"
    }
   ],
   "source": [
    "training"
   ]
  },
  {
   "cell_type": "code",
   "execution_count": 8,
   "id": "413d9fbb",
   "metadata": {},
   "outputs": [
    {
     "data": {
      "text/plain": [
       "{'title': 'Beast',\n",
       " 'summary': 'The movie tells about the tragedy of miserable people who turned to dogs. A group of people who desperately seeks for a job is abducted and forced to labor like slaves.',\n",
       " 'genres': 'Drama',\n",
       " 'label': 2}"
      ]
     },
     "execution_count": 8,
     "metadata": {},
     "output_type": "execute_result"
    }
   ],
   "source": [
    "training[0]"
   ]
  },
  {
   "cell_type": "code",
   "execution_count": 9,
   "id": "0fc06e6c",
   "metadata": {},
   "outputs": [
    {
     "data": {
      "text/plain": [
       "'The movie tells about the tragedy of miserable people who turned to dogs. A group of people who desperately seeks for a job is abducted and forced to labor like slaves.'"
      ]
     },
     "execution_count": 9,
     "metadata": {},
     "output_type": "execute_result"
    }
   ],
   "source": [
    "training['summary'][0]"
   ]
  },
  {
   "cell_type": "markdown",
   "id": "51ebdf65",
   "metadata": {},
   "source": [
    "### Train using PyTorch Trainer API"
   ]
  },
  {
   "cell_type": "code",
   "execution_count": 10,
   "id": "ff2d7967",
   "metadata": {},
   "outputs": [],
   "source": [
    "# tokenize datasets using BERT tokenizer\n",
    "\n",
    "tokenizer = AutoTokenizer.from_pretrained(\"google-bert/bert-base-cased\")"
   ]
  },
  {
   "cell_type": "code",
   "execution_count": 10,
   "id": "8b03e0eb",
   "metadata": {},
   "outputs": [],
   "source": [
    "# title_mod = [f\"{t}<[SEP]>{s}\" for t, s in zip(training['title'], training['summary'])]"
   ]
  },
  {
   "cell_type": "code",
   "execution_count": 11,
   "id": "c2c9e513",
   "metadata": {},
   "outputs": [],
   "source": [
    "# tokenizerFunction(training[:5])"
   ]
  },
  {
   "cell_type": "code",
   "execution_count": 45,
   "id": "2c573203",
   "metadata": {},
   "outputs": [
    {
     "data": {
      "application/vnd.jupyter.widget-view+json": {
       "model_id": "4ed13b69571d46cf8d8c3c6c07bd5a89",
       "version_major": 2,
       "version_minor": 0
      },
      "text/plain": [
       "Map:   0%|          | 0/61824 [00:00<?, ? examples/s]"
      ]
     },
     "metadata": {},
     "output_type": "display_data"
    }
   ],
   "source": [
    "tokenized_training = training.map(tokenizerFunction, batched = True)\n",
    "tokenized_validation = validation.map(tokenizerFunction, batched = True)"
   ]
  },
  {
   "cell_type": "code",
   "execution_count": 35,
   "id": "ff5451ff",
   "metadata": {},
   "outputs": [
    {
     "data": {
      "text/plain": [
       "(370940, 7)"
      ]
     },
     "execution_count": 35,
     "metadata": {},
     "output_type": "execute_result"
    }
   ],
   "source": [
    "tokenized_training.shape"
   ]
  },
  {
   "cell_type": "code",
   "execution_count": 47,
   "id": "fc8d4ce3",
   "metadata": {},
   "outputs": [
    {
     "data": {
      "text/plain": [
       "(61824, 7)"
      ]
     },
     "execution_count": 47,
     "metadata": {},
     "output_type": "execute_result"
    }
   ],
   "source": [
    "tokenized_validation.shape"
   ]
  },
  {
   "cell_type": "code",
   "execution_count": 54,
   "id": "09cd455d",
   "metadata": {},
   "outputs": [],
   "source": [
    "# create a smaller subset of the training dataset to reduce the time it takes to fine-tune\n",
    "small_training = tokenized_training.select(range(100))\n",
    "small_evaluation = tokenized_validation.select(range(20))"
   ]
  },
  {
   "cell_type": "markdown",
   "id": "a7f3a5ee",
   "metadata": {},
   "source": [
    "#### Train"
   ]
  },
  {
   "cell_type": "code",
   "execution_count": 55,
   "id": "d225108c",
   "metadata": {},
   "outputs": [
    {
     "name": "stderr",
     "output_type": "stream",
     "text": [
      "Some weights of BertForSequenceClassification were not initialized from the model checkpoint at google-bert/bert-base-cased and are newly initialized: ['classifier.bias', 'classifier.weight']\n",
      "You should probably TRAIN this model on a down-stream task to be able to use it for predictions and inference.\n"
     ]
    }
   ],
   "source": [
    "model = AutoModelForSequenceClassification.from_pretrained(\"google-bert/bert-base-cased\", num_labels = 3)"
   ]
  },
  {
   "cell_type": "code",
   "execution_count": 56,
   "id": "e201f14f",
   "metadata": {},
   "outputs": [],
   "source": [
    "training_args = TrainingArguments(output_dir = \"test_trainer\")"
   ]
  },
  {
   "cell_type": "code",
   "execution_count": 57,
   "id": "8e245ff5",
   "metadata": {},
   "outputs": [],
   "source": [
    "# EVALUATE\n",
    "\n",
    "# Trainer does not automatically evaluate model performance during training. \n",
    "# the functions computeMetrics defined below will be passed to Trainer to compute and report metrics\n",
    "\n",
    "metric = evaluate.load(\"accuracy\")"
   ]
  },
  {
   "cell_type": "code",
   "execution_count": 58,
   "id": "8119130d",
   "metadata": {},
   "outputs": [],
   "source": [
    "# call compute on metric to calculate the accuracy of the predictions\n",
    "\n",
    "def computeMetrics(eval_pred):\n",
    "#     convert the logits to predictions before passing the predictions to compute\n",
    "    logits, labels = eval_pred\n",
    "    predictions = np.argmax(logits, axis = -1)\n",
    "    \n",
    "    return metric.compute(predictions = predictions, references = labels)\n"
   ]
  },
  {
   "cell_type": "code",
   "execution_count": null,
   "id": "e3028726",
   "metadata": {},
   "outputs": [],
   "source": [
    "#   def compute_metrics(eval_pred):\n",
    "\n",
    "#       logits, labels = eval_pred\n",
    "#       probabilities = expit(logits)\n",
    "#       predictions = (probabilities > 0.5).astype(int)\n",
    "\n",
    "#       res = classification_report(labels, predictions, output_dict = True, zero_division = 0, target_names = genre_list)\n",
    "\n",
    "#       confusion = multilabel_confusion_matrix(labels, predictions)\n",
    "\n",
    "#       macro_mcc = 0\n",
    "#       micro_mcc = compute_mcc(np.sum(confusion, axis = 0))\n",
    "\n",
    "#       for class_name, conf_matrix in zip(genre_list, confusion):\n",
    "\n",
    "#          class_mcc = compute_mcc(conf_matrix)\n",
    "\n",
    "#          res[class_name][\"mcc\"] = class_mcc\n",
    "#          macro_mcc += class_mcc\n",
    "\n",
    "#       macro_mcc = macro_mcc / len(genre_list)\n",
    "\n",
    "#       res[\"macro avg\"][\"mcc\"] = macro_mcc\n",
    "#       res[\"micro avg\"][\"mcc\"] = micro_mcc\n",
    "\n",
    "#       logging.info(res)\n",
    "\n",
    "#       return res"
   ]
  },
  {
   "cell_type": "code",
   "execution_count": 59,
   "id": "088269cc",
   "metadata": {},
   "outputs": [],
   "source": [
    "training_args = TrainingArguments(output_dir = \"test_trainer\", evaluation_strategy = \"epoch\")"
   ]
  },
  {
   "cell_type": "code",
   "execution_count": 60,
   "id": "88a54b10",
   "metadata": {},
   "outputs": [],
   "source": [
    "# TRAINER\n",
    "# use a small slice of the training dataset and validation dataset\n",
    "\n",
    "trainer = Trainer(\n",
    "    model = model,\n",
    "    args = training_args,\n",
    "    train_dataset = small_training,\n",
    "    eval_dataset = small_evaluation,\n",
    "    compute_metrics = computeMetrics,\n",
    ")"
   ]
  },
  {
   "cell_type": "code",
   "execution_count": 61,
   "id": "93b463a9",
   "metadata": {},
   "outputs": [
    {
     "data": {
      "text/html": [
       "\n",
       "    <div>\n",
       "      \n",
       "      <progress value='39' max='39' style='width:300px; height:20px; vertical-align: middle;'></progress>\n",
       "      [39/39 12:45, Epoch 3/3]\n",
       "    </div>\n",
       "    <table border=\"1\" class=\"dataframe\">\n",
       "  <thead>\n",
       " <tr style=\"text-align: left;\">\n",
       "      <th>Epoch</th>\n",
       "      <th>Training Loss</th>\n",
       "      <th>Validation Loss</th>\n",
       "      <th>Accuracy</th>\n",
       "    </tr>\n",
       "  </thead>\n",
       "  <tbody>\n",
       "    <tr>\n",
       "      <td>1</td>\n",
       "      <td>No log</td>\n",
       "      <td>0.705717</td>\n",
       "      <td>0.800000</td>\n",
       "    </tr>\n",
       "    <tr>\n",
       "      <td>2</td>\n",
       "      <td>No log</td>\n",
       "      <td>0.747443</td>\n",
       "      <td>0.800000</td>\n",
       "    </tr>\n",
       "    <tr>\n",
       "      <td>3</td>\n",
       "      <td>No log</td>\n",
       "      <td>0.688825</td>\n",
       "      <td>0.800000</td>\n",
       "    </tr>\n",
       "  </tbody>\n",
       "</table><p>"
      ],
      "text/plain": [
       "<IPython.core.display.HTML object>"
      ]
     },
     "metadata": {},
     "output_type": "display_data"
    },
    {
     "data": {
      "text/plain": [
       "TrainOutput(global_step=39, training_loss=0.7716258611434546, metrics={'train_runtime': 784.8856, 'train_samples_per_second': 0.382, 'train_steps_per_second': 0.05, 'total_flos': 78934025318400.0, 'train_loss': 0.7716258611434546, 'epoch': 3.0})"
      ]
     },
     "execution_count": 61,
     "metadata": {},
     "output_type": "execute_result"
    }
   ],
   "source": [
    "trainer.train()"
   ]
  },
  {
   "cell_type": "code",
   "execution_count": null,
   "id": "4189bb12",
   "metadata": {},
   "outputs": [],
   "source": []
  },
  {
   "cell_type": "code",
   "execution_count": null,
   "id": "69856e44",
   "metadata": {},
   "outputs": [],
   "source": []
  },
  {
   "cell_type": "code",
   "execution_count": null,
   "id": "43a44e81",
   "metadata": {},
   "outputs": [],
   "source": []
  },
  {
   "cell_type": "code",
   "execution_count": null,
   "id": "5007d30e",
   "metadata": {},
   "outputs": [],
   "source": []
  },
  {
   "cell_type": "code",
   "execution_count": null,
   "id": "4a74431e",
   "metadata": {},
   "outputs": [],
   "source": []
  },
  {
   "cell_type": "code",
   "execution_count": null,
   "id": "ab772802",
   "metadata": {},
   "outputs": [],
   "source": []
  },
  {
   "cell_type": "code",
   "execution_count": null,
   "id": "968422da",
   "metadata": {},
   "outputs": [],
   "source": []
  }
 ],
 "metadata": {
  "kernelspec": {
   "display_name": "Python 3 (ipykernel)",
   "language": "python",
   "name": "python3"
  },
  "language_info": {
   "codemirror_mode": {
    "name": "ipython",
    "version": 3
   },
   "file_extension": ".py",
   "mimetype": "text/x-python",
   "name": "python",
   "nbconvert_exporter": "python",
   "pygments_lexer": "ipython3",
   "version": "3.9.18"
  }
 },
 "nbformat": 4,
 "nbformat_minor": 5
}
