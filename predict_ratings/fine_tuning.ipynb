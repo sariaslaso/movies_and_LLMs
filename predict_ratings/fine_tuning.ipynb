{
 "cells": [
  {
   "cell_type": "code",
   "execution_count": 147,
   "id": "d83f54c1",
   "metadata": {},
   "outputs": [],
   "source": [
    "import pandas as pd\n",
    "import json\n",
    "import tensorflow as tf\n",
    "import numpy as np\n",
    "import evaluate\n",
    "\n",
    "from datasets import load_dataset\n",
    "from scipy.special import softmax\n",
    "from scipy.special import expit\n",
    "\n",
    "from sklearn.metrics import multilabel_confusion_matrix\n",
    "from sklearn.metrics import classification_report\n",
    "\n",
    "from transformers import AutoTokenizer\n",
    "from transformers import AutoModelForSequenceClassification\n",
    "from transformers import TrainingArguments\n",
    "from transformers import TrainingArguments, Trainer\n"
   ]
  },
  {
   "cell_type": "code",
   "execution_count": 2,
   "id": "2919613e",
   "metadata": {},
   "outputs": [],
   "source": [
    "# helper functions\n",
    "\n",
    "\n",
    "def tokenizerFunction(example):\n",
    "    \n",
    "    title_mod = [f\"{t}<[SEP]>{s}\" for t, s in zip(example['title'], example['summary'])]\n",
    "    \n",
    "    return tokenizer(title_mod, example['genres'], padding = 'max_length', truncation = True)\n",
    "    \n",
    "    \n",
    "    "
   ]
  },
  {
   "cell_type": "code",
   "execution_count": 3,
   "id": "21dc4ab9",
   "metadata": {},
   "outputs": [],
   "source": [
    "# load datasets using hugging face\n",
    "\n",
    "data_files = {\n",
    "        \"train\" : \"../datasets/training\",\n",
    "        \"val\" : \"../datasets/validation\",\n",
    "        \"test\" : \"../datasets/test\",\n",
    "        } \n",
    "\n",
    "training = load_dataset(\"json\", data_files = data_files, split = \"train\")\n",
    "validation = load_dataset(\"json\", data_files = data_files, split = \"val\")\n",
    "test = load_dataset(\"json\", data_files = data_files, split = \"test\")"
   ]
  },
  {
   "cell_type": "code",
   "execution_count": 7,
   "id": "95706598",
   "metadata": {},
   "outputs": [
    {
     "data": {
      "text/plain": [
       "Dataset({\n",
       "    features: ['title', 'summary', 'genres', 'label'],\n",
       "    num_rows: 370940\n",
       "})"
      ]
     },
     "execution_count": 7,
     "metadata": {},
     "output_type": "execute_result"
    }
   ],
   "source": [
    "training"
   ]
  },
  {
   "cell_type": "code",
   "execution_count": 79,
   "id": "413d9fbb",
   "metadata": {},
   "outputs": [
    {
     "data": {
      "text/plain": [
       "{'title': 'Beast',\n",
       " 'summary': 'The movie tells about the tragedy of miserable people who turned to dogs. A group of people who desperately seeks for a job is abducted and forced to labor like slaves.',\n",
       " 'genres': 'Drama',\n",
       " 'label': 2}"
      ]
     },
     "execution_count": 79,
     "metadata": {},
     "output_type": "execute_result"
    }
   ],
   "source": [
    "training[0]"
   ]
  },
  {
   "cell_type": "code",
   "execution_count": 80,
   "id": "0fc06e6c",
   "metadata": {},
   "outputs": [
    {
     "data": {
      "text/plain": [
       "'The movie tells about the tragedy of miserable people who turned to dogs. A group of people who desperately seeks for a job is abducted and forced to labor like slaves.'"
      ]
     },
     "execution_count": 80,
     "metadata": {},
     "output_type": "execute_result"
    }
   ],
   "source": [
    "training['summary'][0]"
   ]
  },
  {
   "cell_type": "markdown",
   "id": "51ebdf65",
   "metadata": {},
   "source": [
    "### Train using PyTorch Trainer API"
   ]
  },
  {
   "cell_type": "code",
   "execution_count": 10,
   "id": "ff2d7967",
   "metadata": {},
   "outputs": [],
   "source": [
    "# tokenize datasets using BERT tokenizer\n",
    "\n",
    "tokenizer = AutoTokenizer.from_pretrained(\"google-bert/bert-base-cased\")"
   ]
  },
  {
   "cell_type": "code",
   "execution_count": 10,
   "id": "8b03e0eb",
   "metadata": {},
   "outputs": [],
   "source": [
    "# title_mod = [f\"{t}<[SEP]>{s}\" for t, s in zip(training['title'], training['summary'])]"
   ]
  },
  {
   "cell_type": "code",
   "execution_count": 11,
   "id": "c2c9e513",
   "metadata": {},
   "outputs": [],
   "source": [
    "# tokenizerFunction(training[:5])"
   ]
  },
  {
   "cell_type": "code",
   "execution_count": 45,
   "id": "2c573203",
   "metadata": {},
   "outputs": [
    {
     "data": {
      "application/vnd.jupyter.widget-view+json": {
       "model_id": "4ed13b69571d46cf8d8c3c6c07bd5a89",
       "version_major": 2,
       "version_minor": 0
      },
      "text/plain": [
       "Map:   0%|          | 0/61824 [00:00<?, ? examples/s]"
      ]
     },
     "metadata": {},
     "output_type": "display_data"
    }
   ],
   "source": [
    "tokenized_training = training.map(tokenizerFunction, batched = True)\n",
    "tokenized_validation = validation.map(tokenizerFunction, batched = True)"
   ]
  },
  {
   "cell_type": "code",
   "execution_count": 81,
   "id": "aee2fceb",
   "metadata": {},
   "outputs": [
    {
     "data": {
      "text/plain": [
       "(370940, 7)"
      ]
     },
     "execution_count": 81,
     "metadata": {},
     "output_type": "execute_result"
    }
   ],
   "source": [
    "tokenized_training.shape"
   ]
  },
  {
   "cell_type": "code",
   "execution_count": 82,
   "id": "c2fbad66",
   "metadata": {},
   "outputs": [
    {
     "data": {
      "text/plain": [
       "(61824, 7)"
      ]
     },
     "execution_count": 82,
     "metadata": {},
     "output_type": "execute_result"
    }
   ],
   "source": [
    "tokenized_validation.shape"
   ]
  },
  {
   "cell_type": "code",
   "execution_count": 54,
   "id": "19c5165f",
   "metadata": {},
   "outputs": [],
   "source": [
    "# create a smaller subset of the training dataset to reduce the time it takes to fine-tune\n",
    "small_training = tokenized_training.select(range(100))\n",
    "small_evaluation = tokenized_validation.select(range(20))"
   ]
  },
  {
   "cell_type": "markdown",
   "id": "a7f3a5ee",
   "metadata": {},
   "source": [
    "#### Train"
   ]
  },
  {
   "cell_type": "code",
   "execution_count": 84,
   "id": "d225108c",
   "metadata": {},
   "outputs": [
    {
     "name": "stderr",
     "output_type": "stream",
     "text": [
      "Some weights of BertForSequenceClassification were not initialized from the model checkpoint at google-bert/bert-base-cased and are newly initialized: ['classifier.bias', 'classifier.weight']\n",
      "You should probably TRAIN this model on a down-stream task to be able to use it for predictions and inference.\n"
     ]
    }
   ],
   "source": [
    "model = AutoModelForSequenceClassification.from_pretrained(\"google-bert/bert-base-cased\", num_labels = 3)"
   ]
  },
  {
   "cell_type": "code",
   "execution_count": 85,
   "id": "e201f14f",
   "metadata": {},
   "outputs": [],
   "source": [
    "training_args = TrainingArguments(output_dir = \"test_trainer\")"
   ]
  },
  {
   "cell_type": "code",
   "execution_count": 57,
   "id": "8e245ff5",
   "metadata": {},
   "outputs": [],
   "source": [
    "# EVALUATE\n",
    "\n",
    "# Trainer does not automatically evaluate model performance during training. \n",
    "# the functions computeMetrics defined below will be passed to Trainer to compute and report metrics\n",
    "\n",
    "metric = evaluate.load(\"accuracy\")"
   ]
  },
  {
   "cell_type": "code",
   "execution_count": 94,
   "id": "8119130d",
   "metadata": {},
   "outputs": [],
   "source": [
    "# call compute on metric to calculate the accuracy of the predictions\n",
    "\n",
    "def computeMetrics(eval_pred):\n",
    "#     convert the logits to predictions before passing the predictions to compute\n",
    "    logits, labels = eval_pred\n",
    "    predictions = np.argmax(logits, axis = -1)\n",
    "  \n",
    "    return metric.compute(predictions = predictions, references = labels)\n"
   ]
  },
  {
   "cell_type": "code",
   "execution_count": null,
   "id": "3d4e742e",
   "metadata": {},
   "outputs": [],
   "source": [
    "#   def compute_metrics(eval_pred):\n",
    "\n",
    "#       logits, labels = eval_pred\n",
    "#       probabilities = expit(logits)\n",
    "#       predictions = (probabilities > 0.5).astype(int)\n",
    "\n",
    "#       res = classification_report(labels, predictions, output_dict = True, zero_division = 0, target_names = genre_list)\n",
    "\n",
    "#       confusion = multilabel_confusion_matrix(labels, predictions)\n",
    "\n",
    "#       macro_mcc = 0\n",
    "#       micro_mcc = compute_mcc(np.sum(confusion, axis = 0))\n",
    "\n",
    "#       for class_name, conf_matrix in zip(genre_list, confusion):\n",
    "\n",
    "#          class_mcc = compute_mcc(conf_matrix)\n",
    "\n",
    "#          res[class_name][\"mcc\"] = class_mcc\n",
    "#          macro_mcc += class_mcc\n",
    "\n",
    "#       macro_mcc = macro_mcc / len(genre_list)\n",
    "\n",
    "#       res[\"macro avg\"][\"mcc\"] = macro_mcc\n",
    "#       res[\"micro avg\"][\"mcc\"] = micro_mcc\n",
    "\n",
    "#       logging.info(res)\n",
    "\n",
    "#       return res"
   ]
  },
  {
   "cell_type": "code",
   "execution_count": 95,
   "id": "088269cc",
   "metadata": {},
   "outputs": [],
   "source": [
    "training_args = TrainingArguments(output_dir = \"test_trainer\", evaluation_strategy = \"epoch\")"
   ]
  },
  {
   "cell_type": "code",
   "execution_count": 96,
   "id": "0d1af0ce",
   "metadata": {},
   "outputs": [],
   "source": [
    "# TRAINER\n",
    "# trainer object\n",
    "# use a small slice of the training dataset and validation dataset\n",
    "\n",
    "trainer = Trainer(\n",
    "    model = model,\n",
    "    args = training_args,\n",
    "    train_dataset = small_training,\n",
    "    eval_dataset = small_evaluation,\n",
    "    compute_metrics = computeMetrics,\n",
    ")"
   ]
  },
  {
   "cell_type": "code",
   "execution_count": 97,
   "id": "6af1ae69",
   "metadata": {},
   "outputs": [
    {
     "data": {
      "text/html": [
       "\n",
       "    <div>\n",
       "      \n",
       "      <progress value='39' max='39' style='width:300px; height:20px; vertical-align: middle;'></progress>\n",
       "      [39/39 10:22, Epoch 3/3]\n",
       "    </div>\n",
       "    <table border=\"1\" class=\"dataframe\">\n",
       "  <thead>\n",
       " <tr style=\"text-align: left;\">\n",
       "      <th>Epoch</th>\n",
       "      <th>Training Loss</th>\n",
       "      <th>Validation Loss</th>\n",
       "      <th>Accuracy</th>\n",
       "    </tr>\n",
       "  </thead>\n",
       "  <tbody>\n",
       "    <tr>\n",
       "      <td>1</td>\n",
       "      <td>No log</td>\n",
       "      <td>0.749417</td>\n",
       "      <td>0.800000</td>\n",
       "    </tr>\n",
       "    <tr>\n",
       "      <td>2</td>\n",
       "      <td>No log</td>\n",
       "      <td>0.739886</td>\n",
       "      <td>0.750000</td>\n",
       "    </tr>\n",
       "    <tr>\n",
       "      <td>3</td>\n",
       "      <td>No log</td>\n",
       "      <td>0.832089</td>\n",
       "      <td>0.750000</td>\n",
       "    </tr>\n",
       "  </tbody>\n",
       "</table><p>"
      ],
      "text/plain": [
       "<IPython.core.display.HTML object>"
      ]
     },
     "metadata": {},
     "output_type": "display_data"
    },
    {
     "data": {
      "text/plain": [
       "TrainOutput(global_step=39, training_loss=0.5852581904484675, metrics={'train_runtime': 636.6986, 'train_samples_per_second': 0.471, 'train_steps_per_second': 0.061, 'total_flos': 78934025318400.0, 'train_loss': 0.5852581904484675, 'epoch': 3.0})"
      ]
     },
     "execution_count": 97,
     "metadata": {},
     "output_type": "execute_result"
    }
   ],
   "source": [
    "trainer.train()"
   ]
  },
  {
   "cell_type": "code",
   "execution_count": 117,
   "id": "1cca6e1f",
   "metadata": {},
   "outputs": [
    {
     "data": {
      "text/html": [],
      "text/plain": [
       "<IPython.core.display.HTML object>"
      ]
     },
     "metadata": {},
     "output_type": "display_data"
    },
    {
     "data": {
      "text/plain": [
       "PredictionOutput(predictions=array([[-1.2641485,  2.467274 , -1.0243659],\n",
       "       [-1.2568437,  2.4920769, -1.0423361]], dtype=float32), label_ids=array([2, 1]), metrics={'test_loss': 1.7979985475540161, 'test_accuracy': 0.5, 'test_runtime': 0.8578, 'test_samples_per_second': 2.332, 'test_steps_per_second': 1.166})"
      ]
     },
     "execution_count": 117,
     "metadata": {},
     "output_type": "execute_result"
    }
   ],
   "source": [
    "trainer.predict(tokenized_training.select(range(2)))"
   ]
  },
  {
   "cell_type": "code",
   "execution_count": 121,
   "id": "81cb4871",
   "metadata": {},
   "outputs": [
    {
     "data": {
      "text/html": [],
      "text/plain": [
       "<IPython.core.display.HTML object>"
      ]
     },
     "metadata": {},
     "output_type": "display_data"
    },
    {
     "data": {
      "text/plain": [
       "array([2, 1])"
      ]
     },
     "execution_count": 121,
     "metadata": {},
     "output_type": "execute_result"
    }
   ],
   "source": [
    "trainer.predict(tokenized_training.select(range(2))).label_ids"
   ]
  },
  {
   "cell_type": "code",
   "execution_count": 146,
   "id": "0b932642",
   "metadata": {},
   "outputs": [
    {
     "data": {
      "text/html": [],
      "text/plain": [
       "<IPython.core.display.HTML object>"
      ]
     },
     "metadata": {},
     "output_type": "display_data"
    },
    {
     "data": {
      "text/html": [],
      "text/plain": [
       "<IPython.core.display.HTML object>"
      ]
     },
     "metadata": {},
     "output_type": "display_data"
    }
   ],
   "source": [
    "predictions = trainer.predict(tokenized_training.select(range(2))).predictions\n",
    "labels = trainer.predict(tokenized_training.select(range(2))).label_ids"
   ]
  },
  {
   "cell_type": "code",
   "execution_count": 153,
   "id": "7b23ff71",
   "metadata": {},
   "outputs": [
    {
     "data": {
      "text/plain": [
       "array([2, 1])"
      ]
     },
     "execution_count": 153,
     "metadata": {},
     "output_type": "execute_result"
    }
   ],
   "source": [
    "labels"
   ]
  },
  {
   "cell_type": "code",
   "execution_count": 145,
   "id": "aae89f41",
   "metadata": {},
   "outputs": [
    {
     "data": {
      "text/plain": [
       "array([[-1.2641485,  2.467274 , -1.0243659],\n",
       "       [-1.2568437,  2.4920769, -1.0423361]], dtype=float32)"
      ]
     },
     "execution_count": 145,
     "metadata": {},
     "output_type": "execute_result"
    }
   ],
   "source": [
    "predictions"
   ]
  },
  {
   "cell_type": "code",
   "execution_count": 158,
   "id": "b0852b59",
   "metadata": {},
   "outputs": [
    {
     "data": {
      "text/plain": [
       "array([[0.22026058, 0.9218155 , 0.26417786],\n",
       "       [0.22151771, 0.9235845 , 0.2606995 ]], dtype=float32)"
      ]
     },
     "execution_count": 158,
     "metadata": {},
     "output_type": "execute_result"
    }
   ],
   "source": [
    "expit(predictions)"
   ]
  },
  {
   "cell_type": "code",
   "execution_count": 160,
   "id": "122ce6a1",
   "metadata": {},
   "outputs": [
    {
     "data": {
      "text/plain": [
       "array([[0, 1, 0],\n",
       "       [0, 1, 0]])"
      ]
     },
     "execution_count": 160,
     "metadata": {},
     "output_type": "execute_result"
    }
   ],
   "source": [
    "(expit(predictions) > 0.5).astype(int)"
   ]
  },
  {
   "cell_type": "code",
   "execution_count": 163,
   "id": "78b80dad",
   "metadata": {},
   "outputs": [
    {
     "data": {
      "text/plain": [
       "array([1, 1])"
      ]
     },
     "execution_count": 163,
     "metadata": {},
     "output_type": "execute_result"
    }
   ],
   "source": [
    "np.argmax(predictions, axis = -1)"
   ]
  },
  {
   "cell_type": "code",
   "execution_count": 167,
   "id": "fd979815",
   "metadata": {},
   "outputs": [
    {
     "name": "stderr",
     "output_type": "stream",
     "text": [
      "/usr/local/lib/python3.9/site-packages/sklearn/metrics/_classification.py:1471: UndefinedMetricWarning: Precision and F-score are ill-defined and being set to 0.0 in labels with no predicted samples. Use `zero_division` parameter to control this behavior.\n",
      "  _warn_prf(average, modifier, msg_start, len(result))\n",
      "/usr/local/lib/python3.9/site-packages/sklearn/metrics/_classification.py:1471: UndefinedMetricWarning: Recall and F-score are ill-defined and being set to 0.0 in labels with no true samples. Use `zero_division` parameter to control this behavior.\n",
      "  _warn_prf(average, modifier, msg_start, len(result))\n",
      "/usr/local/lib/python3.9/site-packages/sklearn/metrics/_classification.py:1471: UndefinedMetricWarning: Precision and F-score are ill-defined and being set to 0.0 in labels with no predicted samples. Use `zero_division` parameter to control this behavior.\n",
      "  _warn_prf(average, modifier, msg_start, len(result))\n",
      "/usr/local/lib/python3.9/site-packages/sklearn/metrics/_classification.py:1471: UndefinedMetricWarning: Recall and F-score are ill-defined and being set to 0.0 in labels with no true samples. Use `zero_division` parameter to control this behavior.\n",
      "  _warn_prf(average, modifier, msg_start, len(result))\n",
      "/usr/local/lib/python3.9/site-packages/sklearn/metrics/_classification.py:1471: UndefinedMetricWarning: Precision and F-score are ill-defined and being set to 0.0 in labels with no predicted samples. Use `zero_division` parameter to control this behavior.\n",
      "  _warn_prf(average, modifier, msg_start, len(result))\n",
      "/usr/local/lib/python3.9/site-packages/sklearn/metrics/_classification.py:1471: UndefinedMetricWarning: Recall and F-score are ill-defined and being set to 0.0 in labels with no true samples. Use `zero_division` parameter to control this behavior.\n",
      "  _warn_prf(average, modifier, msg_start, len(result))\n"
     ]
    },
    {
     "data": {
      "text/plain": [
       "{'bad': {'precision': 0.0, 'recall': 0.0, 'f1-score': 0.0, 'support': 0.0},\n",
       " 'average': {'precision': 0.5,\n",
       "  'recall': 1.0,\n",
       "  'f1-score': 0.6666666666666666,\n",
       "  'support': 1.0},\n",
       " 'good': {'precision': 0.0, 'recall': 0.0, 'f1-score': 0.0, 'support': 1.0},\n",
       " 'micro avg': {'precision': 0.5,\n",
       "  'recall': 0.5,\n",
       "  'f1-score': 0.5,\n",
       "  'support': 2.0},\n",
       " 'macro avg': {'precision': 0.16666666666666666,\n",
       "  'recall': 0.3333333333333333,\n",
       "  'f1-score': 0.2222222222222222,\n",
       "  'support': 2.0},\n",
       " 'weighted avg': {'precision': 0.25,\n",
       "  'recall': 0.5,\n",
       "  'f1-score': 0.3333333333333333,\n",
       "  'support': 2.0}}"
      ]
     },
     "execution_count": 167,
     "metadata": {},
     "output_type": "execute_result"
    }
   ],
   "source": [
    "classification_report(labels, np.argmax(predictions, axis = -1), output_dict = True, labels = [0, 1, 2], \n",
    "                      target_names = ['bad', 'average', 'good'])"
   ]
  },
  {
   "cell_type": "code",
   "execution_count": 156,
   "id": "7af35448",
   "metadata": {},
   "outputs": [
    {
     "data": {
      "text/plain": [
       "array([[0.01122943, 0.4686989 , 0.0142723 ],\n",
       "       [0.01131176, 0.48046938, 0.01401812]], dtype=float32)"
      ]
     },
     "execution_count": 156,
     "metadata": {},
     "output_type": "execute_result"
    }
   ],
   "source": [
    "softmax(predictions)"
   ]
  },
  {
   "cell_type": "code",
   "execution_count": 116,
   "id": "1e6aea80",
   "metadata": {},
   "outputs": [
    {
     "data": {
      "text/plain": [
       "array([1, 1])"
      ]
     },
     "execution_count": 116,
     "metadata": {},
     "output_type": "execute_result"
    }
   ],
   "source": [
    "np.argmax(predictions, axis = -1)"
   ]
  },
  {
   "cell_type": "code",
   "execution_count": 168,
   "id": "601bdbf6",
   "metadata": {},
   "outputs": [
    {
     "data": {
      "text/plain": [
       "array([[[0, 1],\n",
       "        [0, 1]],\n",
       "\n",
       "       [[1, 0],\n",
       "        [1, 0]]])"
      ]
     },
     "execution_count": 168,
     "metadata": {},
     "output_type": "execute_result"
    }
   ],
   "source": [
    "multilabel_confusion_matrix(labels, np.argmax(predictions, axis = -1))"
   ]
  },
  {
   "cell_type": "code",
   "execution_count": null,
   "id": "6ef4600e",
   "metadata": {},
   "outputs": [],
   "source": []
  },
  {
   "cell_type": "code",
   "execution_count": null,
   "id": "968422da",
   "metadata": {},
   "outputs": [],
   "source": []
  }
 ],
 "metadata": {
  "kernelspec": {
   "display_name": "Python 3 (ipykernel)",
   "language": "python",
   "name": "python3"
  },
  "language_info": {
   "codemirror_mode": {
    "name": "ipython",
    "version": 3
   },
   "file_extension": ".py",
   "mimetype": "text/x-python",
   "name": "python",
   "nbconvert_exporter": "python",
   "pygments_lexer": "ipython3",
   "version": "3.9.18"
  }
 },
 "nbformat": 4,
 "nbformat_minor": 5
}
