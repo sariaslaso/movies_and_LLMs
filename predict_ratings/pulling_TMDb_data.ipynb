{
 "cells": [
  {
   "cell_type": "code",
   "execution_count": 122,
   "id": "f920fd9c",
   "metadata": {},
   "outputs": [],
   "source": [
    "import pandas as pd\n",
    "import json\n",
    "\n",
    "from themoviedb import TMDb\n",
    "import dataclasses\n",
    "\n",
    "from requests import HTTPError"
   ]
  },
  {
   "cell_type": "code",
   "execution_count": 123,
   "id": "59a744ba",
   "metadata": {},
   "outputs": [],
   "source": [
    "# helper functions\n",
    "\n",
    "def castSubset(cast_data):\n",
    "# cast_data is a list pulled from TMDb credits\n",
    "# return a set with the 3 most relevant actors in the cast\n",
    "\n",
    "    sorted_cast = sorted(cast_data, key = lambda x: x.order)\n",
    "    \n",
    "    return [x.name for x in sorted_cast[:3]]\n",
    "\n",
    "def genresList(genres_data):\n",
    "# return a list containing the genres of the movie object\n",
    "        \n",
    "    genres = [genre.name for genre in genres_data]\n",
    "    \n",
    "    return genres\n",
    "\n",
    "def languageIso(spoken_languages):\n",
    "# return a list containing the iso codes of the spoken languages\n",
    "\n",
    "    language_isos = [language.iso_639_1 for language in spoken_languages]\n",
    "    \n",
    "    return language_isos\n",
    "    \n",
    "    "
   ]
  },
  {
   "cell_type": "code",
   "execution_count": 124,
   "id": "c072f34f",
   "metadata": {},
   "outputs": [],
   "source": [
    "# read API key to access TMDb \n",
    "with open(\"TMDb_key.txt\") as my_key:\n",
    "    api_key = my_key.read()"
   ]
  },
  {
   "cell_type": "code",
   "execution_count": 125,
   "id": "d6c0d5c2",
   "metadata": {},
   "outputs": [],
   "source": [
    "try:\n",
    "    #open file \"r\"\n",
    "    #parse file collect ids of already collected movies\n",
    "    #return set of ids\n",
    "\n",
    "    with open(\"../datasets/tmdb/movie_db\", \"r\") as movies_file:\n",
    "        movies_entries = movies_file.readlines()\n",
    "        pulled_ids = set()\n",
    "    \n",
    "        for line in movies_entries:\n",
    "            movie_id = json.loads(line)[\"id\"]\n",
    "            pulled_ids.add(movie_id)\n",
    "            \n",
    "except FileNotFoundError:\n",
    "    pulled_ids = set()"
   ]
  },
  {
   "cell_type": "code",
   "execution_count": null,
   "id": "7caad284",
   "metadata": {},
   "outputs": [],
   "source": [
    "with open(\"../datasets/tmdb/movie_db\", \"a\") as outfile:\n",
    "    \n",
    "    with open(\"../datasets/tmdb/movie_ids_03_06_2024.json\", \"r\") as ids_file:\n",
    "        lines = ids_file.readlines()\n",
    "    \n",
    "    for line in lines:\n",
    "        tmdb_id = json.loads(line)[\"id\"]\n",
    "        \n",
    "        # check if the movie id has already been used\n",
    "        if tmdb_id in pulled_ids:\n",
    "            continue\n",
    "            \n",
    "        try:\n",
    "            #get example from tmdb by tmdb_id using the API\n",
    "            movie_tmdb_data = tmdb.movie(movie_id = tmdb_id).details(append_to_response = \"credits\")\n",
    "            \n",
    "        except HTTPError:\n",
    "            continue\n",
    "            \n",
    "        else:\n",
    "            #get info from the movie object: movie title, summary, rating, cast\n",
    "            title = movie_tmdb_data.title\n",
    "            summary = movie_tmdb_data.overview\n",
    "            genres = genresList(movie_tmdb_data.genres)\n",
    "            spoken_languages = languageIso(movie_tmdb_data.spoken_languages)\n",
    "            rating = movie_tmdb_data.vote_average\n",
    "            cast = castSubset(movie_tmdb_data.credits.cast)\n",
    "            \n",
    "            #dictionary with relevant feature\n",
    "            movie_ex = {\"id\": tmdb_id, \n",
    "                        \"title\": title, \n",
    "                        \"summary\": summary,\n",
    "                        \"genres\": genres,\n",
    "                        \"spoken_languages\": spoken_languages,\n",
    "                        \"cast\": cast, \n",
    "                        \"rating\": rating}\n",
    "            \n",
    "            #dump to file\n",
    "            outfile.write(json.dumps(movie_ex) + \"\\n\")\n",
    "            \n",
    "            pulled_ids.add(tmdb_id)\n",
    "    "
   ]
  },
  {
   "cell_type": "code",
   "execution_count": 126,
   "id": "b77ed42e",
   "metadata": {},
   "outputs": [
    {
     "data": {
      "text/plain": [
       "set()"
      ]
     },
     "execution_count": 126,
     "metadata": {},
     "output_type": "execute_result"
    }
   ],
   "source": [
    "pulled_ids"
   ]
  },
  {
   "cell_type": "code",
   "execution_count": null,
   "id": "0cfd1097",
   "metadata": {},
   "outputs": [],
   "source": []
  },
  {
   "cell_type": "code",
   "execution_count": null,
   "id": "a80c76f4",
   "metadata": {},
   "outputs": [],
   "source": []
  },
  {
   "cell_type": "code",
   "execution_count": 60,
   "id": "59c8b965",
   "metadata": {},
   "outputs": [],
   "source": [
    "# initialize a TMDb object and set the API key\n",
    "tmdb = TMDb(key = api_key)"
   ]
  },
  {
   "cell_type": "code",
   "execution_count": 111,
   "id": "d3ca524b",
   "metadata": {},
   "outputs": [
    {
     "data": {
      "text/plain": [
       "Movie(id=705996, poster_path='/N0rskx91Eh6aWjvBybeY6epNic.jpg', adult=False, overview='From a mountain peak in South Korea, a man plummets to his death. Did he jump, or was he pushed? When detective Hae-joon arrives on the scene, he begins to suspect the dead man’s wife Seo-rae. But as he digs deeper into the investigation, he finds himself trapped in a web of deception and desire.', release_date=datetime.date(2022, 6, 29), genre_ids=None, original_title='헤어질 결심', original_language='ko', title='Decision to Leave', backdrop_path='/A1bWhTFQKkhF1yhSKWosSyzn2Hp.jpg', popularity=64.412, vote_count=1040, video=False, vote_average=7.4, media_type=<MediaType.movie: 'movie'>, belongs_to_collection=None, budget=0, genres=[Genre(id=53, name='Thriller'), Genre(id=9648, name='Mystery'), Genre(id=10749, name='Romance')], homepage='', imdb_id='tt12477480', production_companies=[Company(id=34725, logo_path='/cRqXC6Dy6AvTGS2wiMt26yGJgZA.png', name='Moho Film', description=None, headquarters=None, homepage=None, origin_country='KR', parent_company=None), Company(id=7036, logo_path='/javbyY0ZCvlFJtly3tpZqf2NwLX.png', name='CJ Entertainment', description=None, headquarters=None, homepage=None, origin_country='KR', parent_company=None)], production_countries=[Country(iso_3166_1='KR', name='South Korea')], revenue=16914773, runtime=138, spoken_languages=[Language(english_name='English', iso_639_1='en', name='English'), Language(english_name='Mandarin', iso_639_1='zh', name='普通话'), Language(english_name='Korean', iso_639_1='ko', name='한국어/조선말')], status='Released', tagline='The Closer You Look, The Harder You Fall.', alternative_titles=None, credits=Credits(id=None, cast=[Cast(id=38280, adult=False, gender=1, known_for_department='Acting', name='Tang Wei', original_name='Tang Wei', popularity=26.203, profile_path='/pXBCiu7mVEnrnDpIRc5cyyg1wPK.jpg', cast_id=2, character='Song Seo-rae', credit_id='5ec34ec728723c0020495dcb', order=0, total_episode_count=None, roles=None), Cast(id=21687, adult=False, gender=2, known_for_department='Acting', name='Park Hae-il', original_name='Park Hae-il', popularity=12.074, profile_path='/8ltdBxd40m2iAnsRKV0JMbv7rZT.jpg', cast_id=1, character='Jang Hae-joon', credit_id='5ec34ec13d3557001ce52d2e', order=1, total_episode_count=None, roles=None), Cast(id=1244822, adult=False, gender=1, known_for_department='Acting', name='Lee Jung-hyun', original_name='Lee Jung-hyun', popularity=6.023, profile_path='/rOm1wgpRGDAyc8YvsWW3A99zmbi.jpg', cast_id=6, character='Jeong-ahn', credit_id='5f696bb5a6e2d2003b5ae659', order=2, total_episode_count=None, roles=None), Cast(id=1257601, adult=False, gender=2, known_for_department='Acting', name='Go Kyung-pyo', original_name='Go Kyung-pyo', popularity=9.817, profile_path='/71ey2m4Ono5wHYAl4cUjJvYwrzP.jpg', cast_id=7, character='Soo-wan', credit_id='5f697af9a0b69000393e26e3', order=3, total_episode_count=None, roles=None), Cast(id=17124, adult=False, gender=2, known_for_department='Acting', name='Park Yong-woo', original_name='Park Yong-woo', popularity=10.805, profile_path='/kT0n5LGzij0RNaYXBxg8hDpTR9Z.jpg', cast_id=14, character='Lim Ho-shin', credit_id='602271e7149565003e71fe22', order=4, total_episode_count=None, roles=None), Cast(id=1376567, adult=False, gender=1, known_for_department='Acting', name='Kim Shin-young', original_name='Kim Shin-young', popularity=7.95, profile_path='/sJ7fQPyL3gQeywZvKzupZM60NmY.jpg', cast_id=27, character='Yeon-su', credit_id='628c52f912425c005272f67b', order=5, total_episode_count=None, roles=None), Cast(id=1128004, adult=False, gender=2, known_for_department='Acting', name='Yoo Seung-mok', original_name='Yoo Seung-mok', popularity=10.726, profile_path='/jbHLHMMSuWYR27znM8ZSA6m2kJw.jpg', cast_id=36, character='Ki Do-soo', credit_id='62b4411cc2bcc60064d2d357', order=6, total_episode_count=None, roles=None), Cast(id=2326809, adult=False, gender=1, known_for_department='Acting', name='Jung Yi-seo', original_name='Jung Yi-seo', popularity=12.55, profile_path='/o6Nfe0BiZs6CCSm8BigPshbu0px.jpg', cast_id=8, character='Mi-ji', credit_id='5f6a9518cee2f60035341635', order=7, total_episode_count=None, roles=None), Cast(id=2128181, adult=False, gender=1, known_for_department='Acting', name='Jung Young-sook', original_name='Jung Young-sook', popularity=9.608, profile_path='/z2mZFjNXrT1ZnYM39e4pW1f1l9X.jpg', cast_id=13, character='Monday Granny', credit_id='5fe9a3560e64af003e9fb761', order=8, total_episode_count=None, roles=None), Cast(id=1615316, adult=False, gender=2, known_for_department='Acting', name='Lee Hak-ju', original_name='Lee Hak-ju', popularity=6.308, profile_path='/9PuGmzY1nm8uYYiOanEKJHEcdbZ.jpg', cast_id=32, character='Lee Ji-goo', credit_id='628c533e0b73160050c765df', order=9, total_episode_count=None, roles=None), Cast(id=571172, adult=False, gender=2, known_for_department='Acting', name='Park Jeong-min', original_name='Park Jeong-min', popularity=6.545, profile_path='/fgmu7vAAB2hhWCQHdQDi8IbsDrN.jpg', cast_id=28, character='Hong San-oh', credit_id='628c5300df86a800a6fe25fb', order=10, total_episode_count=None, roles=None), Cast(id=1576059, adult=False, gender=1, known_for_department='Acting', name='Jeong Ha-dam', original_name='Jeong Ha-dam', popularity=6.544, profile_path='/xLYqt1GQqA0UzRmNH6Xo7EIz7mH.jpg', cast_id=33, character='Oh Ga-in', credit_id='628c5342d48cee0051e7d4ad', order=11, total_episode_count=None, roles=None), Cast(id=1591370, adult=False, gender=2, known_for_department='Acting', name='Seo Hyun-woo', original_name='Seo Hyun-woo', popularity=7.413, profile_path='/i5HP0n06Y5GIZfpsbibFQWAcUjV.jpg', cast_id=31, character='Cheol-seong', credit_id='628c531e1a324817973ae7d7', order=12, total_episode_count=None, roles=None), Cast(id=1387126, adult=False, gender=2, known_for_department='Acting', name='Teo Yoo', original_name='Teo Yoo', popularity=28.887, profile_path='/vuzKCKo2kIskjbDEcl2EMLv6uhO.jpg', cast_id=29, character='Assistant Manager Lee', credit_id='628c5309d3d3870068647a01', order=13, total_episode_count=None, roles=None), Cast(id=3390939, adult=False, gender=1, known_for_department='Acting', name='Jeong So-ri', original_name='Jeong So-ri', popularity=1.902, profile_path='/wFQ71mJFnRQRDyHrDJRqHPScrYh.jpg', cast_id=50, character='Part-timer at the Internet Cafe', credit_id='62bfade5e640d6007e91251b', order=14, total_episode_count=None, roles=None), Cast(id=3609605, adult=False, gender=2, known_for_department='Acting', name='Shin An-jin', original_name='Shin An-jin', popularity=2.185, profile_path='/2FJGicL29jHhmlYSFQRnWKHtp7X.jpg', cast_id=60, character='Mountain Lifeguard', credit_id='62c0e99a957e6d004cbe33de', order=15, total_episode_count=None, roles=None), Cast(id=1488079, adult=False, gender=1, known_for_department='Acting', name='Kim Do-yeon', original_name='Kim Do-yeon', popularity=2.847, profile_path='/3OKLEqZo4I9gJjvtp1JcrXmxcEc.jpg', cast_id=37, character='ER Doctor', credit_id='62b4413291f0ea0608b8e026', order=16, total_episode_count=None, roles=None), Cast(id=1787992, adult=False, gender=1, known_for_department='Acting', name='Go Min-si', original_name='Go Min-si', popularity=19.372, profile_path='/3LQOaHcTgZoFcZcVMPZ4tf8Ad85.jpg', cast_id=30, character='Shaman', credit_id='628c531a2495ab74d97d0902', order=17, total_episode_count=None, roles=None), Cast(id=2207537, adult=False, gender=2, known_for_department='Acting', name='Cha Seo-won', original_name='Cha Seo-won', popularity=7.469, profile_path='/tyezR9xwN8QF6lOSURL34cRMMzB.jpg', cast_id=38, character='Mr. Ryu', credit_id='62bf1c92924ce6007c9cb20b', order=18, total_episode_count=None, roles=None), Cast(id=3608517, adult=False, gender=1, known_for_department='Acting', name='Joo In-young', original_name='Joo In-young', popularity=2.4, profile_path='/p3H4MdWh49zcqFd2Skvtme9O7c.jpg', cast_id=51, character='Caregiver Manager', credit_id='62bfadfe22e480049617a91d', order=19, total_episode_count=None, roles=None), Cast(id=3410741, adult=False, gender=1, known_for_department='Acting', name='Choi Sun-ja', original_name='Choi Sun-ja', popularity=3.397, profile_path='/5sgufLHTDuoAFNAqydWj5e4K4oq.jpg', cast_id=52, character=\"Seo-rae's Mother\", credit_id='62bfae5e1e64890081cc24e6', order=20, total_episode_count=None, roles=None), Cast(id=4187905, adult=False, gender=2, known_for_department='Acting', name='Ahn Jin-sang', original_name='Ahn Jin-sang', popularity=0.6, profile_path=None, cast_id=93, character='Homicide Detective', credit_id='64c64eb563aad2020d098d0a', order=21, total_episode_count=None, roles=None), Cast(id=1162596, adult=False, gender=2, known_for_department='Acting', name='Jin Yong-uk', original_name='Jin Yong-uk', popularity=3.939, profile_path='/23hUazk6qPiIXwjXm8CUYj9J7Mb.jpg', cast_id=54, character='Director of Judging', credit_id='62bfae93e640d6007e912582', order=22, total_episode_count=None, roles=None), Cast(id=1500616, adult=False, gender=2, known_for_department='Acting', name='Choi Dae-hoon', original_name='Choi Dae-hoon', popularity=7.329, profile_path='/crBiA541zurCqSrSjpS4Q6BWglX.jpg', cast_id=53, character='Sleep Doctor', credit_id='62bfae88202e11007c347a9a', order=23, total_episode_count=None, roles=None), Cast(id=2240617, adult=False, gender=1, known_for_department='Acting', name='Kim Mi-hwa', original_name='Kim Mi-hwa', popularity=5.91, profile_path='/sIPiMfwY2WgOX4fE5wSQgknCyRl.jpg', cast_id=55, character='Madam Soft-shelled Turtle', credit_id='62bfaeac6a300b005afd7e62', order=24, total_episode_count=None, roles=None), Cast(id=3553480, adult=False, gender=1, known_for_department='Acting', name='Kwak Eun-jin', original_name='Kwak Eun-jin', popularity=1.282, profile_path=None, cast_id=57, character='Ji-min', credit_id='62c045371056110ed018bbad', order=25, total_episode_count=None, roles=None), Cast(id=2379047, adult=False, gender=2, known_for_department='Acting', name='Ahn Seong-bong', original_name='Ahn Seong-bong', popularity=3.278, profile_path='/iDnwRIPELK41iaYT32G5UpiIPFx.jpg', cast_id=49, character='Go-bin', credit_id='62bfadb8cf4a64005888f31d', order=26, total_episode_count=None, roles=None), Cast(id=557743, adult=False, gender=1, known_for_department='Acting', name='Lee Yong-nyeo', original_name='Lee Yong-nyeo', popularity=7.751, profile_path='/vU2LIGOlVEUGfXfGWTdvEdz2rbT.jpg', cast_id=12, character='Friday Granny', credit_id='5fbf586635c30a0040574cfc', order=27, total_episode_count=None, roles=None), Cast(id=2831504, adult=False, gender=2, known_for_department='Acting', name='Hwang Jae-won', original_name='Hwang Jae-won', popularity=0.652, profile_path=None, cast_id=81, character='Jang Ha-ju', credit_id='64c6359763e6fb0138d9eeb9', order=28, total_episode_count=None, roles=None), Cast(id=4187802, adult=False, gender=0, known_for_department='Acting', name='Shon Gwan-ho', original_name='Shon Gwan-ho', popularity=0.6, profile_path=None, cast_id=82, character='Gye Bong-seok', credit_id='64c635de63aad2020d09807d', order=29, total_episode_count=None, roles=None), Cast(id=2391362, adult=False, gender=2, known_for_department='Acting', name='Jung Hyuk', original_name='Jung Hyuk', popularity=0.6, profile_path=None, cast_id=83, character='Police Officer', credit_id='64c6363c95ce24013b9baf28', order=30, total_episode_count=None, roles=None), Cast(id=2620489, adult=False, gender=2, known_for_department='Acting', name='Yoon Sung-won', original_name='Yoon Sung-won', popularity=1.111, profile_path='/euApcuhvSbzCeR8KRrO0ZLCHqGR.jpg', cast_id=84, character='Chief of Police', credit_id='64c636aaeec5b500c5f1e858', order=31, total_episode_count=None, roles=None), Cast(id=2144719, adult=False, gender=2, known_for_department='Acting', name='Kim Sung-gon', original_name='Kim Sung-gon', popularity=1.245, profile_path='/2vefWBAPBUW8pGagQb9h4OSLS7f.jpg', cast_id=85, character='Yi-po Detective 1', credit_id='64c63723eec5b50139fff0e2', order=32, total_episode_count=None, roles=None), Cast(id=2561872, adult=False, gender=2, known_for_department='Acting', name='Moon Soon-ju', original_name='Moon Soon-ju', popularity=0.694, profile_path='/e8J6voHsb9luwpzJ2BBBCtFujlk.jpg', cast_id=86, character='Yi-po Detective 2', credit_id='64c6373d41aac40fb4364327', order=33, total_episode_count=None, roles=None), Cast(id=4187803, adult=False, gender=0, known_for_department='Acting', name='Kim Gwi-rye', original_name='Kim Gwi-rye', popularity=0.694, profile_path=None, cast_id=87, character=\"Cheol-seong's Mother\", credit_id='64c637ef95ce24013b9bb026', order=34, total_episode_count=None, roles=None), Cast(id=4187805, adult=False, gender=0, known_for_department='Acting', name='Han Hyeon-jik', original_name='Han Hyeon-jik', popularity=0.6, profile_path='/lnZD31heiuhTJr2y2OGHgSrFEsb.jpg', cast_id=88, character='Ji-hyeok', credit_id='64c63851cadb6b012570036a', order=35, total_episode_count=None, roles=None), Cast(id=4187812, adult=False, gender=0, known_for_department='Acting', name='Kim Do-dam', original_name='Kim Do-dam', popularity=0.6, profile_path=None, cast_id=90, character='Witness Couple', credit_id='64c638f863aad2020ec3adb4', order=36, total_episode_count=None, roles=None), Cast(id=3713112, adult=False, gender=1, known_for_department='Acting', name='Han Seo-wool', original_name='Han Seo-wool', popularity=0.84, profile_path=None, cast_id=91, character='Witness Couple', credit_id='64c639d541aac40fb4364455', order=37, total_episode_count=None, roles=None), Cast(id=3008527, adult=False, gender=2, known_for_department='Acting', name='Moon Jung-dae', original_name='Moon Jung-dae', popularity=0.705, profile_path='/8G1amZNg5QcqeBPX0RQmqPMB1Yj.jpg', cast_id=92, character='Power Plant Worker 1', credit_id='64c64d7dcadb6b00e75d53d0', order=38, total_episode_count=None, roles=None), Cast(id=4024359, adult=False, gender=1, known_for_department='Acting', name='Yoo In-hye', original_name='Yoo In-hye', popularity=0.687, profile_path=None, cast_id=78, character='Power Plant Worker 2', credit_id='6444e580651fcf06179ba8fc', order=39, total_episode_count=None, roles=None), Cast(id=3688193, adult=False, gender=2, known_for_department='Acting', name='Kwon Hyuk', original_name='Kwon Hyuk', popularity=2.268, profile_path='/egQfvudbnQGWGwcsYoLV45d5bIl.jpg', cast_id=96, character='Police Inspector', credit_id='64c6501a95ce2400af1bad1e', order=40, total_episode_count=None, roles=None), Cast(id=1169315, adult=False, gender=1, known_for_department='Acting', name='Lee Ji-ha', original_name='Lee Ji-ha', popularity=6.125, profile_path='/5y307AdDZtZNeyshQEgvGieRmpy.jpg', cast_id=94, character='APT Woman 1', credit_id='64c64f4bcadb6b00ac661103', order=41, total_episode_count=None, roles=None), Cast(id=1623680, adult=False, gender=1, known_for_department='Acting', name='Jun Sung-ae', original_name='Jun Sung-ae', popularity=1.441, profile_path='/7Xpd3DRwI5qV4lSqv7gvjyo1gzj.jpg', cast_id=95, character='APT Woman 2', credit_id='64c64f6563aad20209a55642', order=42, total_episode_count=None, roles=None), Cast(id=3609602, adult=False, gender=2, known_for_department='Acting', name='Kim Gook-jin', original_name='Kim Gook-jin', popularity=0.61, profile_path='/iYi5zVBedETXVQxRqruSqYdxT0J.jpg', cast_id=59, character='Translation App (voice)', credit_id='62c0e80ae16e5a007ef82f3b', order=43, total_episode_count=None, roles=None), Cast(id=3609598, adult=False, gender=1, known_for_department='Acting', name='Kim Sang-hyun', original_name='Kim Sang-hyun', popularity=1.176, profile_path='/kATqWttboXBqWtfwxM284aGfxl7.jpg', cast_id=58, character='Translation App (voice)', credit_id='62c0e62d63d713026c2f2903', order=44, total_episode_count=None, roles=None), Cast(id=4187926, adult=False, gender=2, known_for_department='Crew', name='Cha Sang-do', original_name='Cha Sang-do', popularity=0.972, profile_path=None, cast_id=97, character='Soft-shelled Turtle Thief 1', credit_id='64c65060eec5b500ad027887', order=45, total_episode_count=None, roles=None), Cast(id=4187941, adult=False, gender=0, known_for_department='Crew', name='Kang Gyeong-su', original_name='Kang Gyeong-su', popularity=1.62, profile_path=None, cast_id=99, character='Soft-shelled Turtle Thief 2', credit_id='64c6517663e6fb0138d9fc38', order=46, total_episode_count=None, roles=None)], crew=[Crew(id=10099, adult=False, gender=2, known_for_department='Directing', name='Park Chan-wook', original_name='Park Chan-wook', popularity=15.662, profile_path='/jsSFCVB7MhuVbSLwTgESiXEiNjt.jpg', credit_id='5ec34edc18b7510020ca1390', department='Directing', job='Director', total_episode_count=None, jobs=None, order=None), Crew(id=10099, adult=False, gender=2, known_for_department='Directing', name='Park Chan-wook', original_name='Park Chan-wook', popularity=15.662, profile_path='/jsSFCVB7MhuVbSLwTgESiXEiNjt.jpg', credit_id='62a37e1905b5492f9dd81e69', department='Production', job='Producer', total_episode_count=None, jobs=None, order=None), Crew(id=10099, adult=False, gender=2, known_for_department='Directing', name='Park Chan-wook', original_name='Park Chan-wook', popularity=15.662, profile_path='/jsSFCVB7MhuVbSLwTgESiXEiNjt.jpg', credit_id='62bfd785325a5100c3a44dbe', department='Writing', job='Writer', total_episode_count=None, jobs=None, order=None), Crew(id=10108, adult=False, gender=2, known_for_department='Editing', name='Kim Sang-bum', original_name='Kim Sang-bum', popularity=3.27, profile_path='/nojYhmyW89hLohQsRw1uIbeCBSa.jpg', credit_id='614ad8ced2c0c100453bc407', department='Editing', job='Editor', total_episode_count=None, jobs=None, order=None), Crew(id=10109, adult=False, gender=1, known_for_department='Art', name='Ryu Seong-hie', original_name='Ryu Seong-hie', popularity=4.671, profile_path='/u7HVjLQiCuia9TwsGefkH2QyJRS.jpg', credit_id='5f8efe7df8aee80035c03d63', department='Art', job='Production Design', total_episode_count=None, jobs=None, order=None), Crew(id=37928, adult=False, gender=1, known_for_department='Writing', name='Chung Seo-kyung', original_name='Chung Seo-kyung', popularity=6.075, profile_path='/puBGFSws4gSME2OhBUgzbcooOjQ.jpg', credit_id='5f84fd1acb5c8e003aca05ff', department='Writing', job='Writer', total_episode_count=None, jobs=None, order=None), Crew(id=37930, adult=False, gender=2, known_for_department='Sound', name='Cho Young-wuk', original_name='Cho Young-wuk', popularity=4.304, profile_path='/x2L4b4FjEPoPq2lLOeV9EaSHM4z.jpg', credit_id='61b4585a1d019100420e7a78', department='Sound', job='Original Music Composer', total_episode_count=None, jobs=None, order=None), Crew(id=41288, adult=False, gender=1, known_for_department='Production', name='Miky Lee', original_name='Miky Lee', popularity=3.197, profile_path='/1KaAIoRs6KuW7rdHzbA5RLE1jto.jpg', credit_id='627a670307291c0050ee8278', department='Production', job='Executive Producer', total_episode_count=None, jobs=None, order=None), Crew(id=43565, adult=False, gender=2, known_for_department='Sound', name='Kim Suk-won', original_name='Kim Suk-won', popularity=4.373, profile_path='/z3NVHBTmrqSZLUkEdIPsV34b4fD.jpg', credit_id='627a66d6d400f310bcd642db', department='Sound', job='Sound Supervisor', total_episode_count=None, jobs=None, order=None), Crew(id=69087, adult=False, gender=2, known_for_department='Camera', name='Kim Ji-yong', original_name='Kim Ji-yong', popularity=2.366, profile_path='/o1NtzFcAqft2UORHZJcZ6BO7ShQ.jpg', credit_id='5f8ef7e8d133240037294c9f', department='Camera', job='Director of Photography', total_episode_count=None, jobs=None, order=None), Crew(id=552068, adult=False, gender=2, known_for_department='Visual Effects', name='Lee Jeon-hyoung', original_name='Lee Jeon-hyoung', popularity=0.624, profile_path='/kzOkohw8eoNfYRUVYjKl2waWaaY.jpg', credit_id='62bfad0922e480049719962c', department='Visual Effects', job='VFX Supervisor', total_episode_count=None, jobs=None, order=None), Crew(id=1294064, adult=False, gender=0, known_for_department='Lighting', name='Shin Sang-yeul', original_name='Shin Sang-yeul', popularity=1.286, profile_path=None, credit_id='627a6783a7e3630e229ba37b', department='Lighting', job='Gaffer', total_episode_count=None, jobs=None, order=None), Crew(id=1294536, adult=False, gender=1, known_for_department='Costume & Make-Up', name='Kwak Jung-ae', original_name='Kwak Jung-ae', popularity=0.6, profile_path=None, credit_id='627a6769abdec0006770f4db', department='Costume & Make-Up', job='Costume Design', total_episode_count=None, jobs=None, order=None), Crew(id=1882970, adult=False, gender=1, known_for_department='Production', name='Baek Ji-seon', original_name='Baek Ji-seon', popularity=0.6, profile_path=None, credit_id='6301feee33a376007f87656e', department='Production', job='Co-Producer', total_episode_count=None, jobs=None, order=None), Crew(id=2078536, adult=False, gender=2, known_for_department='Crew', name='Noh Nam-seok', original_name='Noh Nam-seok', popularity=0.934, profile_path=None, credit_id='62bfa655af6e94046b3e96dd', department='Crew', job='Martial Arts Choreographer', total_episode_count=None, jobs=None, order=None), Crew(id=2078588, adult=False, gender=1, known_for_department='Costume & Make-Up', name='Song Jong-hee', original_name='Song Jong-hee', popularity=1.511, profile_path=None, credit_id='627a6776211ce50c2b72be1a', department='Costume & Make-Up', job='Makeup & Hair', total_episode_count=None, jobs=None, order=None), Crew(id=2100270, adult=False, gender=0, known_for_department='Costume & Make-Up', name='Kwak Tae-yong', original_name='Kwak Tae-yong', popularity=0.851, profile_path=None, credit_id='62c0ed2528723c00593b0bee', department='Costume & Make-Up', job='Special Effects Makeup Artist', total_episode_count=None, jobs=None, order=None), Crew(id=2159407, adult=False, gender=2, known_for_department='Costume & Make-Up', name='Hwang Hyo-kyun', original_name='Hwang Hyo-kyun', popularity=1.194, profile_path=None, credit_id='62c0ed1dc2bcc60059f828cc', department='Costume & Make-Up', job='Special Effects Makeup Artist', total_episode_count=None, jobs=None, order=None), Crew(id=2161246, adult=False, gender=0, known_for_department='Sound', name='Jung Gun', original_name='Jung Gun', popularity=1.298, profile_path=None, credit_id='627a684507291c0050ee8718', department='Sound', job='Production Sound Mixer', total_episode_count=None, jobs=None, order=None), Crew(id=2202729, adult=False, gender=2, known_for_department='Production', name='Ko Dae-seok', original_name='Ko Dae-seok', popularity=1.942, profile_path='/zYX86QN9t94u8Qp7xxRLiJOlVB3.jpg', credit_id='63b6cc53229ae2009144a801', department='Production', job='Producer', total_episode_count=None, jobs=None, order=None), Crew(id=2392774, adult=False, gender=2, known_for_department='Directing', name='Kim Seong-sik', original_name='Kim Seong-sik', popularity=1.512, profile_path=None, credit_id='62bfac97e640d6007e912459', department='Directing', job='Assistant Director', total_episode_count=None, jobs=None, order=None), Crew(id=2395052, adult=False, gender=0, known_for_department='Art', name='You Cheong', original_name='You Cheong', popularity=1.287, profile_path=None, credit_id='62bfa63c924ce60059ccdd11', department='Art', job='Props', total_episode_count=None, jobs=None, order=None), Crew(id=2499786, adult=False, gender=2, known_for_department='Crew', name='Song Min-seok', original_name='Song Min-seok', popularity=1.015, profile_path=None, credit_id='634be5a8389da1007c67d84e', department='Crew', job='Stunts', total_episode_count=None, jobs=None, order=None), Crew(id=2662515, adult=False, gender=0, known_for_department='Editing', name='Ryu Yeon', original_name='Ryu Yeon', popularity=0.624, profile_path=None, credit_id='634a46825aadc40082bc7951', department='Editing', job='Digital Intermediate Producer', total_episode_count=None, jobs=None, order=None), Crew(id=2871557, adult=False, gender=2, known_for_department='Art', name='Park Jun-yong', original_name='Park Jun-yong', popularity=1.237, profile_path=None, credit_id='62bfa6461e6489005efc9e79', department='Art', job='Props', total_episode_count=None, jobs=None, order=None), Crew(id=2965655, adult=False, gender=0, known_for_department='Visual Effects', name='Park Dae-hun', original_name='Park Dae-hun', popularity=0.6, profile_path=None, credit_id='62bfa7fa22e48004971992d8', department='Visual Effects', job='Special Effects Supervisor', total_episode_count=None, jobs=None, order=None), Crew(id=2968076, adult=False, gender=1, known_for_department='Editing', name='Park Jin-young', original_name='Park Jin-young', popularity=1.705, profile_path='/2h4BSO87FdI1h9dPla114x0ToTP.jpg', credit_id='62bfad23681888007c8c82f0', department='Editing', job='Digital Intermediate', total_episode_count=None, jobs=None, order=None), Crew(id=3084795, adult=False, gender=1, known_for_department='Art', name='Choi Seul-gi', original_name='Choi Seul-gi', popularity=0.833, profile_path=None, credit_id='62c0ed5b71f095004c4537d6', department='Art', job='Set Designer', total_episode_count=None, jobs=None, order=None), Crew(id=3304236, adult=False, gender=1, known_for_department='Acting', name='Jung Hoon-hee', original_name='Jung Hoon-hee', popularity=0.6, profile_path=None, credit_id='63b6ccd43344c6007d835f98', department='Sound', job='Theme Song Performance', total_episode_count=None, jobs=None, order=None), Crew(id=3543940, adult=False, gender=0, known_for_department='Production', name='Kang Ho-sung', original_name='Kang Ho-sung', popularity=0.998, profile_path=None, credit_id='627a67280231f2005143ccaa', department='Production', job='Co-Executive Producer', total_episode_count=None, jobs=None, order=None), Crew(id=3557847, adult=False, gender=1, known_for_department='Art', name='Lee Eun-jin', original_name='Lee Eun-jin', popularity=0.671, profile_path=None, credit_id='62bfacc6681888007c8c82a1', department='Art', job='Art Direction', total_episode_count=None, jobs=None, order=None), Crew(id=3596876, adult=False, gender=0, known_for_department='Art', name='Lee Gi-seok', original_name='Lee Gi-seok', popularity=0.988, profile_path=None, credit_id='62bface09672ed004e7f22ee', department='Art', job='Set Decoration', total_episode_count=None, jobs=None, order=None), Crew(id=3609608, adult=False, gender=2, known_for_department='Visual Effects', name='Shon Byeong-su', original_name='Shon Byeong-su', popularity=1.044, profile_path=None, credit_id='62c0eb9c924ce60059cda2e6', department='Visual Effects', job='VFX Supervisor', total_episode_count=None, jobs=None, order=None), Crew(id=3609609, adult=False, gender=0, known_for_department='Production', name='Hwang Jin-ha', original_name='Hwang Jin-ha', popularity=0.6, profile_path=None, credit_id='62c0eda0f1b571004cf6ccc6', department='Production', job='Line Producer', total_episode_count=None, jobs=None, order=None), Crew(id=3609611, adult=False, gender=1, known_for_department='Production', name='Park Eun-ji', original_name='Park Eun-ji', popularity=1.069, profile_path=None, credit_id='62c0edf0532acb0328d28c43', department='Production', job='Line Producer', total_episode_count=None, jobs=None, order=None), Crew(id=3639314, adult=False, gender=1, known_for_department='Art', name='Choi Ji-hye', original_name='Choi Ji-hye', popularity=0.6, profile_path=None, credit_id='62e144f6021cee00500b4ed8', department='Art', job='Set Designer', total_episode_count=None, jobs=None, order=None), Crew(id=3671628, adult=False, gender=1, known_for_department='Art', name='Jang Hee-sun', original_name='Jang Hee-sun', popularity=0.639, profile_path=None, credit_id='6301fa4996e30b007a81b3b2', department='Art', job='Art Designer', total_episode_count=None, jobs=None, order=None), Crew(id=3671646, adult=False, gender=2, known_for_department='Writing', name='Lee Yoon-ho', original_name='Lee Yoon-ho', popularity=0.777, profile_path=None, credit_id='6301ffc9839d93007e4c6d16', department='Writing', job='Storyboard', total_episode_count=None, jobs=None, order=None), Crew(id=3859208, adult=False, gender=2, known_for_department='Sound', name='Song Chang-sik', original_name='Song Chang-sik', popularity=0.696, profile_path=None, credit_id='63b6cce1b9a0bd02ab197199', department='Sound', job='Theme Song Performance', total_episode_count=None, jobs=None, order=None), Crew(id=3915375, adult=False, gender=0, known_for_department='Camera', name='Cho Gi-hun', original_name='Cho Gi-hun', popularity=0.6, profile_path=None, credit_id='63e73a746c849200851a3a2b', department='Camera', job='Key Grip', total_episode_count=None, jobs=None, order=None), Crew(id=3946804, adult=False, gender=0, known_for_department='Sound', name='Kevin Houben', original_name='Kevin Houben', popularity=0.6, profile_path=None, credit_id='640182f6c7176d008517d8db', department='Sound', job='Conductor', total_episode_count=None, jobs=None, order=None), Crew(id=4037943, adult=False, gender=0, known_for_department='Sound', name='Lee Si-hun', original_name='Lee Si-hun', popularity=0.6, profile_path=None, credit_id='644f4d2e2fccee0302cdc812', department='Sound', job='Boom Operator', total_episode_count=None, jobs=None, order=None), Crew(id=4187748, adult=False, gender=0, known_for_department='Camera', name='Jeon Young-wook', original_name='Jeon Young-wook', popularity=0.6, profile_path=None, credit_id='64c629b363aad20209a54276', department='Camera', job='Still Photographer', total_episode_count=None, jobs=None, order=None), Crew(id=4187926, adult=False, gender=2, known_for_department='Crew', name='Cha Sang-do', original_name='Cha Sang-do', popularity=0.972, profile_path=None, credit_id='64c6508695ce2401012f71ce', department='Crew', job='Stunts', total_episode_count=None, jobs=None, order=None), Crew(id=4187941, adult=False, gender=0, known_for_department='Crew', name='Kang Gyeong-su', original_name='Kang Gyeong-su', popularity=1.62, profile_path=None, credit_id='64c6518aeec5b5011cb0ce08', department='Crew', job='Stunts', total_episode_count=None, jobs=None, order=None)], guest_stars=None), external_ids=None, images=None, keywords=None, recommendations=None, release_dates=None, reviews=None, similar=None, translations=None, videos=None, watch_providers=None)"
      ]
     },
     "execution_count": 111,
     "metadata": {},
     "output_type": "execute_result"
    }
   ],
   "source": [
    "movie = tmdb.movie(movie_id = 705996).details(append_to_response = \"credits\")\n",
    "movie"
   ]
  },
  {
   "cell_type": "code",
   "execution_count": 112,
   "id": "157db44e",
   "metadata": {},
   "outputs": [
    {
     "data": {
      "text/plain": [
       "'From a mountain peak in South Korea, a man plummets to his death. Did he jump, or was he pushed? When detective Hae-joon arrives on the scene, he begins to suspect the dead man’s wife Seo-rae. But as he digs deeper into the investigation, he finds himself trapped in a web of deception and desire.'"
      ]
     },
     "execution_count": 112,
     "metadata": {},
     "output_type": "execute_result"
    }
   ],
   "source": [
    "movie.overview"
   ]
  },
  {
   "cell_type": "code",
   "execution_count": 113,
   "id": "27897eb9",
   "metadata": {},
   "outputs": [
    {
     "data": {
      "text/plain": [
       "'ko'"
      ]
     },
     "execution_count": 113,
     "metadata": {},
     "output_type": "execute_result"
    }
   ],
   "source": [
    "movie.original_language"
   ]
  },
  {
   "cell_type": "code",
   "execution_count": 117,
   "id": "bb4e7a22",
   "metadata": {},
   "outputs": [
    {
     "data": {
      "text/plain": [
       "[Language(english_name='English', iso_639_1='en', name='English'),\n",
       " Language(english_name='Mandarin', iso_639_1='zh', name='普通话'),\n",
       " Language(english_name='Korean', iso_639_1='ko', name='한국어/조선말')]"
      ]
     },
     "execution_count": 117,
     "metadata": {},
     "output_type": "execute_result"
    }
   ],
   "source": [
    "movie.spoken_languages"
   ]
  },
  {
   "cell_type": "code",
   "execution_count": 120,
   "id": "ddeb5b35",
   "metadata": {},
   "outputs": [
    {
     "data": {
      "text/plain": [
       "['en', 'zh', 'ko']"
      ]
     },
     "execution_count": 120,
     "metadata": {},
     "output_type": "execute_result"
    }
   ],
   "source": [
    "languageIso(movie.spoken_languages)"
   ]
  },
  {
   "cell_type": "code",
   "execution_count": 92,
   "id": "80e10161",
   "metadata": {},
   "outputs": [
    {
     "name": "stdout",
     "output_type": "stream",
     "text": [
      "id\n",
      "poster_path\n",
      "adult\n",
      "overview\n",
      "release_date\n",
      "genre_ids\n",
      "original_title\n",
      "original_language\n",
      "title\n",
      "backdrop_path\n",
      "popularity\n",
      "vote_count\n",
      "video\n",
      "vote_average\n",
      "media_type\n",
      "belongs_to_collection\n",
      "budget\n",
      "genres\n",
      "homepage\n",
      "imdb_id\n",
      "production_companies\n",
      "production_countries\n",
      "revenue\n",
      "runtime\n",
      "spoken_languages\n",
      "status\n",
      "tagline\n",
      "alternative_titles\n",
      "credits\n",
      "external_ids\n",
      "images\n",
      "keywords\n",
      "recommendations\n",
      "release_dates\n",
      "reviews\n",
      "similar\n",
      "translations\n",
      "videos\n",
      "watch_providers\n"
     ]
    }
   ],
   "source": [
    "for field in dataclasses.fields(movie):\n",
    "    print(field.name)"
   ]
  },
  {
   "cell_type": "code",
   "execution_count": null,
   "id": "e0c49982",
   "metadata": {},
   "outputs": [],
   "source": []
  },
  {
   "cell_type": "code",
   "execution_count": null,
   "id": "4fc9f6d0",
   "metadata": {},
   "outputs": [],
   "source": []
  },
  {
   "cell_type": "code",
   "execution_count": null,
   "id": "08592728",
   "metadata": {},
   "outputs": [],
   "source": []
  },
  {
   "cell_type": "code",
   "execution_count": null,
   "id": "25d0985e",
   "metadata": {},
   "outputs": [],
   "source": []
  }
 ],
 "metadata": {
  "kernelspec": {
   "display_name": "Python 3 (ipykernel)",
   "language": "python",
   "name": "python3"
  },
  "language_info": {
   "codemirror_mode": {
    "name": "ipython",
    "version": 3
   },
   "file_extension": ".py",
   "mimetype": "text/x-python",
   "name": "python",
   "nbconvert_exporter": "python",
   "pygments_lexer": "ipython3",
   "version": "3.9.18"
  }
 },
 "nbformat": 4,
 "nbformat_minor": 5
}
