{
 "cells": [
  {
   "cell_type": "code",
   "execution_count": 39,
   "id": "22fe0fc2",
   "metadata": {},
   "outputs": [],
   "source": [
    "import pandas as pd\n",
    "import json\n",
    "\n",
    "from themoviedb import TMDb\n",
    "\n",
    "from requests import HTTPError"
   ]
  },
  {
   "cell_type": "code",
   "execution_count": 40,
   "id": "fd185455",
   "metadata": {},
   "outputs": [],
   "source": [
    "# helper functions\n",
    "\n",
    "def castSubset(cast_data):\n",
    "# cast_data is a list pulled from TMDb credits\n",
    "# return a set with the 3 most relevant actors in the cast\n",
    "\n",
    "    sorted_cast = sorted(cast_data, key = lambda x: x.order)\n",
    "    \n",
    "    return [x.name for x in sorted_cast[:3]]\n",
    "  "
   ]
  },
  {
   "cell_type": "code",
   "execution_count": 41,
   "id": "61ce0142",
   "metadata": {},
   "outputs": [],
   "source": [
    "# read API key to access TMDb \n",
    "with open(\"TMDb_key.txt\") as my_key:\n",
    "    api_key = my_key.read()"
   ]
  },
  {
   "cell_type": "code",
   "execution_count": 42,
   "id": "5aa96aeb",
   "metadata": {},
   "outputs": [],
   "source": [
    "try:\n",
    "    #open file \"r\"\n",
    "    #parse file collect ids of already collected movies\n",
    "    #return set of ids\n",
    "\n",
    "    with open(\"../datasets/tmdb/movie_db\", \"r\") as movies_file:\n",
    "        movies_entries = movies_file.readlines()\n",
    "        pulled_ids = set()\n",
    "    \n",
    "        for line in movies_entries:\n",
    "            movie_id = json.loads(line)[\"id\"]\n",
    "            pulled_ids.add(movie_id)\n",
    "            \n",
    "except FileNotFoundError:\n",
    "    pulled_ids = set()"
   ]
  },
  {
   "cell_type": "code",
   "execution_count": null,
   "id": "9c0c6c2b",
   "metadata": {},
   "outputs": [],
   "source": [
    "with open(\"../datasets/tmdb/movie_db\", \"a\") as outfile:\n",
    "    \n",
    "    with open(\"../datasets/tmdb/movie_ids_03_06_2024.json\", \"r\") as ids_file:\n",
    "        lines = ids_file.readlines()\n",
    "    \n",
    "    for line in lines:\n",
    "        tmdb_id = json.loads(line)[\"id\"]\n",
    "        \n",
    "        # check if the movie id has already been used\n",
    "        if tmdb_id in pulled_ids:\n",
    "            continue\n",
    "            \n",
    "        try:\n",
    "            #get example from tmdb by tmdb_id using the API\n",
    "            movie_tmdb_data = tmdb.movie(movie_id = tmdb_id).details(append_to_response = \"credits\")\n",
    "            \n",
    "        except HTTPError:\n",
    "            continue\n",
    "            \n",
    "        else:\n",
    "            #get info from the movie object: movie title, summary, rating, cast\n",
    "            title = movie_tmdb_data.title\n",
    "            summary = movie_tmdb_data.overview\n",
    "            rating = movie_tmdb_data.vote_average\n",
    "            cast = castSubset(movie_tmdb_data.credits.cast)\n",
    "            \n",
    "            #dictionary with relevant feature\n",
    "            movie_ex = {\"id\": tmdb_id, \n",
    "                        \"title\": title, \n",
    "                        \"summary\": summary, \n",
    "                        \"cast\": cast, \n",
    "                        \"rating\": rating}\n",
    "            \n",
    "            #dump to file\n",
    "            outfile.write(json.dumps(movie_ex) + \"\\n\")\n",
    "            \n",
    "            pulled_ids.add(tmdb_id)\n",
    "    "
   ]
  },
  {
   "cell_type": "code",
   "execution_count": 47,
   "id": "7dbd2ebd",
   "metadata": {},
   "outputs": [
    {
     "data": {
      "text/plain": [
       "246084"
      ]
     },
     "execution_count": 47,
     "metadata": {},
     "output_type": "execute_result"
    }
   ],
   "source": [
    "len(pulled_ids)"
   ]
  },
  {
   "cell_type": "code",
   "execution_count": null,
   "id": "eec80b00",
   "metadata": {},
   "outputs": [],
   "source": []
  },
  {
   "cell_type": "code",
   "execution_count": null,
   "id": "75fe8ebe",
   "metadata": {},
   "outputs": [],
   "source": []
  },
  {
   "cell_type": "code",
   "execution_count": 17,
   "id": "4efe508b",
   "metadata": {},
   "outputs": [],
   "source": [
    "# initialize a TMDb object and set the API key\n",
    "tmdb = TMDb(key = api_key)"
   ]
  },
  {
   "cell_type": "code",
   "execution_count": 19,
   "id": "7e0aeeb7",
   "metadata": {},
   "outputs": [
    {
     "data": {
      "text/plain": [
       "Movie(id=2, poster_path='/ojDg0PGvs6R9xYFodRct2kdI6wC.jpg', adult=False, overview='After the coal mine he works at closes and his father commits suicide, a Finnish man leaves for the city to make a living but there, he is framed and imprisoned for various crimes.', release_date=datetime.date(1988, 10, 21), genre_ids=None, original_title='Ariel', original_language='fi', title='Ariel', backdrop_path='/hQ4pYsIbP22TMXOUdSfC2mjWrO0.jpg', popularity=11.657, vote_count=304, video=False, vote_average=7.082, media_type=<MediaType.movie: 'movie'>, belongs_to_collection=None, budget=0, genres=[Genre(id=18, name='Drama'), Genre(id=35, name='Comedy'), Genre(id=10749, name='Romance'), Genre(id=80, name='Crime')], homepage='', imdb_id='tt0094675', production_companies=[Company(id=2303, logo_path=None, name='Villealfa Filmproductions', description=None, headquarters=None, homepage=None, origin_country='FI', parent_company=None)], production_countries=[Country(iso_3166_1='FI', name='Finland')], revenue=0, runtime=73, spoken_languages=[Language(english_name='Finnish', iso_639_1='fi', name='suomi')], status='Released', tagline='', alternative_titles=None, credits=Credits(id=None, cast=[Cast(id=54768, adult=False, gender=2, known_for_department='Acting', name='Turo Pajala', original_name='Turo Pajala', popularity=2.378, profile_path='/b6JdzqTn6UFYf4DouHbbE8Ypk4r.jpg', cast_id=3, character='Taisto Kasurinen', credit_id='52fe420dc3a36847f8000029', order=0, total_episode_count=None, roles=None), Cast(id=54769, adult=False, gender=1, known_for_department='Acting', name='Susanna Haavisto', original_name='Susanna Haavisto', popularity=3.112, profile_path='/lhjoqlBFCvshchMAd2lQLWV7z7I.jpg', cast_id=4, character='Irmeli Pihlaja', credit_id='52fe420dc3a36847f800002d', order=1, total_episode_count=None, roles=None), Cast(id=4826, adult=False, gender=2, known_for_department='Acting', name='Matti Pellonpää', original_name='Matti Pellonpää', popularity=4.581, profile_path='/1Qzhkkp3wFE2NMGKVyOra9931q2.jpg', cast_id=5, character='Mikkonen', credit_id='52fe420dc3a36847f8000031', order=2, total_episode_count=None, roles=None), Cast(id=54770, adult=False, gender=2, known_for_department='Acting', name='Eetu Hilkamo', original_name='Eetu Hilkamo', popularity=1.09, profile_path=None, cast_id=6, character='Riku', credit_id='52fe420dc3a36847f8000035', order=3, total_episode_count=None, roles=None), Cast(id=1177496, adult=False, gender=2, known_for_department='Acting', name='Erkki Pajala', original_name='Erkki Pajala', popularity=1.286, profile_path=None, cast_id=12, character='Miner', credit_id='5e1cda97d5dbc20017f439bb', order=4, total_episode_count=None, roles=None), Cast(id=2493350, adult=False, gender=2, known_for_department='Acting', name='Matti Jaaranen', original_name='Matti Jaaranen', popularity=1.012, profile_path=None, cast_id=13, character='Mugger', credit_id='5e1cdaa70e29a20015f85dcb', order=5, total_episode_count=None, roles=None), Cast(id=2509142, adult=False, gender=2, known_for_department='Acting', name='Hannu Viholainen', original_name='Hannu Viholainen', popularity=0.794, profile_path=None, cast_id=14, character='Accomplice', credit_id='5e1cdab54df2910015bec362', order=6, total_episode_count=None, roles=None), Cast(id=110757, adult=False, gender=2, known_for_department='Acting', name='Jorma Markkula', original_name='Jorma Markkula', popularity=2.329, profile_path='/oQduzpvqQhArEoa1kM8IOqySBmm.jpg', cast_id=15, character='Tallyman', credit_id='5e1cdacc12b10e00129442b4', order=7, total_episode_count=None, roles=None), Cast(id=1034494, adult=False, gender=1, known_for_department='Acting', name='Tarja Keinänen', original_name='Tarja Keinänen', popularity=3.822, profile_path=None, cast_id=16, character='Woman in Harbour', credit_id='5e1cdadb4df2910013becc44', order=8, total_episode_count=None, roles=None), Cast(id=2509144, adult=False, gender=2, known_for_department='Acting', name='Eino Kuusela', original_name='Eino Kuusela', popularity=0.716, profile_path=None, cast_id=17, character='Man on Beach', credit_id='5e1cdaec6a300b00135ec044', order=9, total_episode_count=None, roles=None), Cast(id=1207858, adult=False, gender=2, known_for_department='Acting', name='Kauko Laalo', original_name='Kauko Laalo', popularity=0.6, profile_path=None, cast_id=18, character='Night Hostel Manager', credit_id='5e1cdafae194b00014b7f810', order=10, total_episode_count=None, roles=None), Cast(id=2509145, adult=False, gender=2, known_for_department='Acting', name='Jyrki Olsonen', original_name='Jyrki Olsonen', popularity=0.6, profile_path=None, cast_id=19, character='Man in Night Hostel', credit_id='5e1cdb0dd5dbc20013f45fb2', order=11, total_episode_count=None, roles=None), Cast(id=53508, adult=False, gender=2, known_for_department='Acting', name='Esko Nikkari', original_name='Esko Nikkari', popularity=1.871, profile_path='/mNiyD3BOzWba4CB0VTbIqA4EAVm.jpg', cast_id=20, character='Car Dealer', credit_id='5e1cdb1dd5dbc20013f45fb7', order=12, total_episode_count=None, roles=None), Cast(id=53512, adult=False, gender=1, known_for_department='Acting', name='Marja Packalén', original_name='Marja Packalén', popularity=0.738, profile_path='/iBOu9d5LDY6rppEEoWFGXIYPF7Q.jpg', cast_id=21, character='Judge', credit_id='5e1cdb2d4df2910013becc8a', order=13, total_episode_count=None, roles=None), Cast(id=2509146, adult=False, gender=2, known_for_department='Acting', name='Mikko Remes', original_name='Mikko Remes', popularity=1.159, profile_path=None, cast_id=22, character='Prison Doctor', credit_id='5e1cdb38d5dbc20017f43a7c', order=14, total_episode_count=None, roles=None), Cast(id=4829, adult=False, gender=2, known_for_department='Acting', name='Tomi Salmela', original_name='Tomi Salmela', popularity=3.853, profile_path='/7XmK7A2dYWDyzh0PJ3h43eHKwfn.jpg', cast_id=23, character='Guard', credit_id='5e1cdb554df2910011bec2a3', order=15, total_episode_count=None, roles=None), Cast(id=2509147, adult=False, gender=2, known_for_department='Acting', name='Reijo Marin', original_name='Reijo Marin', popularity=1.38, profile_path=None, cast_id=24, character='Guard', credit_id='5e1cdb6412b10e0012944340', order=16, total_episode_count=None, roles=None), Cast(id=2509149, adult=False, gender=2, known_for_department='Acting', name='Heikki Salomaa', original_name='Heikki Salomaa', popularity=1.754, profile_path=None, cast_id=25, character='Guard', credit_id='5e1cdb7b0e29a20019f84350', order=17, total_episode_count=None, roles=None), Cast(id=1207842, adult=False, gender=2, known_for_department='Acting', name='Veikko Uusimäki', original_name='Veikko Uusimäki', popularity=1.594, profile_path='/n88CSw4DEIt9KnDX9Kf4mehykZ1.jpg', cast_id=26, character='Mayor', credit_id='5e1cdb904df2910013becca2', order=18, total_episode_count=None, roles=None), Cast(id=56273, adult=False, gender=2, known_for_department='Acting', name='Esko Salminen', original_name='Esko Salminen', popularity=1.464, profile_path='/74y98xEaOSBC5xp1vpcm9VrFGLW.jpg', cast_id=27, character='Crook', credit_id='5e1cdba0e194b00016b8682d', order=19, total_episode_count=None, roles=None), Cast(id=2509151, adult=False, gender=2, known_for_department='Acting', name='Hannu Kivisalo', original_name='Hannu Kivisalo', popularity=1.214, profile_path=None, cast_id=28, character='Doorman', credit_id='5e1cdbb0e194b00016b86838', order=20, total_episode_count=None, roles=None), Cast(id=2509152, adult=False, gender=2, known_for_department='Acting', name='Pekka Wilen', original_name='Pekka Wilen', popularity=0.828, profile_path=None, cast_id=29, character='Skipper', credit_id='5e1cdbbfe194b00016b8684c', order=21, total_episode_count=None, roles=None), Cast(id=110756, adult=False, gender=2, known_for_department='Acting', name='Juuso Hirvikangas', original_name='Juuso Hirvikangas', popularity=2.425, profile_path='/7rvAPTsfz9U2E5tYghfY8YQlZ94.jpg', cast_id=40, character='Man in Harbour (uncredited)', credit_id='623f00171cfe3a008766a451', order=22, total_episode_count=None, roles=None), Cast(id=3416563, adult=False, gender=2, known_for_department='Acting', name='Heikki Anttila', original_name='Heikki Anttila', popularity=0.6, profile_path=None, cast_id=41, character='Man in Harbour (uncredited)', credit_id='623f0047519bbb004768b300', order=23, total_episode_count=None, roles=None), Cast(id=4831, adult=False, gender=2, known_for_department='Acting', name='Jaakko Talaskivi', original_name='Jaakko Talaskivi', popularity=1.996, profile_path='/jHYgBI3RSt4bfRgARQDDBNWoPD9.jpg', cast_id=42, character='Cook (uncredited)', credit_id='623f0050c50ad20047ee182a', order=24, total_episode_count=None, roles=None), Cast(id=16772, adult=False, gender=2, known_for_department='Sound', name='Jouko Lumme', original_name='Jouko Lumme', popularity=1.341, profile_path=None, cast_id=43, character='Cook (uncredited)', credit_id='623f0059c50ad2005ccacdc5', order=25, total_episode_count=None, roles=None), Cast(id=1416993, adult=False, gender=1, known_for_department='Production', name='Sirkka Rautiainen', original_name='Sirkka Rautiainen', popularity=1.156, profile_path=None, cast_id=44, character='Woman Watching TV (uncredited)', credit_id='623f00d35a9915005d4c043e', order=26, total_episode_count=None, roles=None), Cast(id=3480732, adult=False, gender=2, known_for_department='Acting', name='Markku Rantala', original_name='Markku Rantala', popularity=0.6, profile_path=None, cast_id=45, character='Man in Tunnel (uncredited)', credit_id='623f017f7caa47004758de69', order=27, total_episode_count=None, roles=None), Cast(id=2289558, adult=False, gender=2, known_for_department='Acting', name='Mikko Lyytikäinen', original_name='Mikko Lyytikäinen', popularity=0.728, profile_path=None, cast_id=46, character='Court Member (uncredited)', credit_id='623f01e8d100b60093e4102d', order=28, total_episode_count=None, roles=None), Cast(id=1948071, adult=False, gender=2, known_for_department='Acting', name='Timo Toikka', original_name='Timo Toikka', popularity=1.208, profile_path=None, cast_id=47, character='Man in Courtroom (uncredited)', credit_id='623f01f8417aaf00871dc8cf', order=29, total_episode_count=None, roles=None), Cast(id=1207853, adult=False, gender=1, known_for_department='Acting', name='Hanna Jokinen', original_name='Hanna Jokinen', popularity=1.4, profile_path=None, cast_id=48, character='Woman in Courtroom (uncredited)', credit_id='623f02021cfe3a005ce79e01', order=30, total_episode_count=None, roles=None), Cast(id=2868528, adult=False, gender=2, known_for_department='Writing', name='Timo Harakka', original_name='Timo Harakka', popularity=0.98, profile_path='/2qU3eFinUMnMk6xnqidFSwVhT18.jpg', cast_id=49, character='Man in Courtroom (uncredited)', credit_id='623f020c373ac2005c760e65', order=31, total_episode_count=None, roles=None), Cast(id=999634, adult=False, gender=2, known_for_department='Acting', name='Sami Lanki', original_name='Sami Lanki', popularity=2.036, profile_path=None, cast_id=50, character='Man in Courtroom (uncredited)', credit_id='623f02157caa47004758dffa', order=32, total_episode_count=None, roles=None), Cast(id=3083060, adult=False, gender=2, known_for_department='Acting', name='Kari Helaseppä', original_name='Kari Helaseppä', popularity=0.6, profile_path=None, cast_id=51, character='Man in Courtroom (uncredited)', credit_id='623f021f4cbe120091f73784', order=33, total_episode_count=None, roles=None), Cast(id=1750241, adult=False, gender=2, known_for_department='Camera', name='Timo Markko', original_name='Timo Markko', popularity=1.433, profile_path=None, cast_id=52, character='Prisoner (uncredited)', credit_id='623f0229373ac2005c760e85', order=34, total_episode_count=None, roles=None), Cast(id=1381113, adult=False, gender=2, known_for_department='Lighting', name='Olli Varja', original_name='Olli Varja', popularity=2.083, profile_path=None, cast_id=53, character='Prisoner (uncredited)', credit_id='623f02324cbe12005d544db4', order=35, total_episode_count=None, roles=None), Cast(id=4828, adult=False, gender=2, known_for_department='Acting', name='Sakari Kuosmanen', original_name='Sakari Kuosmanen', popularity=3.489, profile_path='/syM87lzV2IqFno87Za1PbeAUdMW.jpg', cast_id=54, character='Doorman (voice) (uncredited)', credit_id='623f02555a99150090bb7440', order=36, total_episode_count=None, roles=None), Cast(id=110763, adult=False, gender=2, known_for_department='Acting', name='Pentti Auer', original_name='Pentti Auer', popularity=3.007, profile_path=None, cast_id=55, character='Skipper (voice) (uncredited)', credit_id='623f0272373ac20047a11f6d', order=37, total_episode_count=None, roles=None)], crew=[Crew(id=16767, adult=False, gender=2, known_for_department='Directing', name='Aki Kaurismäki', original_name='Aki Kaurismäki', popularity=6.126, profile_path='/kiJErWEOv4Ew7aHOGKg4ljsmppZ.jpg', credit_id='52fe420dc3a36847f8000025', department='Directing', job='Director', total_episode_count=None, jobs=None, order=None), Crew(id=16767, adult=False, gender=2, known_for_department='Directing', name='Aki Kaurismäki', original_name='Aki Kaurismäki', popularity=6.126, profile_path='/kiJErWEOv4Ew7aHOGKg4ljsmppZ.jpg', credit_id='5be040dac3a3682b34043d42', department='Production', job='Producer', total_episode_count=None, jobs=None, order=None), Crew(id=16767, adult=False, gender=2, known_for_department='Directing', name='Aki Kaurismäki', original_name='Aki Kaurismäki', popularity=6.126, profile_path='/kiJErWEOv4Ew7aHOGKg4ljsmppZ.jpg', credit_id='623f06f3223a8b005f9baa9e', department='Writing', job='Writer', total_episode_count=None, jobs=None, order=None), Crew(id=16769, adult=False, gender=2, known_for_department='Camera', name='Timo Salminen', original_name='Timo Salminen', popularity=2.142, profile_path='/a8rH6eJ0XY1zQph18eNDj7MC8y4.jpg', credit_id='52fe420dc3a36847f800003b', department='Camera', job='Director of Photography', total_episode_count=None, jobs=None, order=None), Crew(id=54766, adult=False, gender=1, known_for_department='Editing', name='Raija Talvio', original_name='Raija Talvio', popularity=1.329, profile_path=None, credit_id='52fe420dc3a36847f8000041', department='Editing', job='Editor', total_episode_count=None, jobs=None, order=None), Crew(id=53836, adult=False, gender=2, known_for_department='Art', name='Risto Karhula', original_name='Risto Karhula', popularity=0.75, profile_path=None, credit_id='52fe420dc3a36847f8000047', department='Art', job='Production Design', total_episode_count=None, jobs=None, order=None), Crew(id=54771, adult=False, gender=1, known_for_department='Costume & Make-Up', name='Tuula Hilkamo', original_name='Tuula Hilkamo', popularity=1.27, profile_path=None, credit_id='52fe420dc3a36847f800004d', department='Costume & Make-Up', job='Costume Design', total_episode_count=None, jobs=None, order=None), Crew(id=4831, adult=False, gender=2, known_for_department='Acting', name='Jaakko Talaskivi', original_name='Jaakko Talaskivi', popularity=1.996, profile_path='/jHYgBI3RSt4bfRgARQDDBNWoPD9.jpg', credit_id='5e1cdc63e194b00014b7f970', department='Production', job='Production Manager', total_episode_count=None, jobs=None, order=None), Crew(id=16768, adult=False, gender=0, known_for_department='Sound', name='Melrose', original_name='Melrose', popularity=0.652, profile_path=None, credit_id='648bcd2e076ce801258ca95f', department='Sound', job='Music', total_episode_count=None, jobs=None, order=None), Crew(id=16772, adult=False, gender=2, known_for_department='Sound', name='Jouko Lumme', original_name='Jouko Lumme', popularity=1.341, profile_path=None, credit_id='5e1cdc27d5dbc20017f43bda', department='Sound', job='Sound', total_episode_count=None, jobs=None, order=None), Crew(id=109893, adult=False, gender=2, known_for_department='Directing', name='Veikko Aaltonen', original_name='Veikko Aaltonen', popularity=3.82, profile_path=None, credit_id='5e1cdc1c0e29a20017f861a4', department='Sound', job='Sound Assistant', total_episode_count=None, jobs=None, order=None), Crew(id=110756, adult=False, gender=2, known_for_department='Acting', name='Juuso Hirvikangas', original_name='Juuso Hirvikangas', popularity=2.425, profile_path='/7rvAPTsfz9U2E5tYghfY8YQlZ94.jpg', credit_id='623f078c1cfe3a005ce7aa36', department='Lighting', job='Gaffer', total_episode_count=None, jobs=None, order=None), Crew(id=110793, adult=False, gender=2, known_for_department='Sound', name='Rauli Somerjoki', original_name='Rauli Somerjoki', popularity=1.201, profile_path=None, credit_id='623f0e609451e7005e6ae20a', department='Sound', job='Music', total_episode_count=None, jobs=None, order=None), Crew(id=1034489, adult=False, gender=2, known_for_department='Directing', name='Pauli Pentti', original_name='Pauli Pentti', popularity=1.9, profile_path=None, credit_id='5e1cdc546a300b00165ec98d', department='Directing', job='Assistant Director', total_episode_count=None, jobs=None, order=None), Crew(id=1084612, adult=False, gender=2, known_for_department='Production', name='Heikki Ukkonen', original_name='Heikki Ukkonen', popularity=0.84, profile_path=None, credit_id='623f07e3373ac2008902549c', department='Production', job='Location Manager', total_episode_count=None, jobs=None, order=None), Crew(id=1303969, adult=False, gender=1, known_for_department='Camera', name='Marja-Leena Hukkanen', original_name='Marja-Leena Hukkanen', popularity=0.612, profile_path=None, credit_id='623f08b5223a8b005f9baeb0', department='Camera', job='Still Photographer', total_episode_count=None, jobs=None, order=None), Crew(id=1303969, adult=False, gender=1, known_for_department='Camera', name='Marja-Leena Hukkanen', original_name='Marja-Leena Hukkanen', popularity=0.612, profile_path=None, credit_id='623f08a61cfe3a005ce7acde', department='Directing', job='Script Supervisor', total_episode_count=None, jobs=None, order=None), Crew(id=1381112, adult=False, gender=2, known_for_department='Lighting', name='Mikko Mattila', original_name='Mikko Mattila', popularity=1.576, profile_path=None, credit_id='623f077f373ac2005c761937', department='Lighting', job='Gaffer', total_episode_count=None, jobs=None, order=None), Crew(id=1381113, adult=False, gender=2, known_for_department='Lighting', name='Olli Varja', original_name='Olli Varja', popularity=2.083, profile_path=None, credit_id='623f076c373ac20089025383', department='Lighting', job='Gaffer', total_episode_count=None, jobs=None, order=None), Crew(id=1403857, adult=False, gender=2, known_for_department='Acting', name='Olavi Virta', original_name='Olavi Virta', popularity=1.418, profile_path='/bDDauQkM36XxT0jv1EA0rEPehIV.jpg', credit_id='623f0cfd223a8b004ad6b54f', department='Sound', job='Music', total_episode_count=None, jobs=None, order=None), Crew(id=1416993, adult=False, gender=1, known_for_department='Production', name='Sirkka Rautiainen', original_name='Sirkka Rautiainen', popularity=1.156, profile_path=None, credit_id='5e1cdc724df2910015bec5e0', department='Costume & Make-Up', job='Costume Assistant', total_episode_count=None, jobs=None, order=None), Crew(id=1540906, adult=False, gender=2, known_for_department='Camera', name='Heikki Ortamo', original_name='Heikki Ortamo', popularity=1.779, profile_path=None, credit_id='623f075a9451e7008c89230e', department='Camera', job='Assistant Camera', total_episode_count=None, jobs=None, order=None), Crew(id=1666626, adult=False, gender=2, known_for_department='Crew', name='Seppo Saarinen', original_name='Seppo Saarinen', popularity=0.98, profile_path=None, credit_id='623f0acb7caa47005c16e433', department='Crew', job='Carpenter', total_episode_count=None, jobs=None, order=None), Crew(id=1674075, adult=False, gender=1, known_for_department='Editing', name='Outi Hyytinen', original_name='Outi Hyytinen', popularity=0.6, profile_path=None, credit_id='623f07c1417aaf0047ab7f40', department='Editing', job='Assistant Editor', total_episode_count=None, jobs=None, order=None), Crew(id=1683985, adult=False, gender=2, known_for_department='Sound', name='Kjell Westman', original_name='Kjell Westman', popularity=0.6, profile_path=None, credit_id='623f090645765d005b249dcb', department='Sound', job='Sound Re-Recording Mixer', total_episode_count=None, jobs=None, order=None), Crew(id=1750241, adult=False, gender=2, known_for_department='Camera', name='Timo Markko', original_name='Timo Markko', popularity=1.433, profile_path=None, credit_id='623f07485a99150048375abd', department='Camera', job='Assistant Camera', total_episode_count=None, jobs=None, order=None), Crew(id=1760644, adult=False, gender=2, known_for_department='Production', name='Erkki Astala', original_name='Erkki Astala', popularity=1.406, profile_path=None, credit_id='623f08c945765d005b249cf8', department='Production', job='Publicist', total_episode_count=None, jobs=None, order=None), Crew(id=1761904, adult=False, gender=1, known_for_department='Editing', name='Leena Palmu', original_name='Leena Palmu', popularity=0.84, profile_path=None, credit_id='623f09214cbe12005d5458bf', department='Editing', job='Negative Cutter', total_episode_count=None, jobs=None, order=None), Crew(id=1940249, adult=False, gender=2, known_for_department='Production', name='Erkki Lume', original_name='Erkki Lume', popularity=0.6, profile_path=None, credit_id='623f07f25a99150090bb80e1', department='Production', job='Location Manager', total_episode_count=None, jobs=None, order=None), Crew(id=2159272, adult=False, gender=2, known_for_department='Editing', name='Timo Nousiainen', original_name='Timo Nousiainen', popularity=0.84, profile_path=None, credit_id='623f09330f3655005fedc147', department='Editing', job='Colorist', total_episode_count=None, jobs=None, order=None), Crew(id=2159274, adult=False, gender=1, known_for_department='Production', name='Haije Alanoja', original_name='Haije Alanoja', popularity=1.614, profile_path=None, credit_id='623f08f05a99150048375db7', department='Production', job='Production Secretary', total_episode_count=None, jobs=None, order=None), Crew(id=2505429, adult=False, gender=2, known_for_department='Art', name='Simo Sulva', original_name='Simo Sulva', popularity=0.84, profile_path=None, credit_id='5e1cdc4512b10e0014941268', department='Art', job='Property Master', total_episode_count=None, jobs=None, order=None), Crew(id=2509155, adult=False, gender=2, known_for_department='Sound', name='Taisto Tammi', original_name='Taisto Tammi', popularity=0.756, profile_path=None, credit_id='623f0ebe223a8b005f9bbc77', department='Sound', job='Music', total_episode_count=None, jobs=None, order=None), Crew(id=3416563, adult=False, gender=2, known_for_department='Acting', name='Heikki Anttila', original_name='Heikki Anttila', popularity=0.6, profile_path=None, credit_id='623f0b54417aaf005ce5b823', department='Crew', job='Carpenter', total_episode_count=None, jobs=None, order=None), Crew(id=3478267, adult=False, gender=2, known_for_department='Crew', name='Jukka Anttonen', original_name='Jukka Anttonen', popularity=1.08, profile_path=None, credit_id='623f0abc417aaf0047ab8847', department='Crew', job='Carpenter', total_episode_count=None, jobs=None, order=None), Crew(id=3480787, adult=False, gender=1, known_for_department='Editing', name='Pirjo Laivuori', original_name='Pirjo Laivuori', popularity=0.652, profile_path=None, credit_id='623f099b519bbb0089eee1e9', department='Editing', job='Colorist', total_episode_count=None, jobs=None, order=None)], guest_stars=None), external_ids=None, images=None, keywords=None, recommendations=None, release_dates=None, reviews=None, similar=None, translations=None, videos=None, watch_providers=None)"
      ]
     },
     "execution_count": 19,
     "metadata": {},
     "output_type": "execute_result"
    }
   ],
   "source": [
    "movie = tmdb.movie(movie_id = 2).details(append_to_response = \"credits\")\n",
    "movie"
   ]
  },
  {
   "cell_type": "code",
   "execution_count": 32,
   "id": "c45062a9",
   "metadata": {},
   "outputs": [
    {
     "data": {
      "text/plain": [
       "'Ariel'"
      ]
     },
     "execution_count": 32,
     "metadata": {},
     "output_type": "execute_result"
    }
   ],
   "source": [
    "movie.title"
   ]
  },
  {
   "cell_type": "code",
   "execution_count": 33,
   "id": "d410b396",
   "metadata": {},
   "outputs": [
    {
     "data": {
      "text/plain": [
       "[Genre(id=18, name='Drama'),\n",
       " Genre(id=35, name='Comedy'),\n",
       " Genre(id=10749, name='Romance'),\n",
       " Genre(id=80, name='Crime')]"
      ]
     },
     "execution_count": 33,
     "metadata": {},
     "output_type": "execute_result"
    }
   ],
   "source": [
    "movie.genres"
   ]
  },
  {
   "cell_type": "code",
   "execution_count": 29,
   "id": "2aef5fbd",
   "metadata": {},
   "outputs": [
    {
     "data": {
      "text/plain": [
       "7.082"
      ]
     },
     "execution_count": 29,
     "metadata": {},
     "output_type": "execute_result"
    }
   ],
   "source": [
    "movie.vote_average"
   ]
  },
  {
   "cell_type": "code",
   "execution_count": 22,
   "id": "2c0b38b7",
   "metadata": {},
   "outputs": [
    {
     "data": {
      "text/plain": [
       "'After the coal mine he works at closes and his father commits suicide, a Finnish man leaves for the city to make a living but there, he is framed and imprisoned for various crimes.'"
      ]
     },
     "execution_count": 22,
     "metadata": {},
     "output_type": "execute_result"
    }
   ],
   "source": [
    "movie.overview"
   ]
  },
  {
   "cell_type": "code",
   "execution_count": 27,
   "id": "d7a63f7a",
   "metadata": {},
   "outputs": [
    {
     "data": {
      "text/plain": [
       "[Cast(id=54768, adult=False, gender=2, known_for_department='Acting', name='Turo Pajala', original_name='Turo Pajala', popularity=2.378, profile_path='/b6JdzqTn6UFYf4DouHbbE8Ypk4r.jpg', cast_id=3, character='Taisto Kasurinen', credit_id='52fe420dc3a36847f8000029', order=0, total_episode_count=None, roles=None),\n",
       " Cast(id=54769, adult=False, gender=1, known_for_department='Acting', name='Susanna Haavisto', original_name='Susanna Haavisto', popularity=3.112, profile_path='/lhjoqlBFCvshchMAd2lQLWV7z7I.jpg', cast_id=4, character='Irmeli Pihlaja', credit_id='52fe420dc3a36847f800002d', order=1, total_episode_count=None, roles=None),\n",
       " Cast(id=4826, adult=False, gender=2, known_for_department='Acting', name='Matti Pellonpää', original_name='Matti Pellonpää', popularity=4.581, profile_path='/1Qzhkkp3wFE2NMGKVyOra9931q2.jpg', cast_id=5, character='Mikkonen', credit_id='52fe420dc3a36847f8000031', order=2, total_episode_count=None, roles=None),\n",
       " Cast(id=54770, adult=False, gender=2, known_for_department='Acting', name='Eetu Hilkamo', original_name='Eetu Hilkamo', popularity=1.09, profile_path=None, cast_id=6, character='Riku', credit_id='52fe420dc3a36847f8000035', order=3, total_episode_count=None, roles=None),\n",
       " Cast(id=1177496, adult=False, gender=2, known_for_department='Acting', name='Erkki Pajala', original_name='Erkki Pajala', popularity=1.286, profile_path=None, cast_id=12, character='Miner', credit_id='5e1cda97d5dbc20017f439bb', order=4, total_episode_count=None, roles=None),\n",
       " Cast(id=2493350, adult=False, gender=2, known_for_department='Acting', name='Matti Jaaranen', original_name='Matti Jaaranen', popularity=1.012, profile_path=None, cast_id=13, character='Mugger', credit_id='5e1cdaa70e29a20015f85dcb', order=5, total_episode_count=None, roles=None),\n",
       " Cast(id=2509142, adult=False, gender=2, known_for_department='Acting', name='Hannu Viholainen', original_name='Hannu Viholainen', popularity=0.794, profile_path=None, cast_id=14, character='Accomplice', credit_id='5e1cdab54df2910015bec362', order=6, total_episode_count=None, roles=None),\n",
       " Cast(id=110757, adult=False, gender=2, known_for_department='Acting', name='Jorma Markkula', original_name='Jorma Markkula', popularity=2.329, profile_path='/oQduzpvqQhArEoa1kM8IOqySBmm.jpg', cast_id=15, character='Tallyman', credit_id='5e1cdacc12b10e00129442b4', order=7, total_episode_count=None, roles=None),\n",
       " Cast(id=1034494, adult=False, gender=1, known_for_department='Acting', name='Tarja Keinänen', original_name='Tarja Keinänen', popularity=3.822, profile_path=None, cast_id=16, character='Woman in Harbour', credit_id='5e1cdadb4df2910013becc44', order=8, total_episode_count=None, roles=None),\n",
       " Cast(id=2509144, adult=False, gender=2, known_for_department='Acting', name='Eino Kuusela', original_name='Eino Kuusela', popularity=0.716, profile_path=None, cast_id=17, character='Man on Beach', credit_id='5e1cdaec6a300b00135ec044', order=9, total_episode_count=None, roles=None),\n",
       " Cast(id=1207858, adult=False, gender=2, known_for_department='Acting', name='Kauko Laalo', original_name='Kauko Laalo', popularity=0.6, profile_path=None, cast_id=18, character='Night Hostel Manager', credit_id='5e1cdafae194b00014b7f810', order=10, total_episode_count=None, roles=None),\n",
       " Cast(id=2509145, adult=False, gender=2, known_for_department='Acting', name='Jyrki Olsonen', original_name='Jyrki Olsonen', popularity=0.6, profile_path=None, cast_id=19, character='Man in Night Hostel', credit_id='5e1cdb0dd5dbc20013f45fb2', order=11, total_episode_count=None, roles=None),\n",
       " Cast(id=53508, adult=False, gender=2, known_for_department='Acting', name='Esko Nikkari', original_name='Esko Nikkari', popularity=1.871, profile_path='/mNiyD3BOzWba4CB0VTbIqA4EAVm.jpg', cast_id=20, character='Car Dealer', credit_id='5e1cdb1dd5dbc20013f45fb7', order=12, total_episode_count=None, roles=None),\n",
       " Cast(id=53512, adult=False, gender=1, known_for_department='Acting', name='Marja Packalén', original_name='Marja Packalén', popularity=0.738, profile_path='/iBOu9d5LDY6rppEEoWFGXIYPF7Q.jpg', cast_id=21, character='Judge', credit_id='5e1cdb2d4df2910013becc8a', order=13, total_episode_count=None, roles=None),\n",
       " Cast(id=2509146, adult=False, gender=2, known_for_department='Acting', name='Mikko Remes', original_name='Mikko Remes', popularity=1.159, profile_path=None, cast_id=22, character='Prison Doctor', credit_id='5e1cdb38d5dbc20017f43a7c', order=14, total_episode_count=None, roles=None),\n",
       " Cast(id=4829, adult=False, gender=2, known_for_department='Acting', name='Tomi Salmela', original_name='Tomi Salmela', popularity=3.853, profile_path='/7XmK7A2dYWDyzh0PJ3h43eHKwfn.jpg', cast_id=23, character='Guard', credit_id='5e1cdb554df2910011bec2a3', order=15, total_episode_count=None, roles=None),\n",
       " Cast(id=2509147, adult=False, gender=2, known_for_department='Acting', name='Reijo Marin', original_name='Reijo Marin', popularity=1.38, profile_path=None, cast_id=24, character='Guard', credit_id='5e1cdb6412b10e0012944340', order=16, total_episode_count=None, roles=None),\n",
       " Cast(id=2509149, adult=False, gender=2, known_for_department='Acting', name='Heikki Salomaa', original_name='Heikki Salomaa', popularity=1.754, profile_path=None, cast_id=25, character='Guard', credit_id='5e1cdb7b0e29a20019f84350', order=17, total_episode_count=None, roles=None),\n",
       " Cast(id=1207842, adult=False, gender=2, known_for_department='Acting', name='Veikko Uusimäki', original_name='Veikko Uusimäki', popularity=1.594, profile_path='/n88CSw4DEIt9KnDX9Kf4mehykZ1.jpg', cast_id=26, character='Mayor', credit_id='5e1cdb904df2910013becca2', order=18, total_episode_count=None, roles=None),\n",
       " Cast(id=56273, adult=False, gender=2, known_for_department='Acting', name='Esko Salminen', original_name='Esko Salminen', popularity=1.464, profile_path='/74y98xEaOSBC5xp1vpcm9VrFGLW.jpg', cast_id=27, character='Crook', credit_id='5e1cdba0e194b00016b8682d', order=19, total_episode_count=None, roles=None),\n",
       " Cast(id=2509151, adult=False, gender=2, known_for_department='Acting', name='Hannu Kivisalo', original_name='Hannu Kivisalo', popularity=1.214, profile_path=None, cast_id=28, character='Doorman', credit_id='5e1cdbb0e194b00016b86838', order=20, total_episode_count=None, roles=None),\n",
       " Cast(id=2509152, adult=False, gender=2, known_for_department='Acting', name='Pekka Wilen', original_name='Pekka Wilen', popularity=0.828, profile_path=None, cast_id=29, character='Skipper', credit_id='5e1cdbbfe194b00016b8684c', order=21, total_episode_count=None, roles=None),\n",
       " Cast(id=110756, adult=False, gender=2, known_for_department='Acting', name='Juuso Hirvikangas', original_name='Juuso Hirvikangas', popularity=2.425, profile_path='/7rvAPTsfz9U2E5tYghfY8YQlZ94.jpg', cast_id=40, character='Man in Harbour (uncredited)', credit_id='623f00171cfe3a008766a451', order=22, total_episode_count=None, roles=None),\n",
       " Cast(id=3416563, adult=False, gender=2, known_for_department='Acting', name='Heikki Anttila', original_name='Heikki Anttila', popularity=0.6, profile_path=None, cast_id=41, character='Man in Harbour (uncredited)', credit_id='623f0047519bbb004768b300', order=23, total_episode_count=None, roles=None),\n",
       " Cast(id=4831, adult=False, gender=2, known_for_department='Acting', name='Jaakko Talaskivi', original_name='Jaakko Talaskivi', popularity=1.996, profile_path='/jHYgBI3RSt4bfRgARQDDBNWoPD9.jpg', cast_id=42, character='Cook (uncredited)', credit_id='623f0050c50ad20047ee182a', order=24, total_episode_count=None, roles=None),\n",
       " Cast(id=16772, adult=False, gender=2, known_for_department='Sound', name='Jouko Lumme', original_name='Jouko Lumme', popularity=1.341, profile_path=None, cast_id=43, character='Cook (uncredited)', credit_id='623f0059c50ad2005ccacdc5', order=25, total_episode_count=None, roles=None),\n",
       " Cast(id=1416993, adult=False, gender=1, known_for_department='Production', name='Sirkka Rautiainen', original_name='Sirkka Rautiainen', popularity=1.156, profile_path=None, cast_id=44, character='Woman Watching TV (uncredited)', credit_id='623f00d35a9915005d4c043e', order=26, total_episode_count=None, roles=None),\n",
       " Cast(id=3480732, adult=False, gender=2, known_for_department='Acting', name='Markku Rantala', original_name='Markku Rantala', popularity=0.6, profile_path=None, cast_id=45, character='Man in Tunnel (uncredited)', credit_id='623f017f7caa47004758de69', order=27, total_episode_count=None, roles=None),\n",
       " Cast(id=2289558, adult=False, gender=2, known_for_department='Acting', name='Mikko Lyytikäinen', original_name='Mikko Lyytikäinen', popularity=0.728, profile_path=None, cast_id=46, character='Court Member (uncredited)', credit_id='623f01e8d100b60093e4102d', order=28, total_episode_count=None, roles=None),\n",
       " Cast(id=1948071, adult=False, gender=2, known_for_department='Acting', name='Timo Toikka', original_name='Timo Toikka', popularity=1.208, profile_path=None, cast_id=47, character='Man in Courtroom (uncredited)', credit_id='623f01f8417aaf00871dc8cf', order=29, total_episode_count=None, roles=None),\n",
       " Cast(id=1207853, adult=False, gender=1, known_for_department='Acting', name='Hanna Jokinen', original_name='Hanna Jokinen', popularity=1.4, profile_path=None, cast_id=48, character='Woman in Courtroom (uncredited)', credit_id='623f02021cfe3a005ce79e01', order=30, total_episode_count=None, roles=None),\n",
       " Cast(id=2868528, adult=False, gender=2, known_for_department='Writing', name='Timo Harakka', original_name='Timo Harakka', popularity=0.98, profile_path='/2qU3eFinUMnMk6xnqidFSwVhT18.jpg', cast_id=49, character='Man in Courtroom (uncredited)', credit_id='623f020c373ac2005c760e65', order=31, total_episode_count=None, roles=None),\n",
       " Cast(id=999634, adult=False, gender=2, known_for_department='Acting', name='Sami Lanki', original_name='Sami Lanki', popularity=2.036, profile_path=None, cast_id=50, character='Man in Courtroom (uncredited)', credit_id='623f02157caa47004758dffa', order=32, total_episode_count=None, roles=None),\n",
       " Cast(id=3083060, adult=False, gender=2, known_for_department='Acting', name='Kari Helaseppä', original_name='Kari Helaseppä', popularity=0.6, profile_path=None, cast_id=51, character='Man in Courtroom (uncredited)', credit_id='623f021f4cbe120091f73784', order=33, total_episode_count=None, roles=None),\n",
       " Cast(id=1750241, adult=False, gender=2, known_for_department='Camera', name='Timo Markko', original_name='Timo Markko', popularity=1.433, profile_path=None, cast_id=52, character='Prisoner (uncredited)', credit_id='623f0229373ac2005c760e85', order=34, total_episode_count=None, roles=None),\n",
       " Cast(id=1381113, adult=False, gender=2, known_for_department='Lighting', name='Olli Varja', original_name='Olli Varja', popularity=2.083, profile_path=None, cast_id=53, character='Prisoner (uncredited)', credit_id='623f02324cbe12005d544db4', order=35, total_episode_count=None, roles=None),\n",
       " Cast(id=4828, adult=False, gender=2, known_for_department='Acting', name='Sakari Kuosmanen', original_name='Sakari Kuosmanen', popularity=3.489, profile_path='/syM87lzV2IqFno87Za1PbeAUdMW.jpg', cast_id=54, character='Doorman (voice) (uncredited)', credit_id='623f02555a99150090bb7440', order=36, total_episode_count=None, roles=None),\n",
       " Cast(id=110763, adult=False, gender=2, known_for_department='Acting', name='Pentti Auer', original_name='Pentti Auer', popularity=3.007, profile_path=None, cast_id=55, character='Skipper (voice) (uncredited)', credit_id='623f0272373ac20047a11f6d', order=37, total_episode_count=None, roles=None)]"
      ]
     },
     "execution_count": 27,
     "metadata": {},
     "output_type": "execute_result"
    }
   ],
   "source": [
    "movie.credits.cast"
   ]
  },
  {
   "cell_type": "code",
   "execution_count": 26,
   "id": "558efcb2",
   "metadata": {},
   "outputs": [
    {
     "data": {
      "text/plain": [
       "['Turo Pajala', 'Susanna Haavisto', 'Matti Pellonpää']"
      ]
     },
     "execution_count": 26,
     "metadata": {},
     "output_type": "execute_result"
    }
   ],
   "source": [
    "castSubset(movie.credits.cast)"
   ]
  },
  {
   "cell_type": "code",
   "execution_count": null,
   "id": "90b59025",
   "metadata": {},
   "outputs": [],
   "source": []
  },
  {
   "cell_type": "code",
   "execution_count": null,
   "id": "01d76275",
   "metadata": {},
   "outputs": [],
   "source": []
  },
  {
   "cell_type": "code",
   "execution_count": null,
   "id": "179e1be8",
   "metadata": {},
   "outputs": [],
   "source": []
  },
  {
   "cell_type": "code",
   "execution_count": null,
   "id": "ead356c4",
   "metadata": {},
   "outputs": [],
   "source": []
  },
  {
   "cell_type": "code",
   "execution_count": null,
   "id": "782c3a52",
   "metadata": {},
   "outputs": [],
   "source": []
  },
  {
   "cell_type": "code",
   "execution_count": null,
   "id": "f202222b",
   "metadata": {},
   "outputs": [],
   "source": []
  },
  {
   "cell_type": "code",
   "execution_count": null,
   "id": "042bc10b",
   "metadata": {},
   "outputs": [],
   "source": []
  },
  {
   "cell_type": "code",
   "execution_count": null,
   "id": "e64b1f55",
   "metadata": {},
   "outputs": [],
   "source": []
  }
 ],
 "metadata": {
  "kernelspec": {
   "display_name": "Python 3 (ipykernel)",
   "language": "python",
   "name": "python3"
  },
  "language_info": {
   "codemirror_mode": {
    "name": "ipython",
    "version": 3
   },
   "file_extension": ".py",
   "mimetype": "text/x-python",
   "name": "python",
   "nbconvert_exporter": "python",
   "pygments_lexer": "ipython3",
   "version": "3.9.18"
  }
 },
 "nbformat": 4,
 "nbformat_minor": 5
}
