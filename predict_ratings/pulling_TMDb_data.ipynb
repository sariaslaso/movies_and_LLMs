{
 "cells": [
  {
   "cell_type": "code",
   "execution_count": 10,
   "id": "fd347b56",
   "metadata": {},
   "outputs": [],
   "source": [
    "#from imdb_api import IMDb\n",
    "# from imdb import Cinemagoer\n",
    "\n",
    "# TMDb\n",
    "from themoviedb import TMDb\n",
    "\n",
    "import pandas as pd\n",
    "import json"
   ]
  },
  {
   "cell_type": "code",
   "execution_count": 2,
   "id": "f3cf0b68",
   "metadata": {},
   "outputs": [],
   "source": [
    "# read API key to access TMDb \n",
    "with open(\"TMDb_key.txt\") as my_key:\n",
    "    api_key = my_key.read()"
   ]
  },
  {
   "cell_type": "code",
   "execution_count": 3,
   "id": "08ba1ad7",
   "metadata": {},
   "outputs": [],
   "source": [
    "# ia = Cinemagoer()\n",
    "\n",
    "# initialize a TMDb object and set the API key\n",
    "tmdb = TMDb(key = api_key)"
   ]
  },
  {
   "cell_type": "code",
   "execution_count": 4,
   "id": "d4be1624",
   "metadata": {},
   "outputs": [],
   "source": [
    "#tmdb.movies().top_rated()\n",
    "movie = tmdb.movie(movie_id = 137625).details(append_to_response=\"credits\")"
   ]
  },
  {
   "cell_type": "code",
   "execution_count": 5,
   "id": "8a14a7a6",
   "metadata": {
    "scrolled": true
   },
   "outputs": [
    {
     "data": {
      "text/plain": [
       "Movie(id=137625, poster_path='/9VymaYQWmA0ttlhX9UJMcbdDIoj.jpg', adult=False, overview='Portabella’s first feature, co-scripted by poet Joan Brossa, became one of the most influential works of the Barcelona avant-garde, although like all his early films, it circulated only in an underground fashion. Eschewing dialogue, the director constructs a non-narrative story in fragments that reveal the daily lives of an adulterous couple interspersed with a cryptic stream of unrelated imagery. The title of this homage to directors including Eisenstein, Antonioni, Bergman, and Buñuel refers to the 29 “black years” of the Franco dictatorship. — chicago.cervantes.es', release_date=datetime.date(1969, 7, 1), genre_ids=None, original_title='Nocturno 29', original_language='es', title='Nocturne 29', backdrop_path='/znO1cmck9vtA2KNQ0LE14CapnMA.jpg', popularity=2.497, vote_count=15, video=False, vote_average=5.1, media_type=<MediaType.movie: 'movie'>, belongs_to_collection=None, budget=0, genres=[Genre(id=18, name='Drama'), Genre(id=27, name='Horror'), Genre(id=9648, name='Mystery')], homepage='', imdb_id='tt0063363', production_companies=[Company(id=37802, logo_path='/qcYcBGZFIzRR3rvXkYSU4xDlftZ.png', name='Films 59', description=None, headquarters=None, homepage=None, origin_country='ES', parent_company=None)], production_countries=[Country(iso_3166_1='ES', name='Spain')], revenue=0, runtime=86, spoken_languages=[Language(english_name='Spanish', iso_639_1='es', name='Español')], status='Released', tagline='', alternative_titles=None, credits=Credits(id=None, cast=[Cast(id=39274, adult=False, gender=1, known_for_department='Acting', name='Lucía Bosè', original_name='Lucía Bosè', popularity=8.123, profile_path='/cqekXd14u029hdo5cbijHAgO93X.jpg', cast_id=3, character='Señora (as Lucia Bose)', credit_id='52fe4c36c3a368484e1acf0f', order=0, total_episode_count=None, roles=None), Cast(id=1052822, adult=False, gender=2, known_for_department='Acting', name='Mario Cabré', original_name='Mario Cabré', popularity=5.345, profile_path='/A6dSSErVjCGWcS3eKbouzGHTFmS.jpg', cast_id=4, character='Señor (as Mario Cabre)', credit_id='52fe4c36c3a368484e1acf13', order=1, total_episode_count=None, roles=None), Cast(id=37525, adult=False, gender=2, known_for_department='Acting', name='Luis Ciges', original_name='Luis Ciges', popularity=2.474, profile_path='/xEDmDVTRc0m3ds6IRmQXG5Apry2.jpg', cast_id=5, character='', credit_id='52fe4c36c3a368484e1acf17', order=2, total_episode_count=None, roles=None), Cast(id=1107475, adult=False, gender=0, known_for_department='Acting', name='Ramón Julia', original_name='Ramón Julia', popularity=1.932, profile_path=None, cast_id=6, character='(as Ramon Julia)', credit_id='52fe4c36c3a368484e1acf1b', order=3, total_episode_count=None, roles=None), Cast(id=1107476, adult=False, gender=2, known_for_department='Acting', name='Antonio Saura', original_name='Antonio Saura', popularity=1.38, profile_path=None, cast_id=7, character='', credit_id='52fe4c36c3a368484e1acf1f', order=4, total_episode_count=None, roles=None), Cast(id=1107477, adult=False, gender=0, known_for_department='Acting', name='Antoni Tàpies', original_name='Antoni Tàpies', popularity=0.98, profile_path=None, cast_id=8, character='(as Antoni Tapies)', credit_id='52fe4c36c3a368484e1acf23', order=5, total_episode_count=None, roles=None), Cast(id=2995136, adult=False, gender=0, known_for_department='Acting', name='Joan Ponç', original_name='Joan Ponç', popularity=0.6, profile_path=None, cast_id=31, character='', credit_id='603d65f9072166004b1eda25', order=6, total_episode_count=None, roles=None), Cast(id=1847657, adult=False, gender=0, known_for_department='Sound', name='Jordi Prats', original_name='Jordi Prats', popularity=0.6, profile_path=None, cast_id=32, character='', credit_id='603d663e0102c9004eaf0d9b', order=7, total_episode_count=None, roles=None)], crew=[Crew(id=37836, adult=False, gender=2, known_for_department='Camera', name='Luis Cuadrado', original_name='Luis Cuadrado', popularity=2.25, profile_path='/hSaJ9EOwzylBQjUkhHmp8dLSc6F.jpg', credit_id='5681d679c3a3684be90117a9', department='Camera', job='Director of Photography', total_episode_count=None, jobs=None, order=None), Crew(id=37836, adult=False, gender=2, known_for_department='Camera', name='Luis Cuadrado', original_name='Luis Cuadrado', popularity=2.25, profile_path='/hSaJ9EOwzylBQjUkhHmp8dLSc6F.jpg', credit_id='603d652b1e9225004de6a929', department='Camera', job='Camera Operator', total_episode_count=None, jobs=None, order=None), Crew(id=37736, adult=False, gender=2, known_for_department='Camera', name='Teo Escamilla', original_name='Teo Escamilla', popularity=2.07, profile_path='/veGkvrzPDpz9ibadUAF7jWcN5nt.jpg', credit_id='603d64c9663b87281812f2f0', department='Camera', job='Camera Operator', total_episode_count=None, jobs=None, order=None), Crew(id=37497, adult=False, gender=2, known_for_department='Directing', name='Pere Portabella', original_name='Pere Portabella', popularity=2.785, profile_path='/vS6B7Ug4RaZjYEWm7PX645Y7n84.jpg', credit_id='603d63071d019120a639b88c', department='Writing', job='Screenplay', total_episode_count=None, jobs=None, order=None), Crew(id=37497, adult=False, gender=2, known_for_department='Directing', name='Pere Portabella', original_name='Pere Portabella', popularity=2.785, profile_path='/vS6B7Ug4RaZjYEWm7PX645Y7n84.jpg', credit_id='52fe4c36c3a368484e1acf05', department='Directing', job='Director', total_episode_count=None, jobs=None, order=None), Crew(id=37497, adult=False, gender=2, known_for_department='Directing', name='Pere Portabella', original_name='Pere Portabella', popularity=2.785, profile_path='/vS6B7Ug4RaZjYEWm7PX645Y7n84.jpg', credit_id='603d6312726fb1004f153b28', department='Writing', job='Story', total_episode_count=None, jobs=None, order=None), Crew(id=100729, adult=False, gender=1, known_for_department='Writing', name='Anne Settimó', original_name='Anne Settimó', popularity=1.96, profile_path=None, credit_id='603d6581c3c891005fa6f8c6', department='Directing', job='Script Supervisor', total_episode_count=None, jobs=None, order=None), Crew(id=100729, adult=False, gender=1, known_for_department='Writing', name='Anne Settimó', original_name='Anne Settimó', popularity=1.96, profile_path=None, credit_id='603d63bd594c941f308de094', department='Production', job='Associate Producer', total_episode_count=None, jobs=None, order=None), Crew(id=1086384, adult=False, gender=1, known_for_department='Editing', name='Teresa Alcocer', original_name='Teresa Alcocer', popularity=1.96, profile_path=None, credit_id='52fe4c36c3a368484e1acf2f', department='Editing', job='Editor', total_episode_count=None, jobs=None, order=None), Crew(id=1107459, adult=False, gender=0, known_for_department='Sound', name='Carles Santos', original_name='Carles Santos', popularity=0.603, profile_path=None, credit_id='603d6566a8858729ed0aad61', department='Sound', job='Musician', total_episode_count=None, jobs=None, order=None), Crew(id=1107473, adult=False, gender=0, known_for_department='Writing', name='Joan Brossa', original_name='Joan Brossa', popularity=1.286, profile_path=None, credit_id='603d62f2ec0c58004cd0cdd1', department='Writing', job='Screenplay', total_episode_count=None, jobs=None, order=None), Crew(id=1107473, adult=False, gender=0, known_for_department='Writing', name='Joan Brossa', original_name='Joan Brossa', popularity=1.286, profile_path=None, credit_id='603d62e88a0e9b0057feffb3', department='Writing', job='Dialogue', total_episode_count=None, jobs=None, order=None), Crew(id=1329433, adult=False, gender=0, known_for_department='Sound', name='Jordi Sangenís', original_name='Jordi Sangenís', popularity=1.532, profile_path=None, credit_id='603d64936d97e60059eac06f', department='Sound', job='Sound', total_episode_count=None, jobs=None, order=None), Crew(id=1377352, adult=False, gender=0, known_for_department='Directing', name='Jacques Levy', original_name='Jacques Levy', popularity=0.6, profile_path=None, credit_id='603d63989ca759004ec23e13', department='Production', job='Associate Producer', total_episode_count=None, jobs=None, order=None), Crew(id=1697054, adult=False, gender=0, known_for_department='Editing', name='Margarita Bernet', original_name='Margarita Bernet', popularity=0.6, profile_path=None, credit_id='603d65481e9225004be6a8b3', department='Editing', job='Assistant Editor', total_episode_count=None, jobs=None, order=None), Crew(id=1697469, adult=False, gender=0, known_for_department='Production', name='Jaime Fernández-Cid', original_name='Jaime Fernández-Cid', popularity=1.38, profile_path=None, credit_id='603d6449678259004f227f68', department='Production', job='Production Manager', total_episode_count=None, jobs=None, order=None), Crew(id=2003154, adult=False, gender=0, known_for_department='Directing', name='José Luis Ruiz Marcos', original_name='José Luis Ruiz Marcos', popularity=0.6, profile_path=None, credit_id='603d6471ec0c58004cd0cf96', department='Directing', job='Assistant Director', total_episode_count=None, jobs=None, order=None), Crew(id=2003472, adult=False, gender=0, known_for_department='Camera', name='Santiago Rodríguez', original_name='Santiago Rodríguez', popularity=0.656, profile_path=None, credit_id='603d650066e469004d8fe3fb', department='Camera', job='Focus Puller', total_episode_count=None, jobs=None, order=None), Crew(id=2122832, adult=False, gender=0, known_for_department='Sound', name='Josep M. Mestres Quadreny', original_name='Josep M. Mestres Quadreny', popularity=0.6, profile_path=None, credit_id='603d64231d0191004e39c2b7', department='Sound', job='Original Music Composer', total_episode_count=None, jobs=None, order=None)], guest_stars=None), external_ids=None, images=None, keywords=None, recommendations=None, release_dates=None, reviews=None, similar=None, translations=None, videos=None, watch_providers=None)"
      ]
     },
     "execution_count": 5,
     "metadata": {},
     "output_type": "execute_result"
    }
   ],
   "source": [
    "movie"
   ]
  },
  {
   "cell_type": "code",
   "execution_count": 6,
   "id": "ff5b72f6",
   "metadata": {},
   "outputs": [
    {
     "data": {
      "text/plain": [
       "'Nocturne 29'"
      ]
     },
     "execution_count": 6,
     "metadata": {},
     "output_type": "execute_result"
    }
   ],
   "source": [
    "movie.title"
   ]
  },
  {
   "cell_type": "code",
   "execution_count": 7,
   "id": "f838e7b5",
   "metadata": {},
   "outputs": [
    {
     "data": {
      "text/plain": [
       "[Genre(id=18, name='Drama'),\n",
       " Genre(id=27, name='Horror'),\n",
       " Genre(id=9648, name='Mystery')]"
      ]
     },
     "execution_count": 7,
     "metadata": {},
     "output_type": "execute_result"
    }
   ],
   "source": [
    "movie.genres"
   ]
  },
  {
   "cell_type": "code",
   "execution_count": 8,
   "id": "f0c1c398",
   "metadata": {
    "scrolled": true
   },
   "outputs": [
    {
     "data": {
      "text/plain": [
       "[Country(iso_3166_1='ES', name='Spain')]"
      ]
     },
     "execution_count": 8,
     "metadata": {},
     "output_type": "execute_result"
    }
   ],
   "source": [
    "movie.production_countries"
   ]
  },
  {
   "cell_type": "code",
   "execution_count": 9,
   "id": "d2b7cf82",
   "metadata": {},
   "outputs": [
    {
     "data": {
      "text/plain": [
       "'Portabella’s first feature, co-scripted by poet Joan Brossa, became one of the most influential works of the Barcelona avant-garde, although like all his early films, it circulated only in an underground fashion. Eschewing dialogue, the director constructs a non-narrative story in fragments that reveal the daily lives of an adulterous couple interspersed with a cryptic stream of unrelated imagery. The title of this homage to directors including Eisenstein, Antonioni, Bergman, and Buñuel refers to the 29 “black years” of the Franco dictatorship. — chicago.cervantes.es'"
      ]
     },
     "execution_count": 9,
     "metadata": {},
     "output_type": "execute_result"
    }
   ],
   "source": [
    "movie.overview"
   ]
  },
  {
   "cell_type": "code",
   "execution_count": 20,
   "id": "6e4db7d4",
   "metadata": {},
   "outputs": [],
   "source": [
    "# join movies.csv, links.csv and ratings.csv by movieId\n",
    "\n",
    "movies_ml = pd.read_csv(\"../datasets/ml-25m/movies.csv\")\n",
    "links_ml = pd.read_csv(\"../datasets/ml-25m/links.csv\")\n",
    "ratings_ml = pd.read_csv(\"../datasets/ml-25m/ratings.csv\")"
   ]
  },
  {
   "cell_type": "code",
   "execution_count": 45,
   "id": "39b41480",
   "metadata": {},
   "outputs": [
    {
     "data": {
      "text/html": [
       "<div>\n",
       "<style scoped>\n",
       "    .dataframe tbody tr th:only-of-type {\n",
       "        vertical-align: middle;\n",
       "    }\n",
       "\n",
       "    .dataframe tbody tr th {\n",
       "        vertical-align: top;\n",
       "    }\n",
       "\n",
       "    .dataframe thead th {\n",
       "        text-align: right;\n",
       "    }\n",
       "</style>\n",
       "<table border=\"1\" class=\"dataframe\">\n",
       "  <thead>\n",
       "    <tr style=\"text-align: right;\">\n",
       "      <th></th>\n",
       "      <th>movieId</th>\n",
       "      <th>title</th>\n",
       "      <th>genres</th>\n",
       "      <th>tmdbId</th>\n",
       "      <th>rating</th>\n",
       "    </tr>\n",
       "  </thead>\n",
       "  <tbody>\n",
       "    <tr>\n",
       "      <th>0</th>\n",
       "      <td>1</td>\n",
       "      <td>Toy Story (1995)</td>\n",
       "      <td>Adventure|Animation|Children|Comedy|Fantasy</td>\n",
       "      <td>862.0</td>\n",
       "      <td>3.5</td>\n",
       "    </tr>\n",
       "    <tr>\n",
       "      <th>0</th>\n",
       "      <td>1</td>\n",
       "      <td>Toy Story (1995)</td>\n",
       "      <td>Adventure|Animation|Children|Comedy|Fantasy</td>\n",
       "      <td>862.0</td>\n",
       "      <td>4.0</td>\n",
       "    </tr>\n",
       "    <tr>\n",
       "      <th>0</th>\n",
       "      <td>1</td>\n",
       "      <td>Toy Story (1995)</td>\n",
       "      <td>Adventure|Animation|Children|Comedy|Fantasy</td>\n",
       "      <td>862.0</td>\n",
       "      <td>3.0</td>\n",
       "    </tr>\n",
       "    <tr>\n",
       "      <th>0</th>\n",
       "      <td>1</td>\n",
       "      <td>Toy Story (1995)</td>\n",
       "      <td>Adventure|Animation|Children|Comedy|Fantasy</td>\n",
       "      <td>862.0</td>\n",
       "      <td>4.0</td>\n",
       "    </tr>\n",
       "    <tr>\n",
       "      <th>0</th>\n",
       "      <td>1</td>\n",
       "      <td>Toy Story (1995)</td>\n",
       "      <td>Adventure|Animation|Children|Comedy|Fantasy</td>\n",
       "      <td>862.0</td>\n",
       "      <td>4.0</td>\n",
       "    </tr>\n",
       "    <tr>\n",
       "      <th>...</th>\n",
       "      <td>...</td>\n",
       "      <td>...</td>\n",
       "      <td>...</td>\n",
       "      <td>...</td>\n",
       "      <td>...</td>\n",
       "    </tr>\n",
       "    <tr>\n",
       "      <th>62418</th>\n",
       "      <td>209157</td>\n",
       "      <td>We (2018)</td>\n",
       "      <td>Drama</td>\n",
       "      <td>499546.0</td>\n",
       "      <td>1.5</td>\n",
       "    </tr>\n",
       "    <tr>\n",
       "      <th>62419</th>\n",
       "      <td>209159</td>\n",
       "      <td>Window of the Soul (2001)</td>\n",
       "      <td>Documentary</td>\n",
       "      <td>63407.0</td>\n",
       "      <td>3.0</td>\n",
       "    </tr>\n",
       "    <tr>\n",
       "      <th>62420</th>\n",
       "      <td>209163</td>\n",
       "      <td>Bad Poems (2018)</td>\n",
       "      <td>Comedy|Drama</td>\n",
       "      <td>553036.0</td>\n",
       "      <td>4.5</td>\n",
       "    </tr>\n",
       "    <tr>\n",
       "      <th>62421</th>\n",
       "      <td>209169</td>\n",
       "      <td>A Girl Thing (2001)</td>\n",
       "      <td>(no genres listed)</td>\n",
       "      <td>162892.0</td>\n",
       "      <td>3.0</td>\n",
       "    </tr>\n",
       "    <tr>\n",
       "      <th>62422</th>\n",
       "      <td>209171</td>\n",
       "      <td>Women of Devil's Island (1962)</td>\n",
       "      <td>Action|Adventure|Drama</td>\n",
       "      <td>79513.0</td>\n",
       "      <td>3.0</td>\n",
       "    </tr>\n",
       "  </tbody>\n",
       "</table>\n",
       "<p>25003471 rows × 5 columns</p>\n",
       "</div>"
      ],
      "text/plain": [
       "       movieId                           title  \\\n",
       "0            1                Toy Story (1995)   \n",
       "0            1                Toy Story (1995)   \n",
       "0            1                Toy Story (1995)   \n",
       "0            1                Toy Story (1995)   \n",
       "0            1                Toy Story (1995)   \n",
       "...        ...                             ...   \n",
       "62418   209157                       We (2018)   \n",
       "62419   209159       Window of the Soul (2001)   \n",
       "62420   209163                Bad Poems (2018)   \n",
       "62421   209169             A Girl Thing (2001)   \n",
       "62422   209171  Women of Devil's Island (1962)   \n",
       "\n",
       "                                            genres    tmdbId  rating  \n",
       "0      Adventure|Animation|Children|Comedy|Fantasy     862.0     3.5  \n",
       "0      Adventure|Animation|Children|Comedy|Fantasy     862.0     4.0  \n",
       "0      Adventure|Animation|Children|Comedy|Fantasy     862.0     3.0  \n",
       "0      Adventure|Animation|Children|Comedy|Fantasy     862.0     4.0  \n",
       "0      Adventure|Animation|Children|Comedy|Fantasy     862.0     4.0  \n",
       "...                                            ...       ...     ...  \n",
       "62418                                        Drama  499546.0     1.5  \n",
       "62419                                  Documentary   63407.0     3.0  \n",
       "62420                                 Comedy|Drama  553036.0     4.5  \n",
       "62421                           (no genres listed)  162892.0     3.0  \n",
       "62422                       Action|Adventure|Drama   79513.0     3.0  \n",
       "\n",
       "[25003471 rows x 5 columns]"
      ]
     },
     "execution_count": 45,
     "metadata": {},
     "output_type": "execute_result"
    }
   ],
   "source": [
    "movielens_data = movies_ml.join(links_ml.set_index('movieId'), on = 'movieId')\n",
    "movielens_data = movielens_data.join(ratings_ml.set_index('movieId'), on = 'movieId')\n",
    "movielens_data = movielens_data.drop(columns = ['imdbId', 'userId', 'timestamp'])\n",
    "movielens_data"
   ]
  },
  {
   "cell_type": "code",
   "execution_count": null,
   "id": "35efc589",
   "metadata": {},
   "outputs": [],
   "source": [
    "\n",
    "with open(\"file\", \"a\") as outfile:\n",
    "\n",
    "    for ids in ids_you_want:\n",
    "        \n",
    "        #check if you have seen the id already\n",
    "        \n",
    "        #get example from tmdb by tmdb_id using the API\n",
    "        \n",
    "        #get info you want from the movie object\n",
    "        \n",
    "        #make a dictionary or whatever:\n",
    "        \n",
    "        ex = {\"id\": fjsdfjhd, \"title\" : dksjfjdshf, \"summary\" : fjsdjhds,}\n",
    "        \n",
    "        #dump to file:\n",
    "        \n",
    "        outfile.write(json.dumps(ex) + \"\\n\")\n",
    "    \n",
    "\n",
    "# in a dee end you will have a file that is one json record per line. each line representing a movie.\n",
    "\n",
    "\n",
    "\n"
   ]
  },
  {
   "cell_type": "code",
   "execution_count": null,
   "id": "2751693e",
   "metadata": {},
   "outputs": [],
   "source": []
  },
  {
   "cell_type": "code",
   "execution_count": null,
   "id": "4388c77b",
   "metadata": {},
   "outputs": [],
   "source": []
  },
  {
   "cell_type": "code",
   "execution_count": null,
   "id": "1e9bc100",
   "metadata": {},
   "outputs": [],
   "source": []
  },
  {
   "cell_type": "code",
   "execution_count": null,
   "id": "090f6c9f",
   "metadata": {},
   "outputs": [],
   "source": []
  },
  {
   "cell_type": "code",
   "execution_count": null,
   "id": "b37879a3",
   "metadata": {},
   "outputs": [],
   "source": []
  }
 ],
 "metadata": {
  "kernelspec": {
   "display_name": "Python 3 (ipykernel)",
   "language": "python",
   "name": "python3"
  },
  "language_info": {
   "codemirror_mode": {
    "name": "ipython",
    "version": 3
   },
   "file_extension": ".py",
   "mimetype": "text/x-python",
   "name": "python",
   "nbconvert_exporter": "python",
   "pygments_lexer": "ipython3",
   "version": "3.9.13"
  }
 },
 "nbformat": 4,
 "nbformat_minor": 5
}
