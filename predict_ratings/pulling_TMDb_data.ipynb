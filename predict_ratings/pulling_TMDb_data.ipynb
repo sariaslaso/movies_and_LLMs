{
 "cells": [
  {
   "cell_type": "code",
   "execution_count": 1,
   "id": "fd347b56",
   "metadata": {},
   "outputs": [],
   "source": [
    "#from imdb_api import IMDb\n",
    "# from imdb import Cinemagoer\n",
    "\n",
    "# TMDb\n",
    "from themoviedb import TMDb\n",
    "\n",
    "import pandas as pd\n",
    "import json"
   ]
  },
  {
   "cell_type": "code",
   "execution_count": 2,
   "id": "f3cf0b68",
   "metadata": {},
   "outputs": [],
   "source": [
    "# read API key to access TMDb \n",
    "with open(\"TMDb_key.txt\") as my_key:\n",
    "    api_key = my_key.read()"
   ]
  },
  {
   "cell_type": "code",
   "execution_count": 3,
   "id": "08ba1ad7",
   "metadata": {},
   "outputs": [],
   "source": [
    "# ia = Cinemagoer()\n",
    "\n",
    "# initialize a TMDb object and set the API key\n",
    "tmdb = TMDb(key = api_key)"
   ]
  },
  {
   "cell_type": "code",
   "execution_count": 4,
   "id": "d4be1624",
   "metadata": {},
   "outputs": [],
   "source": [
    "#tmdb.movies().top_rated()\n",
    "movie = tmdb.movie(movie_id = 162892.0).details(append_to_response=\"credits\")"
   ]
  },
  {
   "cell_type": "code",
   "execution_count": 5,
   "id": "8a14a7a6",
   "metadata": {
    "scrolled": true
   },
   "outputs": [
    {
     "data": {
      "text/plain": [
       "Movie(id=162892, poster_path='/ytHtwRIz6De6jYFNi31wdffaXyK.jpg', adult=False, overview='A Girl Thing is a mini-series that revolves around a New York city street, a coffee house and a shrinks office. Dr. Beth Noonan is the therapist to one star per hour. Hour one deals with a woman not capable of having a relationship. Hour Two is about sisters who hate each other, trying to get along one last time. Hour Three is about adultery.', release_date=datetime.date(2001, 1, 19), genre_ids=None, original_title='A Girl Thing', original_language='en', title='A Girl Thing', backdrop_path=None, popularity=4.252, vote_count=7, video=False, vote_average=4.214, media_type=<MediaType.movie: 'movie'>, belongs_to_collection=None, budget=0, genres=[], homepage='', imdb_id='tt0249603', production_companies=[], production_countries=[], revenue=0, runtime=237, spoken_languages=[], status='Released', tagline=\"Sex, love, relationships, family... It's enough to drive you crazy.\", alternative_titles=None, credits=Credits(id=None, cast=[Cast(id=689, adult=False, gender=1, known_for_department='Acting', name='Kate Capshaw', original_name='Kate Capshaw', popularity=45.283, profile_path='/dhwyfvVeF7TNnfMY74Wkab9iCgm.jpg', cast_id=1, character='Casey Montgomery', credit_id='52fe4c60c3a36847f822aff7', order=0, total_episode_count=None, roles=None), Cast(id=8893, adult=False, gender=1, known_for_department='Acting', name='Stockard Channing', original_name='Stockard Channing', popularity=41.086, profile_path='/qAYBGvapAnnhpoZuYFyoqetncs5.jpg', cast_id=5, character='Dr. Beth Noonan', credit_id='5c707e9ec3a3685a3211181b', order=1, total_episode_count=None, roles=None), Cast(id=28412, adult=False, gender=1, known_for_department='Acting', name='Rebecca De Mornay', original_name='Rebecca De Mornay', popularity=51.386, profile_path='/bGSvflCmfywasc3U8QAsJPaAek4.jpg', cast_id=2, character='Kim McCormack', credit_id='52fe4c60c3a36847f822affb', order=2, total_episode_count=None, roles=None), Cast(id=12021, adult=False, gender=1, known_for_department='Acting', name='Mia Farrow', original_name='Mia Farrow', popularity=48.803, profile_path='/kuLfS2jQOnfIOwCO7RHlwjDIERQ.jpg', cast_id=3, character='Betty McCarthy', credit_id='52fe4c60c3a36847f822afff', order=3, total_episode_count=None, roles=None), Cast(id=2713, adult=False, gender=1, known_for_department='Acting', name='Linda Hamilton', original_name='Linda Hamilton', popularity=32.318, profile_path='/7FNn9Z5xkRS9EFbGL2tpmpph9xV.jpg', cast_id=6, character='Rachel Logan', credit_id='5c707ebb0e0a262c06793e56', order=4, total_episode_count=None, roles=None), Cast(id=21104, adult=False, gender=1, known_for_department='Acting', name='Glenne Headly', original_name='Glenne Headly', popularity=34.32, profile_path='/ucndAdXmTfF6PfZx3tIMOOOOGcL.jpg', cast_id=7, character='Helen McCormack', credit_id='5c707eca0e0a262c0f793c37', order=5, total_episode_count=None, roles=None), Cast(id=19, adult=False, gender=1, known_for_department='Acting', name='Allison Janney', original_name='Allison Janney', popularity=27.935, profile_path='/hpBKWV1jjoXQbr1s0iUZTSvw582.jpg', cast_id=8, character='Kathy McCormack', credit_id='5c707ed20e0a262c11793db1', order=6, total_episode_count=None, roles=None), Cast(id=5590, adult=False, gender=1, known_for_department='Acting', name='Elle Macpherson', original_name='Elle Macpherson', popularity=19.02, profile_path='/eIuwJxRydMeHnyjhFPPzQ88Hbx1.jpg', cast_id=9, character='Lauren Travis', credit_id='5c707ee3c3a3685a491112c1', order=7, total_episode_count=None, roles=None), Cast(id=20187, adult=False, gender=1, known_for_department='Acting', name='Camryn Manheim', original_name='Camryn Manheim', popularity=36.525, profile_path='/jBriBpXLkgJW7ONUIMuK1k99Ywp.jpg', cast_id=10, character='Suzanne Nabor', credit_id='5c707ef39251415ee2af0ce4', order=8, total_episode_count=None, roles=None), Cast(id=16217, adult=False, gender=1, known_for_department='Acting', name='Lynn Whitfield', original_name='Lynn Whitfield', popularity=30.929, profile_path='/wXSwJplyOgANJKTRvOAsvqURbP0.jpg', cast_id=11, character='Nia Morgan', credit_id='5c707f030e0a262c1f7940e3', order=9, total_episode_count=None, roles=None), Cast(id=42307, adult=False, gender=1, known_for_department='Acting', name='Peta Wilson', original_name='Peta Wilson', popularity=27.91, profile_path='/eFmvcjqjPiaF4YzwBkI5WIwwE1h.jpg', cast_id=12, character='Alex', credit_id='5c707f0ac3a3685a3c1118b0', order=10, total_episode_count=None, roles=None), Cast(id=182906, adult=False, gender=2, known_for_department='Acting', name='Terry Barclay', original_name='Terry Barclay', popularity=4.668, profile_path=None, cast_id=13, character='TV Newsman', credit_id='5e8f9750d35dea0011741487', order=11, total_episode_count=None, roles=None), Cast(id=43853, adult=False, gender=1, known_for_department='Acting', name='Irma P. Hall', original_name='Irma P. Hall', popularity=24.588, profile_path='/kKLDJvpAE1uKLeTw5jUmBwPgqOd.jpg', cast_id=14, character='Alice (Housekeeper)', credit_id='6471531fbe2d4900bf9d2afd', order=12, total_episode_count=None, roles=None), Cast(id=452, adult=False, gender=1, known_for_department='Acting', name='Margo Martindale', original_name='Margo Martindale', popularity=30.033, profile_path='/nwqKSFnDAwBe6fXDhQZW57cTayO.jpg', cast_id=15, character='May', credit_id='647153398813e4010356bb93', order=13, total_episode_count=None, roles=None), Cast(id=2154, adult=False, gender=2, known_for_department='Acting', name='Scott Bakula', original_name='Scott Bakula', popularity=34.773, profile_path='/1PEcN3iChtgMIr4iAZxj5O4YLSY.jpg', cast_id=16, character='Paul Morgan', credit_id='6471534fbe2d4900f9933608', order=14, total_episode_count=None, roles=None), Cast(id=21089, adult=False, gender=2, known_for_department='Acting', name='Bruce Greenwood', original_name='Bruce Greenwood', popularity=46.025, profile_path='/rVpyddWneBBYYzYhMRmWoHMg3Hg.jpg', cast_id=17, character='Frank', credit_id='64715359be2d4900a7d55f29', order=15, total_episode_count=None, roles=None), Cast(id=1213786, adult=False, gender=2, known_for_department='Acting', name='Brent Spiner', original_name='Brent Spiner', popularity=15.941, profile_path='/wHaOTfxOEKOPssDYaSSB5zenml4.jpg', cast_id=18, character='Bob', credit_id='647153659ae61300a80680aa', order=16, total_episode_count=None, roles=None)], crew=[Crew(id=202122, adult=False, gender=1, known_for_department='Directing', name='Lee Rose', original_name='Lee Rose', popularity=5.894, profile_path=None, credit_id='5a8ea9ee0e0a263e71013d55', department='Directing', job='Director', total_episode_count=None, jobs=None, order=None)], guest_stars=None), external_ids=None, images=None, keywords=None, recommendations=None, release_dates=None, reviews=None, similar=None, translations=None, videos=None, watch_providers=None)"
      ]
     },
     "execution_count": 5,
     "metadata": {},
     "output_type": "execute_result"
    }
   ],
   "source": [
    "movie"
   ]
  },
  {
   "cell_type": "code",
   "execution_count": 6,
   "id": "ff5b72f6",
   "metadata": {},
   "outputs": [
    {
     "data": {
      "text/plain": [
       "'A Girl Thing'"
      ]
     },
     "execution_count": 6,
     "metadata": {},
     "output_type": "execute_result"
    }
   ],
   "source": [
    "movie.title"
   ]
  },
  {
   "cell_type": "code",
   "execution_count": 7,
   "id": "6cf321bb",
   "metadata": {},
   "outputs": [
    {
     "data": {
      "text/plain": [
       "[]"
      ]
     },
     "execution_count": 7,
     "metadata": {},
     "output_type": "execute_result"
    }
   ],
   "source": [
    "movie.genres"
   ]
  },
  {
   "cell_type": "code",
   "execution_count": 8,
   "id": "0ca8899e",
   "metadata": {},
   "outputs": [
    {
     "data": {
      "text/plain": [
       "[Cast(id=689, adult=False, gender=1, known_for_department='Acting', name='Kate Capshaw', original_name='Kate Capshaw', popularity=45.283, profile_path='/dhwyfvVeF7TNnfMY74Wkab9iCgm.jpg', cast_id=1, character='Casey Montgomery', credit_id='52fe4c60c3a36847f822aff7', order=0, total_episode_count=None, roles=None),\n",
       " Cast(id=8893, adult=False, gender=1, known_for_department='Acting', name='Stockard Channing', original_name='Stockard Channing', popularity=41.086, profile_path='/qAYBGvapAnnhpoZuYFyoqetncs5.jpg', cast_id=5, character='Dr. Beth Noonan', credit_id='5c707e9ec3a3685a3211181b', order=1, total_episode_count=None, roles=None),\n",
       " Cast(id=28412, adult=False, gender=1, known_for_department='Acting', name='Rebecca De Mornay', original_name='Rebecca De Mornay', popularity=51.386, profile_path='/bGSvflCmfywasc3U8QAsJPaAek4.jpg', cast_id=2, character='Kim McCormack', credit_id='52fe4c60c3a36847f822affb', order=2, total_episode_count=None, roles=None),\n",
       " Cast(id=12021, adult=False, gender=1, known_for_department='Acting', name='Mia Farrow', original_name='Mia Farrow', popularity=48.803, profile_path='/kuLfS2jQOnfIOwCO7RHlwjDIERQ.jpg', cast_id=3, character='Betty McCarthy', credit_id='52fe4c60c3a36847f822afff', order=3, total_episode_count=None, roles=None),\n",
       " Cast(id=2713, adult=False, gender=1, known_for_department='Acting', name='Linda Hamilton', original_name='Linda Hamilton', popularity=32.318, profile_path='/7FNn9Z5xkRS9EFbGL2tpmpph9xV.jpg', cast_id=6, character='Rachel Logan', credit_id='5c707ebb0e0a262c06793e56', order=4, total_episode_count=None, roles=None),\n",
       " Cast(id=21104, adult=False, gender=1, known_for_department='Acting', name='Glenne Headly', original_name='Glenne Headly', popularity=34.32, profile_path='/ucndAdXmTfF6PfZx3tIMOOOOGcL.jpg', cast_id=7, character='Helen McCormack', credit_id='5c707eca0e0a262c0f793c37', order=5, total_episode_count=None, roles=None),\n",
       " Cast(id=19, adult=False, gender=1, known_for_department='Acting', name='Allison Janney', original_name='Allison Janney', popularity=27.935, profile_path='/hpBKWV1jjoXQbr1s0iUZTSvw582.jpg', cast_id=8, character='Kathy McCormack', credit_id='5c707ed20e0a262c11793db1', order=6, total_episode_count=None, roles=None),\n",
       " Cast(id=5590, adult=False, gender=1, known_for_department='Acting', name='Elle Macpherson', original_name='Elle Macpherson', popularity=19.02, profile_path='/eIuwJxRydMeHnyjhFPPzQ88Hbx1.jpg', cast_id=9, character='Lauren Travis', credit_id='5c707ee3c3a3685a491112c1', order=7, total_episode_count=None, roles=None),\n",
       " Cast(id=20187, adult=False, gender=1, known_for_department='Acting', name='Camryn Manheim', original_name='Camryn Manheim', popularity=36.525, profile_path='/jBriBpXLkgJW7ONUIMuK1k99Ywp.jpg', cast_id=10, character='Suzanne Nabor', credit_id='5c707ef39251415ee2af0ce4', order=8, total_episode_count=None, roles=None),\n",
       " Cast(id=16217, adult=False, gender=1, known_for_department='Acting', name='Lynn Whitfield', original_name='Lynn Whitfield', popularity=30.929, profile_path='/wXSwJplyOgANJKTRvOAsvqURbP0.jpg', cast_id=11, character='Nia Morgan', credit_id='5c707f030e0a262c1f7940e3', order=9, total_episode_count=None, roles=None),\n",
       " Cast(id=42307, adult=False, gender=1, known_for_department='Acting', name='Peta Wilson', original_name='Peta Wilson', popularity=27.91, profile_path='/eFmvcjqjPiaF4YzwBkI5WIwwE1h.jpg', cast_id=12, character='Alex', credit_id='5c707f0ac3a3685a3c1118b0', order=10, total_episode_count=None, roles=None),\n",
       " Cast(id=182906, adult=False, gender=2, known_for_department='Acting', name='Terry Barclay', original_name='Terry Barclay', popularity=4.668, profile_path=None, cast_id=13, character='TV Newsman', credit_id='5e8f9750d35dea0011741487', order=11, total_episode_count=None, roles=None),\n",
       " Cast(id=43853, adult=False, gender=1, known_for_department='Acting', name='Irma P. Hall', original_name='Irma P. Hall', popularity=24.588, profile_path='/kKLDJvpAE1uKLeTw5jUmBwPgqOd.jpg', cast_id=14, character='Alice (Housekeeper)', credit_id='6471531fbe2d4900bf9d2afd', order=12, total_episode_count=None, roles=None),\n",
       " Cast(id=452, adult=False, gender=1, known_for_department='Acting', name='Margo Martindale', original_name='Margo Martindale', popularity=30.033, profile_path='/nwqKSFnDAwBe6fXDhQZW57cTayO.jpg', cast_id=15, character='May', credit_id='647153398813e4010356bb93', order=13, total_episode_count=None, roles=None),\n",
       " Cast(id=2154, adult=False, gender=2, known_for_department='Acting', name='Scott Bakula', original_name='Scott Bakula', popularity=34.773, profile_path='/1PEcN3iChtgMIr4iAZxj5O4YLSY.jpg', cast_id=16, character='Paul Morgan', credit_id='6471534fbe2d4900f9933608', order=14, total_episode_count=None, roles=None),\n",
       " Cast(id=21089, adult=False, gender=2, known_for_department='Acting', name='Bruce Greenwood', original_name='Bruce Greenwood', popularity=46.025, profile_path='/rVpyddWneBBYYzYhMRmWoHMg3Hg.jpg', cast_id=17, character='Frank', credit_id='64715359be2d4900a7d55f29', order=15, total_episode_count=None, roles=None),\n",
       " Cast(id=1213786, adult=False, gender=2, known_for_department='Acting', name='Brent Spiner', original_name='Brent Spiner', popularity=15.941, profile_path='/wHaOTfxOEKOPssDYaSSB5zenml4.jpg', cast_id=18, character='Bob', credit_id='647153659ae61300a80680aa', order=16, total_episode_count=None, roles=None)]"
      ]
     },
     "execution_count": 8,
     "metadata": {},
     "output_type": "execute_result"
    }
   ],
   "source": [
    "movie.credits.cast"
   ]
  },
  {
   "cell_type": "code",
   "execution_count": 9,
   "id": "f0c1c398",
   "metadata": {
    "scrolled": true
   },
   "outputs": [
    {
     "data": {
      "text/plain": [
       "4.214"
      ]
     },
     "execution_count": 9,
     "metadata": {},
     "output_type": "execute_result"
    }
   ],
   "source": [
    "movie.vote_average"
   ]
  },
  {
   "cell_type": "code",
   "execution_count": 10,
   "id": "d2b7cf82",
   "metadata": {},
   "outputs": [
    {
     "data": {
      "text/plain": [
       "'A Girl Thing is a mini-series that revolves around a New York city street, a coffee house and a shrinks office. Dr. Beth Noonan is the therapist to one star per hour. Hour one deals with a woman not capable of having a relationship. Hour Two is about sisters who hate each other, trying to get along one last time. Hour Three is about adultery.'"
      ]
     },
     "execution_count": 10,
     "metadata": {},
     "output_type": "execute_result"
    }
   ],
   "source": [
    "movie.overview"
   ]
  },
  {
   "cell_type": "code",
   "execution_count": 11,
   "id": "9a6c9f60",
   "metadata": {},
   "outputs": [],
   "source": [
    "# join movies.csv, links.csv and ratings.csv by movieId\n",
    "\n",
    "movies_ml = pd.read_csv(\"../datasets/ml-25m/movies.csv\")\n",
    "links_ml = pd.read_csv(\"../datasets/ml-25m/links.csv\")"
   ]
  },
  {
   "cell_type": "code",
   "execution_count": 12,
   "id": "9986d43e",
   "metadata": {},
   "outputs": [
    {
     "data": {
      "text/html": [
       "<div>\n",
       "<style scoped>\n",
       "    .dataframe tbody tr th:only-of-type {\n",
       "        vertical-align: middle;\n",
       "    }\n",
       "\n",
       "    .dataframe tbody tr th {\n",
       "        vertical-align: top;\n",
       "    }\n",
       "\n",
       "    .dataframe thead th {\n",
       "        text-align: right;\n",
       "    }\n",
       "</style>\n",
       "<table border=\"1\" class=\"dataframe\">\n",
       "  <thead>\n",
       "    <tr style=\"text-align: right;\">\n",
       "      <th></th>\n",
       "      <th>movieId</th>\n",
       "      <th>title</th>\n",
       "      <th>genres</th>\n",
       "      <th>tmdbId</th>\n",
       "    </tr>\n",
       "  </thead>\n",
       "  <tbody>\n",
       "    <tr>\n",
       "      <th>0</th>\n",
       "      <td>1</td>\n",
       "      <td>Toy Story (1995)</td>\n",
       "      <td>Adventure|Animation|Children|Comedy|Fantasy</td>\n",
       "      <td>862.0</td>\n",
       "    </tr>\n",
       "    <tr>\n",
       "      <th>1</th>\n",
       "      <td>2</td>\n",
       "      <td>Jumanji (1995)</td>\n",
       "      <td>Adventure|Children|Fantasy</td>\n",
       "      <td>8844.0</td>\n",
       "    </tr>\n",
       "    <tr>\n",
       "      <th>2</th>\n",
       "      <td>3</td>\n",
       "      <td>Grumpier Old Men (1995)</td>\n",
       "      <td>Comedy|Romance</td>\n",
       "      <td>15602.0</td>\n",
       "    </tr>\n",
       "    <tr>\n",
       "      <th>3</th>\n",
       "      <td>4</td>\n",
       "      <td>Waiting to Exhale (1995)</td>\n",
       "      <td>Comedy|Drama|Romance</td>\n",
       "      <td>31357.0</td>\n",
       "    </tr>\n",
       "    <tr>\n",
       "      <th>4</th>\n",
       "      <td>5</td>\n",
       "      <td>Father of the Bride Part II (1995)</td>\n",
       "      <td>Comedy</td>\n",
       "      <td>11862.0</td>\n",
       "    </tr>\n",
       "    <tr>\n",
       "      <th>...</th>\n",
       "      <td>...</td>\n",
       "      <td>...</td>\n",
       "      <td>...</td>\n",
       "      <td>...</td>\n",
       "    </tr>\n",
       "    <tr>\n",
       "      <th>62418</th>\n",
       "      <td>209157</td>\n",
       "      <td>We (2018)</td>\n",
       "      <td>Drama</td>\n",
       "      <td>499546.0</td>\n",
       "    </tr>\n",
       "    <tr>\n",
       "      <th>62419</th>\n",
       "      <td>209159</td>\n",
       "      <td>Window of the Soul (2001)</td>\n",
       "      <td>Documentary</td>\n",
       "      <td>63407.0</td>\n",
       "    </tr>\n",
       "    <tr>\n",
       "      <th>62420</th>\n",
       "      <td>209163</td>\n",
       "      <td>Bad Poems (2018)</td>\n",
       "      <td>Comedy|Drama</td>\n",
       "      <td>553036.0</td>\n",
       "    </tr>\n",
       "    <tr>\n",
       "      <th>62421</th>\n",
       "      <td>209169</td>\n",
       "      <td>A Girl Thing (2001)</td>\n",
       "      <td>(no genres listed)</td>\n",
       "      <td>162892.0</td>\n",
       "    </tr>\n",
       "    <tr>\n",
       "      <th>62422</th>\n",
       "      <td>209171</td>\n",
       "      <td>Women of Devil's Island (1962)</td>\n",
       "      <td>Action|Adventure|Drama</td>\n",
       "      <td>79513.0</td>\n",
       "    </tr>\n",
       "  </tbody>\n",
       "</table>\n",
       "<p>62423 rows × 4 columns</p>\n",
       "</div>"
      ],
      "text/plain": [
       "       movieId                               title  \\\n",
       "0            1                    Toy Story (1995)   \n",
       "1            2                      Jumanji (1995)   \n",
       "2            3             Grumpier Old Men (1995)   \n",
       "3            4            Waiting to Exhale (1995)   \n",
       "4            5  Father of the Bride Part II (1995)   \n",
       "...        ...                                 ...   \n",
       "62418   209157                           We (2018)   \n",
       "62419   209159           Window of the Soul (2001)   \n",
       "62420   209163                    Bad Poems (2018)   \n",
       "62421   209169                 A Girl Thing (2001)   \n",
       "62422   209171      Women of Devil's Island (1962)   \n",
       "\n",
       "                                            genres    tmdbId  \n",
       "0      Adventure|Animation|Children|Comedy|Fantasy     862.0  \n",
       "1                       Adventure|Children|Fantasy    8844.0  \n",
       "2                                   Comedy|Romance   15602.0  \n",
       "3                             Comedy|Drama|Romance   31357.0  \n",
       "4                                           Comedy   11862.0  \n",
       "...                                            ...       ...  \n",
       "62418                                        Drama  499546.0  \n",
       "62419                                  Documentary   63407.0  \n",
       "62420                                 Comedy|Drama  553036.0  \n",
       "62421                           (no genres listed)  162892.0  \n",
       "62422                       Action|Adventure|Drama   79513.0  \n",
       "\n",
       "[62423 rows x 4 columns]"
      ]
     },
     "execution_count": 12,
     "metadata": {},
     "output_type": "execute_result"
    }
   ],
   "source": [
    "movielens_data = movies_ml.join(links_ml.set_index('movieId'), on = 'movieId')\n",
    "movielens_data = movielens_data.drop(columns = ['imdbId'])\n",
    "\n",
    "# movie Ids linked to the TMDb to be used to pull the summaries\n",
    "ids_tmdb = movielens_data['tmdbId']\n",
    "movielens_data"
   ]
  },
  {
   "cell_type": "code",
   "execution_count": 13,
   "id": "fb21909f",
   "metadata": {},
   "outputs": [
    {
     "data": {
      "text/plain": [
       "'Mary Poppins (1964)'"
      ]
     },
     "execution_count": 13,
     "metadata": {},
     "output_type": "execute_result"
    }
   ],
   "source": [
    "title_example = movielens_data[movielens_data['tmdbId'] == ids_tmdb[1005]]['title']\n",
    "title_example.values[0]"
   ]
  },
  {
   "cell_type": "code",
   "execution_count": 14,
   "id": "338e1ec6",
   "metadata": {},
   "outputs": [
    {
     "data": {
      "text/plain": [
       "'[\"foo\", {\"bar\": [\"baz\", null, 1.0, 2]}]'"
      ]
     },
     "execution_count": 14,
     "metadata": {},
     "output_type": "execute_result"
    }
   ],
   "source": [
    "j = json.dumps(['foo', {'bar': ('baz', None, 1.0, 2)}])\n",
    "j"
   ]
  },
  {
   "cell_type": "code",
   "execution_count": 15,
   "id": "7768e7eb",
   "metadata": {},
   "outputs": [
    {
     "data": {
      "text/plain": [
       "str"
      ]
     },
     "execution_count": 15,
     "metadata": {},
     "output_type": "execute_result"
    }
   ],
   "source": [
    "type(j)"
   ]
  },
  {
   "cell_type": "code",
   "execution_count": 16,
   "id": "c2dd63bd",
   "metadata": {},
   "outputs": [
    {
     "data": {
      "text/plain": [
       "{'a': [1, 2]}"
      ]
     },
     "execution_count": 16,
     "metadata": {},
     "output_type": "execute_result"
    }
   ],
   "source": [
    "a = json.loads('{\"a\": [1, 2]}')\n",
    "a"
   ]
  },
  {
   "cell_type": "code",
   "execution_count": 17,
   "id": "2b7bfa83",
   "metadata": {},
   "outputs": [
    {
     "data": {
      "text/plain": [
       "dict"
      ]
     },
     "execution_count": 17,
     "metadata": {},
     "output_type": "execute_result"
    }
   ],
   "source": [
    "type(a)"
   ]
  },
  {
   "cell_type": "code",
   "execution_count": 18,
   "id": "29ce8f7f",
   "metadata": {},
   "outputs": [
    {
     "data": {
      "text/plain": [
       "[1, 2]"
      ]
     },
     "execution_count": 18,
     "metadata": {},
     "output_type": "execute_result"
    }
   ],
   "source": [
    "a[\"a\"]"
   ]
  },
  {
   "cell_type": "code",
   "execution_count": 19,
   "id": "5208ee32",
   "metadata": {},
   "outputs": [
    {
     "data": {
      "text/plain": [
       "'{\"key_1\": 1, \"key_2\": [1, 2, 3, 4]}'"
      ]
     },
     "execution_count": 19,
     "metadata": {},
     "output_type": "execute_result"
    }
   ],
   "source": [
    "d = {\"key_1\" : 1, \"key_2\" : [1,2,3,4]}\n",
    "\n",
    "json.dumps(d)"
   ]
  },
  {
   "cell_type": "code",
   "execution_count": 20,
   "id": "85876329",
   "metadata": {},
   "outputs": [
    {
     "data": {
      "text/plain": [
       "{'key_1': 1, 'key_2': [1, 2, 3, 4]}"
      ]
     },
     "execution_count": 20,
     "metadata": {},
     "output_type": "execute_result"
    }
   ],
   "source": [
    "json.loads(json.dumps(d))"
   ]
  },
  {
   "cell_type": "code",
   "execution_count": 21,
   "id": "2845317e",
   "metadata": {},
   "outputs": [],
   "source": [
    "try:\n",
    "    #open file \"r\"\n",
    "    #parse file collect ids of already collected movies\n",
    "    #return set of ids\n",
    "\n",
    "    with open(\"movies_db\", \"r\") as movies_file:\n",
    "        movies_entries = movies_file.readlines()\n",
    "        pulled_ids = set()\n",
    "    \n",
    "        for entry in movies_entries:\n",
    "            movie_id = json.loads(entry)[\"id\"]\n",
    "            pulled_ids.add(movie_id)\n",
    "    \n",
    "    \n",
    "except FileNotFoundError:\n",
    "    pulled_ids = set()\n"
   ]
  },
  {
   "cell_type": "code",
   "execution_count": null,
   "id": "35efc589",
   "metadata": {},
   "outputs": [],
   "source": [
    "with open(\"movies_db\", \"a\") as outfile:\n",
    "\n",
    "    for i, row in movielens_data.iterrows():\n",
    "        \n",
    "        tmdb_id = row.tmdbId\n",
    "        \n",
    "        #check if you have seen the m_id already\n",
    "        if tmdb_id in pulled_ids:\n",
    "            continue\n",
    "        \n",
    "        #get info you want from the movie object\n",
    "        #get movie title, genres from movielens database\n",
    "        movie_title = row.title[:-7]\n",
    "        movie_genres = row.genres\n",
    "        \n",
    "        #get example from tmdb by tmdb_id using the API\n",
    "        movie_tmdb_data = tmdb.movie(movie_id = tmdb_id).details(append_to_response=\"credits\")\n",
    "        movie_summary = movie_tmdb_data.overview\n",
    "        movie_rating = movie_tmdb_data.vote_average\n",
    "    \n",
    "        \n",
    "        #make a dictionary or whatever:\n",
    "        \n",
    "        ex = {\"id\": tmdb_id, \"title\": movie_title, \"summary\": movie_summary, \"rating\": movie_rating}\n",
    "        \n",
    "        #dump to file:\n",
    "        \n",
    "        outfile.write(json.dumps(ex) + \"\\n\")\n",
    "    \n",
    "\n",
    "# in a dee end I will have a file that is one json record per line. each line representing a movie.\n",
    "\n"
   ]
  },
  {
   "cell_type": "code",
   "execution_count": null,
   "id": "2f25f9f3",
   "metadata": {},
   "outputs": [],
   "source": []
  },
  {
   "cell_type": "code",
   "execution_count": 38,
   "id": "cffa3228",
   "metadata": {},
   "outputs": [
    {
     "name": "stdout",
     "output_type": "stream",
     "text": [
      "0\n",
      "Toy Story (1995)\n",
      "Toy Story\n"
     ]
    }
   ],
   "source": [
    "for i, row in movielens_data.iterrows():\n",
    "    \n",
    "    print(i)\n",
    "#     print(row)\n",
    "    print(row.title)\n",
    "    print(row.title[:-7])\n",
    "#     print(row.tmdbId)\n",
    "#     print(row.genres)\n",
    "    break"
   ]
  },
  {
   "cell_type": "code",
   "execution_count": null,
   "id": "65349bd2",
   "metadata": {},
   "outputs": [],
   "source": []
  },
  {
   "cell_type": "code",
   "execution_count": null,
   "id": "b6836013",
   "metadata": {},
   "outputs": [],
   "source": []
  }
 ],
 "metadata": {
  "kernelspec": {
   "display_name": "Python 3 (ipykernel)",
   "language": "python",
   "name": "python3"
  },
  "language_info": {
   "codemirror_mode": {
    "name": "ipython",
    "version": 3
   },
   "file_extension": ".py",
   "mimetype": "text/x-python",
   "name": "python",
   "nbconvert_exporter": "python",
   "pygments_lexer": "ipython3",
   "version": "3.9.13"
  }
 },
 "nbformat": 4,
 "nbformat_minor": 5
}
